{
 "cells": [
  {
   "cell_type": "markdown",
   "metadata": {},
   "source": [
    "## Vamos a extrer la información de los diferentes datasets de amazon "
   ]
  },
  {
   "cell_type": "code",
   "execution_count": 1,
   "metadata": {
    "collapsed": false
   },
   "outputs": [],
   "source": [
    "import json\n",
    "import pandas as pd\n",
    "from glob import glob\n",
    "\n",
    "\n",
    "def convert(x):\n",
    "    ''' Convert a json string to a flat python dictionary\n",
    "    which can be passed into Pandas. '''\n",
    "    ob = json.loads(x)\n",
    "    for k, v in ob.items():\n",
    "        if isinstance(v, list):\n",
    "            ob[k] = ','.join(str(v))\n",
    "        elif isinstance(v, dict):\n",
    "            for kk, vv in v.items():\n",
    "                ob['%s_%s' % (k, kk)] = vv\n",
    "            del ob[k]\n",
    "    return ob\n",
    "\n",
    "def convertAllJSON2CSV(): \n",
    "    for json_filename in glob('*.json'):\n",
    "        csv_filename = '%s.csv' % json_filename[:-5]\n",
    "        print 'Converting %s to %s' % (json_filename, csv_filename)\n",
    "        df = pd.DataFrame([convert(line) for line in file(json_filename)])\n",
    "        df.to_csv(csv_filename, encoding='utf-8', index=False)"
   ]
  },
  {
   "cell_type": "code",
   "execution_count": 4,
   "metadata": {
    "collapsed": false
   },
   "outputs": [
    {
     "ename": "NameError",
     "evalue": "name 'df' is not defined",
     "output_type": "error",
     "traceback": [
      "\u001b[1;31m---------------------------------------------------------------------------\u001b[0m",
      "\u001b[1;31mNameError\u001b[0m                                 Traceback (most recent call last)",
      "\u001b[1;32m<ipython-input-4-2b46f6d809e7>\u001b[0m in \u001b[0;36m<module>\u001b[1;34m()\u001b[0m\n\u001b[0;32m      2\u001b[0m \u001b[1;32mimport\u001b[0m \u001b[0mmatplotlib\u001b[0m\u001b[1;33m.\u001b[0m\u001b[0mpyplot\u001b[0m \u001b[1;32mas\u001b[0m \u001b[0mplt\u001b[0m\u001b[1;33m\u001b[0m\u001b[0m\n\u001b[0;32m      3\u001b[0m \u001b[0mget_ipython\u001b[0m\u001b[1;33m(\u001b[0m\u001b[1;33m)\u001b[0m\u001b[1;33m.\u001b[0m\u001b[0mmagic\u001b[0m\u001b[1;33m(\u001b[0m\u001b[1;34mu'matplotlib inline'\u001b[0m\u001b[1;33m)\u001b[0m\u001b[1;33m\u001b[0m\u001b[0m\n\u001b[1;32m----> 4\u001b[1;33m \u001b[0moverallDF\u001b[0m \u001b[1;33m=\u001b[0m \u001b[0mdf\u001b[0m\u001b[1;33m[\u001b[0m\u001b[1;33m[\u001b[0m\u001b[1;34m\"overall\"\u001b[0m\u001b[1;33m,\u001b[0m\u001b[1;34m\"reviewText\"\u001b[0m\u001b[1;33m]\u001b[0m\u001b[1;33m]\u001b[0m\u001b[1;33m\u001b[0m\u001b[0m\n\u001b[0m\u001b[0;32m      5\u001b[0m \u001b[1;33m\u001b[0m\u001b[0m\n\u001b[0;32m      6\u001b[0m \u001b[0mdata\u001b[0m \u001b[1;33m=\u001b[0m \u001b[0mdf\u001b[0m\u001b[1;33m.\u001b[0m\u001b[0mgroupby\u001b[0m\u001b[1;33m(\u001b[0m\u001b[1;34m\"overall\"\u001b[0m\u001b[1;33m)\u001b[0m\u001b[1;33m[\u001b[0m\u001b[1;34m\"overall\"\u001b[0m\u001b[1;33m]\u001b[0m\u001b[1;33m.\u001b[0m\u001b[0mcount\u001b[0m\u001b[1;33m(\u001b[0m\u001b[1;33m)\u001b[0m\u001b[1;33m\u001b[0m\u001b[0m\n",
      "\u001b[1;31mNameError\u001b[0m: name 'df' is not defined"
     ]
    }
   ],
   "source": [
    "import matplotlib\n",
    "import matplotlib.pyplot as plt\n",
    "%matplotlib inline\n",
    "overallDF = df[[\"overall\",\"reviewText\"]]\n",
    "\n",
    "data = df.groupby(\"overall\")[\"overall\"].count()\n",
    "plt.bar(data.index.values,data.values)"
   ]
  },
  {
   "cell_type": "code",
   "execution_count": 5,
   "metadata": {
    "collapsed": false
   },
   "outputs": [
    {
     "ename": "NameError",
     "evalue": "name 'cachedStopWords' is not defined",
     "output_type": "error",
     "traceback": [
      "\u001b[1;31m---------------------------------------------------------------------------\u001b[0m",
      "\u001b[1;31mNameError\u001b[0m                                 Traceback (most recent call last)",
      "\u001b[1;32m<ipython-input-5-d0bf04c40b9d>\u001b[0m in \u001b[0;36m<module>\u001b[1;34m()\u001b[0m\n\u001b[1;32m----> 1\u001b[1;33m \u001b[0mcachedStopWords\u001b[0m\u001b[1;33m\u001b[0m\u001b[0m\n\u001b[0m",
      "\u001b[1;31mNameError\u001b[0m: name 'cachedStopWords' is not defined"
     ]
    }
   ],
   "source": [
    "cachedStopWords"
   ]
  },
  {
   "cell_type": "code",
   "execution_count": 36,
   "metadata": {
    "collapsed": false
   },
   "outputs": [],
   "source": [
    "# Hay que igualar y coger muestras de tamaño similar para todas las valoraciones?"
   ]
  },
  {
   "cell_type": "markdown",
   "metadata": {},
   "source": [
    "## 2.-  Procesamiento de texto sobre las reviews\n",
    "Eliminamos stopwords (TF-idf)\n",
    "aplicamos métodos de lematizacion - TextBlob, NLTK\n",
    "extraemos entidades (tokens)\n",
    "\n",
    "## 3.- Extracción de muestras de test y de entrenamiento para el modelo\n",
    "## 4.- Entrenamiento del modelo a partir de los datos de test.\n",
    "## 5.- Ejecución del modelo. Evaluación de resultados, comparación con otros modelos Sentiment Analysis."
   ]
  },
  {
   "cell_type": "code",
   "execution_count": 5,
   "metadata": {
    "collapsed": true
   },
   "outputs": [],
   "source": [
    "from textblob import TextBlob\n",
    "from textblob import Word\n"
   ]
  },
  {
   "cell_type": "code",
   "execution_count": 6,
   "metadata": {
    "collapsed": false
   },
   "outputs": [],
   "source": [
    "import nltk\n",
    "# nltk.download() hay que hacerlo la primera vez para cargar todos los corpus necesarios\n",
    "#nltk.download()"
   ]
  },
  {
   "cell_type": "code",
   "execution_count": 26,
   "metadata": {
    "collapsed": false
   },
   "outputs": [
    {
     "data": {
      "text/plain": [
       "WordList([u'I', u'highly', u'recommend', u'this', u'series', u'It', u'is', u'a', u'must', u'for', u'anyone', u'who', u'is', u'yearning', u'to', u'watch', u'grown', u'up', u'television', u'Complex', u'character', u'and', u'plot', u'to', u'keep', u'one', u'totally', u'involved', u'Thank', u'you', u'Amazin', u'Prime'])"
      ]
     },
     "execution_count": 26,
     "metadata": {},
     "output_type": "execute_result"
    }
   ],
   "source": [
    "TextBlob(overallDF[\"reviewText\"][1]).words.lemmatize()\n"
   ]
  },
  {
   "cell_type": "markdown",
   "metadata": {},
   "source": [
    "## funcion que elimina las stopwords y aplica lematizacion"
   ]
  },
  {
   "cell_type": "code",
   "execution_count": 8,
   "metadata": {
    "collapsed": false
   },
   "outputs": [],
   "source": [
    "from nltk.corpus import stopwords\n",
    "\n",
    "cachedStopWords = stopwords.words(\"english\")\n",
    "\n"
   ]
  },
  {
   "cell_type": "code",
   "execution_count": 7,
   "metadata": {
    "collapsed": false
   },
   "outputs": [
    {
     "ename": "NameError",
     "evalue": "name 'cachedStopWords' is not defined",
     "output_type": "error",
     "traceback": [
      "\u001b[1;31m---------------------------------------------------------------------------\u001b[0m",
      "\u001b[1;31mNameError\u001b[0m                                 Traceback (most recent call last)",
      "\u001b[1;32m<ipython-input-7-d0bf04c40b9d>\u001b[0m in \u001b[0;36m<module>\u001b[1;34m()\u001b[0m\n\u001b[1;32m----> 1\u001b[1;33m \u001b[0mcachedStopWords\u001b[0m\u001b[1;33m\u001b[0m\u001b[0m\n\u001b[0m",
      "\u001b[1;31mNameError\u001b[0m: name 'cachedStopWords' is not defined"
     ]
    }
   ],
   "source": [
    "cachedStopWords\n"
   ]
  },
  {
   "cell_type": "code",
   "execution_count": 145,
   "metadata": {
    "collapsed": false
   },
   "outputs": [
    {
     "name": "stderr",
     "output_type": "stream",
     "text": [
      "/usr/lib/python2.7/site-packages/ipykernel/__main__.py:2: SettingWithCopyWarning: \n",
      "A value is trying to be set on a copy of a slice from a DataFrame.\n",
      "Try using .loc[row_indexer,col_indexer] = value instead\n",
      "\n",
      "See the the caveats in the documentation: http://pandas.pydata.org/pandas-docs/stable/indexing.html#indexing-view-versus-copy\n",
      "  from ipykernel import kernelapp as app\n"
     ]
    },
    {
     "data": {
      "text/plain": [
       "pandas.core.frame.DataFrame"
      ]
     },
     "execution_count": 145,
     "metadata": {},
     "output_type": "execute_result"
    }
   ],
   "source": [
    "overallDFsample=overallDF[1:5]\n",
    "overallDFsample['reviewTextLemmatized']=overallDFsample.apply(lemmatizeReviewText,axis=1)\n",
    "type (overallDFsample)"
   ]
  },
  {
   "cell_type": "code",
   "execution_count": 132,
   "metadata": {
    "collapsed": false
   },
   "outputs": [
    {
     "data": {
      "text/plain": [
       "[u'i',\n",
       " u'me',\n",
       " u'my',\n",
       " u'myself',\n",
       " u'we',\n",
       " u'our',\n",
       " u'ours',\n",
       " u'ourselves',\n",
       " u'you',\n",
       " u'your',\n",
       " u'yours',\n",
       " u'yourself',\n",
       " u'yourselves',\n",
       " u'he',\n",
       " u'him',\n",
       " u'his',\n",
       " u'himself',\n",
       " u'she',\n",
       " u'her',\n",
       " u'hers',\n",
       " u'herself',\n",
       " u'it',\n",
       " u'its',\n",
       " u'itself',\n",
       " u'they',\n",
       " u'them',\n",
       " u'their',\n",
       " u'theirs',\n",
       " u'themselves',\n",
       " u'what',\n",
       " u'which',\n",
       " u'who',\n",
       " u'whom',\n",
       " u'this',\n",
       " u'that',\n",
       " u'these',\n",
       " u'those',\n",
       " u'am',\n",
       " u'is',\n",
       " u'are',\n",
       " u'was',\n",
       " u'were',\n",
       " u'be',\n",
       " u'been',\n",
       " u'being',\n",
       " u'have',\n",
       " u'has',\n",
       " u'had',\n",
       " u'having',\n",
       " u'do',\n",
       " u'does',\n",
       " u'did',\n",
       " u'doing',\n",
       " u'a',\n",
       " u'an',\n",
       " u'the',\n",
       " u'and',\n",
       " u'but',\n",
       " u'if',\n",
       " u'or',\n",
       " u'because',\n",
       " u'as',\n",
       " u'until',\n",
       " u'while',\n",
       " u'of',\n",
       " u'at',\n",
       " u'by',\n",
       " u'for',\n",
       " u'with',\n",
       " u'about',\n",
       " u'against',\n",
       " u'between',\n",
       " u'into',\n",
       " u'through',\n",
       " u'during',\n",
       " u'before',\n",
       " u'after',\n",
       " u'above',\n",
       " u'below',\n",
       " u'to',\n",
       " u'from',\n",
       " u'up',\n",
       " u'down',\n",
       " u'in',\n",
       " u'out',\n",
       " u'on',\n",
       " u'off',\n",
       " u'over',\n",
       " u'under',\n",
       " u'again',\n",
       " u'further',\n",
       " u'then',\n",
       " u'once',\n",
       " u'here',\n",
       " u'there',\n",
       " u'when',\n",
       " u'where',\n",
       " u'why',\n",
       " u'how',\n",
       " u'all',\n",
       " u'any',\n",
       " u'both',\n",
       " u'each',\n",
       " u'few',\n",
       " u'more',\n",
       " u'most',\n",
       " u'other',\n",
       " u'some',\n",
       " u'such',\n",
       " u'no',\n",
       " u'nor',\n",
       " u'not',\n",
       " u'only',\n",
       " u'own',\n",
       " u'same',\n",
       " u'so',\n",
       " u'than',\n",
       " u'too',\n",
       " u'very',\n",
       " u's',\n",
       " u't',\n",
       " u'can',\n",
       " u'will',\n",
       " u'just',\n",
       " u'don',\n",
       " u'should',\n",
       " u'now',\n",
       " u'd',\n",
       " u'll',\n",
       " u'm',\n",
       " u'o',\n",
       " u're',\n",
       " u've',\n",
       " u'y',\n",
       " u'ain',\n",
       " u'aren',\n",
       " u'couldn',\n",
       " u'didn',\n",
       " u'doesn',\n",
       " u'hadn',\n",
       " u'hasn',\n",
       " u'haven',\n",
       " u'isn',\n",
       " u'ma',\n",
       " u'mightn',\n",
       " u'mustn',\n",
       " u'needn',\n",
       " u'shan',\n",
       " u'shouldn',\n",
       " u'wasn',\n",
       " u'weren',\n",
       " u'won',\n",
       " u'wouldn']"
      ]
     },
     "execution_count": 132,
     "metadata": {},
     "output_type": "execute_result"
    }
   ],
   "source": [
    "cachedStopWords"
   ]
  },
  {
   "cell_type": "code",
   "execution_count": 76,
   "metadata": {
    "collapsed": true
   },
   "outputs": [],
   "source": [
    "babyDf = pd.DataFrame([convert(line) for line in file('reviews_Baby_5.json')])\n",
    "babyDf.to_csv(csv_filename, encoding='utf-8', index=False)\n"
   ]
  },
  {
   "cell_type": "code",
   "execution_count": 248,
   "metadata": {
    "collapsed": false
   },
   "outputs": [],
   "source": [
    "import string\n",
    "def remove_punctuation(text):    \n",
    "    return text.translate(None, string.punctuation).lower()\n",
    "\n",
    "def lemmatizeReviewText(row):\n",
    "    words = TextBlob(row[\"review_clean\"]).words.lemmatize()\n",
    "    ext = ' '.join(word for word in words if word not in (cachedStopWords))\n",
    "    return ext"
   ]
  },
  {
   "cell_type": "code",
   "execution_count": 136,
   "metadata": {
    "collapsed": false
   },
   "outputs": [],
   "source": [
    "babyDf = pd.DataFrame([convert(line) for line in file('reviews_Baby_5.json')])\n",
    "# forzamos la columna reviewText como str para el correcto funcionamiento de remove_punctuation\n",
    "babyDf['reviewText'] = babyDf['reviewText'].astype(str)\n",
    "babyDf['review_clean'] = babyDf['reviewText'].apply(remove_punctuation)\n",
    "babyDf['review_clean']= babyDf.apply(lemmatizeReviewText, axis=1)\n",
    "babyDf['review_clean']=babyDf['review_clean'].apply(lambda x: x.lower())\n",
    "\n",
    "babyDf.to_csv('reviews_Baby_5.csv', header=True,quoting=1)\n"
   ]
  },
  {
   "cell_type": "code",
   "execution_count": 32,
   "metadata": {
    "collapsed": false
   },
   "outputs": [],
   "source": [
    "# Tratamos el dataset de Pets\n",
    "petsDf = pd.DataFrame([convert(line) for line in file('reviews_Pet_Supplies_5.json')])\n",
    "# forzamos la columna reviewText como str para el correcto funcionamiento de remove_punctuation\n",
    "petsDf['reviewText'] = petsDf['reviewText'].astype(str)\n",
    "petsDf['review_clean'] = petsDf['reviewText'].apply(remove_punctuation)\n",
    "petsDf['review_clean']= petsDf.apply(lemmatizeReviewText, axis=1)\n",
    "petsDf['review_clean']= petsDf['review_clean'].apply(lambda x: x.lower())\n",
    "petsDf.to_csv('reviews_Pet_Supplies_5.csv', header=True,quoting=1)"
   ]
  },
  {
   "cell_type": "code",
   "execution_count": 38,
   "metadata": {
    "collapsed": false
   },
   "outputs": [
    {
     "data": {
      "text/plain": [
       "318628"
      ]
     },
     "execution_count": 38,
     "metadata": {},
     "output_type": "execute_result"
    }
   ],
   "source": [
    "# Concatenamos el dataset a partir de Pets y Babies\n",
    "\n",
    "frames = [babyDf,petsDf]\n",
    "babiesPetsDf = pd.concat(frames)"
   ]
  },
  {
   "cell_type": "markdown",
   "metadata": {},
   "source": [
    "# Convertimos el dataFrame al csv que sera la fuente de entrada al modelo de ML"
   ]
  },
  {
   "cell_type": "code",
   "execution_count": 1,
   "metadata": {
    "collapsed": false
   },
   "outputs": [
    {
     "ename": "NameError",
     "evalue": "name 'babiesPetsDf' is not defined",
     "output_type": "error",
     "traceback": [
      "\u001b[1;31m---------------------------------------------------------------------------\u001b[0m",
      "\u001b[1;31mNameError\u001b[0m                                 Traceback (most recent call last)",
      "\u001b[1;32m<ipython-input-1-1b541d61fb67>\u001b[0m in \u001b[0;36m<module>\u001b[1;34m()\u001b[0m\n\u001b[0;32m      1\u001b[0m \u001b[1;33m\u001b[0m\u001b[0m\n\u001b[1;32m----> 2\u001b[1;33m \u001b[0mbabiesPetsDf\u001b[0m\u001b[1;33m.\u001b[0m\u001b[0mto_csv\u001b[0m\u001b[1;33m(\u001b[0m\u001b[1;34m'babies+pets_reviews.csv'\u001b[0m\u001b[1;33m,\u001b[0m \u001b[0mheader\u001b[0m\u001b[1;33m=\u001b[0m\u001b[0mTrue\u001b[0m\u001b[1;33m,\u001b[0m\u001b[0mquoting\u001b[0m\u001b[1;33m=\u001b[0m\u001b[1;36m1\u001b[0m\u001b[1;33m)\u001b[0m\u001b[1;33m\u001b[0m\u001b[0m\n\u001b[0m",
      "\u001b[1;31mNameError\u001b[0m: name 'babiesPetsDf' is not defined"
     ]
    }
   ],
   "source": [
    "babiesPetsDf.to_csv('babies+pets_reviews.csv', header=True,quoting=1)"
   ]
  },
  {
   "cell_type": "code",
   "execution_count": 4,
   "metadata": {
    "collapsed": false
   },
   "outputs": [
    {
     "data": {
      "text/plain": [
       "268599    nothing great thing say blue buffalo product r...\n",
       "110798    attend work conference thought would purchase ...\n",
       "218728    love company quality product excellent custome...\n",
       "220497    competitor product wa dark color crumbly made ...\n",
       "314210    easy install look great color matching highlan...\n",
       "66635     nice soft tie easily gentle teething son gum p...\n",
       "73390     product worth super sturdy imagine going last ...\n",
       "186168    isnt favorite good variety diet girl like pate...\n",
       "191465    ok dog like favorite work toy use treat since ...\n",
       "284166    beautiful vivid color sturdy even withheld 4 m...\n",
       "Name: review_clean, dtype: object"
      ]
     },
     "execution_count": 4,
     "metadata": {},
     "output_type": "execute_result"
    }
   ],
   "source": [
    "# comprobamos que está bien generado el csv volviendolo a cargar en el DF\n",
    "import json\n",
    "import pandas as pd\n",
    "babiesPetsDf=pd.read_csv('babies+pets_reviews.csv',header=False,sep=',')\n",
    "babiesPetsDf['review_clean'].sample(10)\n",
    "\n"
   ]
  },
  {
   "cell_type": "code",
   "execution_count": 12,
   "metadata": {
    "collapsed": false
   },
   "outputs": [],
   "source": [
    "#  crear un diccionario {palabra:ocurrencias}\n",
    "import numpy as np\n",
    "cnt = {}\n",
    "for linea in babiesPetsDf['review_clean'].astype(str).values:\n",
    "    for word in linea.split():\n",
    "        if (word not in cnt):\n",
    "            cnt[word] = 1\n",
    "        else:\n",
    "            cnt[word] += 1\n",
    "            \n",
    "wordsSerie=pd.Series(cnt,index=cnt.keys())\n",
    "wordsSerie=wordsSerie[wordsSerie.values>1]\n",
    "data={'a':wordsSerie.index,'b':wordsSerie.values}\n",
    "wordsDf=pd.DataFrame(data=data, index=np.arange(len(wordsSerie)))\n",
    "wordsDf=wordsDf.sort('b', ascending=False).head(1500)"
   ]
  },
  {
   "cell_type": "markdown",
   "metadata": {},
   "source": [
    "# Generamos el array de palabras importantes"
   ]
  },
  {
   "cell_type": "code",
   "execution_count": 14,
   "metadata": {
    "collapsed": false
   },
   "outputs": [],
   "source": [
    "important_words = str([str(s) for s in wordsDf['a']])\n",
    "f= open('important_words.json', 'w') \n",
    "f.write(important_words.replace(\"'\",'\"'))\n",
    "f.close()\n",
    "wordsDf.sample()"
   ]
  },
  {
   "cell_type": "markdown",
   "metadata": {
    "collapsed": true
   },
   "source": [
    "# Procesamiento de us_tweets.json --> us_tweets.csv\n",
    "conversión de us_tweets_json a us_tweets.csv para aplicar proceso de lematización y eliminación de stopwords"
   ]
  },
  {
   "cell_type": "code",
   "execution_count": 142,
   "metadata": {
    "collapsed": false
   },
   "outputs": [
    {
     "name": "stdout",
     "output_type": "stream",
     "text": [
      "Converting USA_geo.json to USA_geo.csv\n",
      "9354\n"
     ]
    }
   ],
   "source": [
    "def getTweetsDF(json_filename):\n",
    "    csv_filename = '%s.csv' % json_filename[:-5]\n",
    "    print 'Converting %s to %s' % (json_filename, csv_filename)\n",
    "    df = pd.DataFrame( columns=['id','reviewText','created_at','geo','city'])\n",
    "\n",
    "    json_data=open(json_filename).read()\n",
    "    ob = json.loads(json_data)\n",
    "    results = ob['results']\n",
    "    print(len(results))\n",
    "    for k  in results:\n",
    "\n",
    "        if (not k['geo']):\n",
    "            geo = ''\n",
    "        else:\n",
    "            idd = k['id_str']\n",
    "            text = k['text']\n",
    "            created_at = k['created_at']\n",
    "            geo= ', '.join(map(str,k['geo']['coordinates']))\n",
    "            city = k['place']['full_name']\n",
    "            SR_row = pd.Series({'id':idd, 'reviewText':text, 'created_at':created_at,'geo':'['+geo+']','city':city},name=len(df))\n",
    "            df=df.append(SR_row)\n",
    "    return df\n",
    "\n",
    "dfTweeter = getTweetsDF('USA_geo.json')"
   ]
  },
  {
   "cell_type": "markdown",
   "metadata": {},
   "source": [
    "# Tratamos el dataset de us_tweets"
   ]
  },
  {
   "cell_type": "code",
   "execution_count": 72,
   "metadata": {
    "collapsed": false
   },
   "outputs": [
    {
     "ename": "AttributeError",
     "evalue": "(\"'str' object has no attribute 'words'\", u'occurred at index 0')",
     "output_type": "error",
     "traceback": [
      "\u001b[1;31m---------------------------------------------------------------------------\u001b[0m",
      "\u001b[1;31mAttributeError\u001b[0m                            Traceback (most recent call last)",
      "\u001b[1;32m<ipython-input-72-a854e02bcc25>\u001b[0m in \u001b[0;36m<module>\u001b[1;34m()\u001b[0m\n\u001b[0;32m      3\u001b[0m \u001b[0mdfTweeter\u001b[0m\u001b[1;33m[\u001b[0m\u001b[1;34m'reviewText'\u001b[0m\u001b[1;33m]\u001b[0m \u001b[1;33m=\u001b[0m \u001b[0mdfTweeter\u001b[0m\u001b[1;33m[\u001b[0m\u001b[1;34m'reviewText'\u001b[0m\u001b[1;33m]\u001b[0m\u001b[1;33m.\u001b[0m\u001b[0mapply\u001b[0m\u001b[1;33m(\u001b[0m\u001b[1;32mlambda\u001b[0m \u001b[0mx\u001b[0m\u001b[1;33m:\u001b[0m \u001b[0mx\u001b[0m\u001b[1;33m.\u001b[0m\u001b[0mencode\u001b[0m\u001b[1;33m(\u001b[0m\u001b[1;34m'utf-8'\u001b[0m\u001b[1;33m,\u001b[0m\u001b[1;34m'ignore'\u001b[0m\u001b[1;33m)\u001b[0m\u001b[1;33m)\u001b[0m\u001b[1;33m\u001b[0m\u001b[0m\n\u001b[0;32m      4\u001b[0m \u001b[0mdfTweeter\u001b[0m\u001b[1;33m[\u001b[0m\u001b[1;34m'review_clean'\u001b[0m\u001b[1;33m]\u001b[0m \u001b[1;33m=\u001b[0m \u001b[0mdfTweeter\u001b[0m\u001b[1;33m[\u001b[0m\u001b[1;34m'reviewText'\u001b[0m\u001b[1;33m]\u001b[0m\u001b[1;33m.\u001b[0m\u001b[0mapply\u001b[0m\u001b[1;33m(\u001b[0m\u001b[0mremove_punctuation\u001b[0m\u001b[1;33m)\u001b[0m\u001b[1;33m\u001b[0m\u001b[0m\n\u001b[1;32m----> 5\u001b[1;33m \u001b[0mdfTweeter\u001b[0m\u001b[1;33m[\u001b[0m\u001b[1;34m'review_clean'\u001b[0m\u001b[1;33m]\u001b[0m\u001b[1;33m=\u001b[0m \u001b[0mdfTweeter\u001b[0m\u001b[1;33m.\u001b[0m\u001b[0mapply\u001b[0m\u001b[1;33m(\u001b[0m\u001b[0mlemmatizeReviewText\u001b[0m\u001b[1;33m,\u001b[0m \u001b[0maxis\u001b[0m\u001b[1;33m=\u001b[0m\u001b[1;36m1\u001b[0m\u001b[1;33m)\u001b[0m\u001b[1;33m\u001b[0m\u001b[0m\n\u001b[0m\u001b[0;32m      6\u001b[0m \u001b[0mdfTweeter\u001b[0m\u001b[1;33m[\u001b[0m\u001b[1;34m'review_clean'\u001b[0m\u001b[1;33m]\u001b[0m\u001b[1;33m=\u001b[0m \u001b[0mdfTweeter\u001b[0m\u001b[1;33m[\u001b[0m\u001b[1;34m'review_clean'\u001b[0m\u001b[1;33m]\u001b[0m\u001b[1;33m.\u001b[0m\u001b[0mapply\u001b[0m\u001b[1;33m(\u001b[0m\u001b[1;32mlambda\u001b[0m \u001b[0mx\u001b[0m\u001b[1;33m:\u001b[0m \u001b[0mx\u001b[0m\u001b[1;33m.\u001b[0m\u001b[0mlower\u001b[0m\u001b[1;33m(\u001b[0m\u001b[1;33m)\u001b[0m\u001b[1;33m)\u001b[0m\u001b[1;33m\u001b[0m\u001b[0m\n\u001b[0;32m      7\u001b[0m \u001b[0mdfTweeter\u001b[0m\u001b[1;33m.\u001b[0m\u001b[0mto_csv\u001b[0m\u001b[1;33m(\u001b[0m\u001b[1;34m'us_tweets.csv'\u001b[0m\u001b[1;33m,\u001b[0m \u001b[0mheader\u001b[0m\u001b[1;33m=\u001b[0m\u001b[0mTrue\u001b[0m\u001b[1;33m,\u001b[0m\u001b[0mquoting\u001b[0m\u001b[1;33m=\u001b[0m\u001b[1;36m1\u001b[0m\u001b[1;33m)\u001b[0m\u001b[1;33m\u001b[0m\u001b[0m\n",
      "\u001b[1;32m/usr/lib64/python2.7/site-packages/pandas/core/frame.pyc\u001b[0m in \u001b[0;36mapply\u001b[1;34m(self, func, axis, broadcast, raw, reduce, args, **kwds)\u001b[0m\n\u001b[0;32m   3716\u001b[0m                     \u001b[1;32mif\u001b[0m \u001b[0mreduce\u001b[0m \u001b[1;32mis\u001b[0m \u001b[0mNone\u001b[0m\u001b[1;33m:\u001b[0m\u001b[1;33m\u001b[0m\u001b[0m\n\u001b[0;32m   3717\u001b[0m                         \u001b[0mreduce\u001b[0m \u001b[1;33m=\u001b[0m \u001b[0mTrue\u001b[0m\u001b[1;33m\u001b[0m\u001b[0m\n\u001b[1;32m-> 3718\u001b[1;33m                     \u001b[1;32mreturn\u001b[0m \u001b[0mself\u001b[0m\u001b[1;33m.\u001b[0m\u001b[0m_apply_standard\u001b[0m\u001b[1;33m(\u001b[0m\u001b[0mf\u001b[0m\u001b[1;33m,\u001b[0m \u001b[0maxis\u001b[0m\u001b[1;33m,\u001b[0m \u001b[0mreduce\u001b[0m\u001b[1;33m=\u001b[0m\u001b[0mreduce\u001b[0m\u001b[1;33m)\u001b[0m\u001b[1;33m\u001b[0m\u001b[0m\n\u001b[0m\u001b[0;32m   3719\u001b[0m             \u001b[1;32melse\u001b[0m\u001b[1;33m:\u001b[0m\u001b[1;33m\u001b[0m\u001b[0m\n\u001b[0;32m   3720\u001b[0m                 \u001b[1;32mreturn\u001b[0m \u001b[0mself\u001b[0m\u001b[1;33m.\u001b[0m\u001b[0m_apply_broadcast\u001b[0m\u001b[1;33m(\u001b[0m\u001b[0mf\u001b[0m\u001b[1;33m,\u001b[0m \u001b[0maxis\u001b[0m\u001b[1;33m)\u001b[0m\u001b[1;33m\u001b[0m\u001b[0m\n",
      "\u001b[1;32m/usr/lib64/python2.7/site-packages/pandas/core/frame.pyc\u001b[0m in \u001b[0;36m_apply_standard\u001b[1;34m(self, func, axis, ignore_failures, reduce)\u001b[0m\n\u001b[0;32m   3806\u001b[0m             \u001b[1;32mtry\u001b[0m\u001b[1;33m:\u001b[0m\u001b[1;33m\u001b[0m\u001b[0m\n\u001b[0;32m   3807\u001b[0m                 \u001b[1;32mfor\u001b[0m \u001b[0mi\u001b[0m\u001b[1;33m,\u001b[0m \u001b[0mv\u001b[0m \u001b[1;32min\u001b[0m \u001b[0menumerate\u001b[0m\u001b[1;33m(\u001b[0m\u001b[0mseries_gen\u001b[0m\u001b[1;33m)\u001b[0m\u001b[1;33m:\u001b[0m\u001b[1;33m\u001b[0m\u001b[0m\n\u001b[1;32m-> 3808\u001b[1;33m                     \u001b[0mresults\u001b[0m\u001b[1;33m[\u001b[0m\u001b[0mi\u001b[0m\u001b[1;33m]\u001b[0m \u001b[1;33m=\u001b[0m \u001b[0mfunc\u001b[0m\u001b[1;33m(\u001b[0m\u001b[0mv\u001b[0m\u001b[1;33m)\u001b[0m\u001b[1;33m\u001b[0m\u001b[0m\n\u001b[0m\u001b[0;32m   3809\u001b[0m                     \u001b[0mkeys\u001b[0m\u001b[1;33m.\u001b[0m\u001b[0mappend\u001b[0m\u001b[1;33m(\u001b[0m\u001b[0mv\u001b[0m\u001b[1;33m.\u001b[0m\u001b[0mname\u001b[0m\u001b[1;33m)\u001b[0m\u001b[1;33m\u001b[0m\u001b[0m\n\u001b[0;32m   3810\u001b[0m             \u001b[1;32mexcept\u001b[0m \u001b[0mException\u001b[0m \u001b[1;32mas\u001b[0m \u001b[0me\u001b[0m\u001b[1;33m:\u001b[0m\u001b[1;33m\u001b[0m\u001b[0m\n",
      "\u001b[1;32m<ipython-input-70-2da885c46b83>\u001b[0m in \u001b[0;36mlemmatizeReviewText\u001b[1;34m(row)\u001b[0m\n\u001b[0;32m      5\u001b[0m \u001b[1;33m\u001b[0m\u001b[0m\n\u001b[0;32m      6\u001b[0m \u001b[1;32mdef\u001b[0m \u001b[0mlemmatizeReviewText\u001b[0m\u001b[1;33m(\u001b[0m\u001b[0mrow\u001b[0m\u001b[1;33m)\u001b[0m\u001b[1;33m:\u001b[0m\u001b[1;33m\u001b[0m\u001b[0m\n\u001b[1;32m----> 7\u001b[1;33m     \u001b[1;32mif\u001b[0m \u001b[1;33m(\u001b[0m\u001b[1;32mnot\u001b[0m \u001b[0mrow\u001b[0m\u001b[1;33m[\u001b[0m\u001b[1;34m\"review_clean\"\u001b[0m\u001b[1;33m]\u001b[0m\u001b[1;33m.\u001b[0m\u001b[0mwords\u001b[0m\u001b[1;33m)\u001b[0m\u001b[1;33m:\u001b[0m\u001b[1;33m\u001b[0m\u001b[0m\n\u001b[0m\u001b[0;32m      8\u001b[0m         \u001b[0mwords\u001b[0m \u001b[1;33m=\u001b[0m \u001b[1;34m''\u001b[0m\u001b[1;33m\u001b[0m\u001b[0m\n\u001b[0;32m      9\u001b[0m     \u001b[1;32melse\u001b[0m\u001b[1;33m:\u001b[0m\u001b[1;33m\u001b[0m\u001b[0m\n",
      "\u001b[1;31mAttributeError\u001b[0m: (\"'str' object has no attribute 'words'\", u'occurred at index 0')"
     ]
    }
   ],
   "source": [
    "dfTweeter['reviewText'] = dfTweeter['reviewText'].apply(lambda x: x.encode('utf-8','ignore'))\n",
    "dfTweeter['review_clean'] = dfTweeter['reviewText'].apply(remove_punctuation)\n",
    "dfTweeter['review_clean']= dfTweeter.apply(lemmatizeReviewText, axis=1)\n",
    "dfTweeter['review_clean']= dfTweeter['review_clean'].apply(lambda x: x.lower())\n",
    "dfTweeter.to_csv('us_tweets.csv', header=True,quoting=1)"
   ]
  },
  {
   "cell_type": "code",
   "execution_count": 249,
   "metadata": {
    "collapsed": false
   },
   "outputs": [],
   "source": [
    "def lemmatizeReviewTextForTweets(row):\n",
    "    a=row[\"review_clean\"].decode('unicode_escape').encode('ascii','ignore')\n",
    "    words = TextBlob(a).words.lemmatize()\n",
    "    ext = ' '.join(word for word in words if word not in (cachedStopWords))\n",
    "    return ext"
   ]
  },
  {
   "cell_type": "code",
   "execution_count": 251,
   "metadata": {
    "collapsed": false
   },
   "outputs": [
    {
     "ename": "UnicodeDecodeError",
     "evalue": "'ascii' codec can't decode byte 0xe2 in position 89: ordinal not in range(128)",
     "output_type": "error",
     "traceback": [
      "\u001b[1;31m---------------------------------------------------------------------------\u001b[0m",
      "\u001b[1;31mUnicodeDecodeError\u001b[0m                        Traceback (most recent call last)",
      "\u001b[1;32m<ipython-input-251-e2fb8107b75d>\u001b[0m in \u001b[0;36m<module>\u001b[1;34m()\u001b[0m\n\u001b[1;32m----> 1\u001b[1;33m \u001b[0mdfTweeter\u001b[0m\u001b[1;33m[\u001b[0m\u001b[1;34m'reviewText'\u001b[0m\u001b[1;33m]\u001b[0m \u001b[1;33m=\u001b[0m \u001b[0mdfTweeter\u001b[0m\u001b[1;33m[\u001b[0m\u001b[1;34m'reviewText'\u001b[0m\u001b[1;33m]\u001b[0m\u001b[1;33m.\u001b[0m\u001b[0mapply\u001b[0m\u001b[1;33m(\u001b[0m\u001b[1;32mlambda\u001b[0m \u001b[0mx\u001b[0m\u001b[1;33m:\u001b[0m \u001b[0mx\u001b[0m\u001b[1;33m.\u001b[0m\u001b[0mencode\u001b[0m\u001b[1;33m(\u001b[0m\u001b[1;34m'utf-8'\u001b[0m\u001b[1;33m,\u001b[0m\u001b[1;34m'ignore'\u001b[0m\u001b[1;33m)\u001b[0m\u001b[1;33m)\u001b[0m\u001b[1;33m\u001b[0m\u001b[0m\n\u001b[0m\u001b[0;32m      2\u001b[0m \u001b[0mdfTweeter\u001b[0m\u001b[1;33m[\u001b[0m\u001b[1;34m'review_clean'\u001b[0m\u001b[1;33m]\u001b[0m \u001b[1;33m=\u001b[0m \u001b[0mdfTweeter\u001b[0m\u001b[1;33m[\u001b[0m\u001b[1;34m'reviewText'\u001b[0m\u001b[1;33m]\u001b[0m\u001b[1;33m.\u001b[0m\u001b[0mapply\u001b[0m\u001b[1;33m(\u001b[0m\u001b[0mremove_punctuation\u001b[0m\u001b[1;33m)\u001b[0m\u001b[1;33m\u001b[0m\u001b[0m\n\u001b[0;32m      3\u001b[0m \u001b[0mdfTweeter\u001b[0m\u001b[1;33m[\u001b[0m\u001b[1;34m'review_clean'\u001b[0m\u001b[1;33m]\u001b[0m\u001b[1;33m=\u001b[0m\u001b[0mdfTweeter\u001b[0m\u001b[1;33m.\u001b[0m\u001b[0mapply\u001b[0m\u001b[1;33m(\u001b[0m\u001b[0mlemmatizeReviewTextForTweets\u001b[0m\u001b[1;33m,\u001b[0m\u001b[0maxis\u001b[0m\u001b[1;33m=\u001b[0m\u001b[1;36m1\u001b[0m\u001b[1;33m)\u001b[0m\u001b[1;33m\u001b[0m\u001b[0m\n\u001b[0;32m      4\u001b[0m \u001b[0mdfTweeter\u001b[0m\u001b[1;33m[\u001b[0m\u001b[1;34m'review_clean'\u001b[0m\u001b[1;33m]\u001b[0m\u001b[1;33m=\u001b[0m \u001b[0mdfTweeter\u001b[0m\u001b[1;33m[\u001b[0m\u001b[1;34m'review_clean'\u001b[0m\u001b[1;33m]\u001b[0m\u001b[1;33m.\u001b[0m\u001b[0mapply\u001b[0m\u001b[1;33m(\u001b[0m\u001b[1;32mlambda\u001b[0m \u001b[0mx\u001b[0m\u001b[1;33m:\u001b[0m \u001b[0mx\u001b[0m\u001b[1;33m.\u001b[0m\u001b[0mlower\u001b[0m\u001b[1;33m(\u001b[0m\u001b[1;33m)\u001b[0m\u001b[1;33m)\u001b[0m\u001b[1;33m\u001b[0m\u001b[0m\n\u001b[0;32m      5\u001b[0m \u001b[1;33m\u001b[0m\u001b[0m\n",
      "\u001b[1;32m/usr/lib64/python2.7/site-packages/pandas/core/series.pyc\u001b[0m in \u001b[0;36mapply\u001b[1;34m(self, func, convert_dtype, args, **kwds)\u001b[0m\n\u001b[0;32m   2058\u001b[0m             \u001b[0mvalues\u001b[0m \u001b[1;33m=\u001b[0m \u001b[0mlib\u001b[0m\u001b[1;33m.\u001b[0m\u001b[0mmap_infer\u001b[0m\u001b[1;33m(\u001b[0m\u001b[0mvalues\u001b[0m\u001b[1;33m,\u001b[0m \u001b[0mlib\u001b[0m\u001b[1;33m.\u001b[0m\u001b[0mTimestamp\u001b[0m\u001b[1;33m)\u001b[0m\u001b[1;33m\u001b[0m\u001b[0m\n\u001b[0;32m   2059\u001b[0m \u001b[1;33m\u001b[0m\u001b[0m\n\u001b[1;32m-> 2060\u001b[1;33m         \u001b[0mmapped\u001b[0m \u001b[1;33m=\u001b[0m \u001b[0mlib\u001b[0m\u001b[1;33m.\u001b[0m\u001b[0mmap_infer\u001b[0m\u001b[1;33m(\u001b[0m\u001b[0mvalues\u001b[0m\u001b[1;33m,\u001b[0m \u001b[0mf\u001b[0m\u001b[1;33m,\u001b[0m \u001b[0mconvert\u001b[0m\u001b[1;33m=\u001b[0m\u001b[0mconvert_dtype\u001b[0m\u001b[1;33m)\u001b[0m\u001b[1;33m\u001b[0m\u001b[0m\n\u001b[0m\u001b[0;32m   2061\u001b[0m         \u001b[1;32mif\u001b[0m \u001b[0mlen\u001b[0m\u001b[1;33m(\u001b[0m\u001b[0mmapped\u001b[0m\u001b[1;33m)\u001b[0m \u001b[1;32mand\u001b[0m \u001b[0misinstance\u001b[0m\u001b[1;33m(\u001b[0m\u001b[0mmapped\u001b[0m\u001b[1;33m[\u001b[0m\u001b[1;36m0\u001b[0m\u001b[1;33m]\u001b[0m\u001b[1;33m,\u001b[0m \u001b[0mSeries\u001b[0m\u001b[1;33m)\u001b[0m\u001b[1;33m:\u001b[0m\u001b[1;33m\u001b[0m\u001b[0m\n\u001b[0;32m   2062\u001b[0m             \u001b[1;32mfrom\u001b[0m \u001b[0mpandas\u001b[0m\u001b[1;33m.\u001b[0m\u001b[0mcore\u001b[0m\u001b[1;33m.\u001b[0m\u001b[0mframe\u001b[0m \u001b[1;32mimport\u001b[0m \u001b[0mDataFrame\u001b[0m\u001b[1;33m\u001b[0m\u001b[0m\n",
      "\u001b[1;32mpandas/src/inference.pyx\u001b[0m in \u001b[0;36mpandas.lib.map_infer (pandas/lib.c:58435)\u001b[1;34m()\u001b[0m\n",
      "\u001b[1;32m<ipython-input-251-e2fb8107b75d>\u001b[0m in \u001b[0;36m<lambda>\u001b[1;34m(x)\u001b[0m\n\u001b[1;32m----> 1\u001b[1;33m \u001b[0mdfTweeter\u001b[0m\u001b[1;33m[\u001b[0m\u001b[1;34m'reviewText'\u001b[0m\u001b[1;33m]\u001b[0m \u001b[1;33m=\u001b[0m \u001b[0mdfTweeter\u001b[0m\u001b[1;33m[\u001b[0m\u001b[1;34m'reviewText'\u001b[0m\u001b[1;33m]\u001b[0m\u001b[1;33m.\u001b[0m\u001b[0mapply\u001b[0m\u001b[1;33m(\u001b[0m\u001b[1;32mlambda\u001b[0m \u001b[0mx\u001b[0m\u001b[1;33m:\u001b[0m \u001b[0mx\u001b[0m\u001b[1;33m.\u001b[0m\u001b[0mencode\u001b[0m\u001b[1;33m(\u001b[0m\u001b[1;34m'utf-8'\u001b[0m\u001b[1;33m,\u001b[0m\u001b[1;34m'ignore'\u001b[0m\u001b[1;33m)\u001b[0m\u001b[1;33m)\u001b[0m\u001b[1;33m\u001b[0m\u001b[0m\n\u001b[0m\u001b[0;32m      2\u001b[0m \u001b[0mdfTweeter\u001b[0m\u001b[1;33m[\u001b[0m\u001b[1;34m'review_clean'\u001b[0m\u001b[1;33m]\u001b[0m \u001b[1;33m=\u001b[0m \u001b[0mdfTweeter\u001b[0m\u001b[1;33m[\u001b[0m\u001b[1;34m'reviewText'\u001b[0m\u001b[1;33m]\u001b[0m\u001b[1;33m.\u001b[0m\u001b[0mapply\u001b[0m\u001b[1;33m(\u001b[0m\u001b[0mremove_punctuation\u001b[0m\u001b[1;33m)\u001b[0m\u001b[1;33m\u001b[0m\u001b[0m\n\u001b[0;32m      3\u001b[0m \u001b[0mdfTweeter\u001b[0m\u001b[1;33m[\u001b[0m\u001b[1;34m'review_clean'\u001b[0m\u001b[1;33m]\u001b[0m\u001b[1;33m=\u001b[0m\u001b[0mdfTweeter\u001b[0m\u001b[1;33m.\u001b[0m\u001b[0mapply\u001b[0m\u001b[1;33m(\u001b[0m\u001b[0mlemmatizeReviewTextForTweets\u001b[0m\u001b[1;33m,\u001b[0m\u001b[0maxis\u001b[0m\u001b[1;33m=\u001b[0m\u001b[1;36m1\u001b[0m\u001b[1;33m)\u001b[0m\u001b[1;33m\u001b[0m\u001b[0m\n\u001b[0;32m      4\u001b[0m \u001b[0mdfTweeter\u001b[0m\u001b[1;33m[\u001b[0m\u001b[1;34m'review_clean'\u001b[0m\u001b[1;33m]\u001b[0m\u001b[1;33m=\u001b[0m \u001b[0mdfTweeter\u001b[0m\u001b[1;33m[\u001b[0m\u001b[1;34m'review_clean'\u001b[0m\u001b[1;33m]\u001b[0m\u001b[1;33m.\u001b[0m\u001b[0mapply\u001b[0m\u001b[1;33m(\u001b[0m\u001b[1;32mlambda\u001b[0m \u001b[0mx\u001b[0m\u001b[1;33m:\u001b[0m \u001b[0mx\u001b[0m\u001b[1;33m.\u001b[0m\u001b[0mlower\u001b[0m\u001b[1;33m(\u001b[0m\u001b[1;33m)\u001b[0m\u001b[1;33m)\u001b[0m\u001b[1;33m\u001b[0m\u001b[0m\n\u001b[0;32m      5\u001b[0m \u001b[1;33m\u001b[0m\u001b[0m\n",
      "\u001b[1;31mUnicodeDecodeError\u001b[0m: 'ascii' codec can't decode byte 0xe2 in position 89: ordinal not in range(128)"
     ]
    }
   ],
   "source": [
    "dfTweeter['reviewText'] = dfTweeter['reviewText'].apply(lambda x: x.encode('utf-8','ignore'))\n",
    "dfTweeter['review_clean'] = dfTweeter['reviewText'].apply(remove_punctuation)\n",
    "dfTweeter['review_clean']=dfTweeter.apply(lemmatizeReviewTextForTweets,axis=1)\n",
    "dfTweeter['review_clean']= dfTweeter['review_clean'].apply(lambda x: x.lower())\n",
    "\n",
    "\n",
    "#ext = ' '.join(word for word in words if word not in (cachedStopWords))\n",
    "#1ext"
   ]
  },
  {
   "cell_type": "code",
   "execution_count": 355,
   "metadata": {
    "collapsed": false
   },
   "outputs": [
    {
     "data": {
      "text/plain": [
       "u'supplemental health care healthcare job travel registered nurse canoncity co httpstcob9lzmi6eqt job httpstcomsfsomtdde'"
      ]
     },
     "execution_count": 355,
     "metadata": {},
     "output_type": "execute_result"
    }
   ],
   "source": [
    "dfTweeter['review_clean'][2843]"
   ]
  },
  {
   "cell_type": "code",
   "execution_count": 352,
   "metadata": {
    "collapsed": false
   },
   "outputs": [],
   "source": [
    "dfTweeterSample=dfTweeter[0:2842]"
   ]
  },
  {
   "cell_type": "code",
   "execution_count": 345,
   "metadata": {
    "collapsed": false
   },
   "outputs": [],
   "source": [
    "dfTweeterSample.to_csv('us_tweets.csv', header=True,quoting=1)"
   ]
  },
  {
   "cell_type": "code",
   "execution_count": 268,
   "metadata": {
    "collapsed": false
   },
   "outputs": [
    {
     "data": {
      "text/html": [
       "<div>\n",
       "<table border=\"1\" class=\"dataframe\">\n",
       "  <thead>\n",
       "    <tr style=\"text-align: right;\">\n",
       "      <th></th>\n",
       "      <th>id</th>\n",
       "      <th>created_at</th>\n",
       "      <th>geo</th>\n",
       "      <th>city</th>\n",
       "      <th>review_clean</th>\n",
       "    </tr>\n",
       "  </thead>\n",
       "  <tbody>\n",
       "    <tr>\n",
       "      <th>0</th>\n",
       "      <td>737913052050423808</td>\n",
       "      <td>Wed Jun 01 07:45:56 +0000 2016</td>\n",
       "      <td>[37.8646149, -122.2341905]</td>\n",
       "      <td>Oakland, CA</td>\n",
       "      <td>supplemental health care healthcare job occupa...</td>\n",
       "    </tr>\n",
       "    <tr>\n",
       "      <th>1</th>\n",
       "      <td>737913053119959040</td>\n",
       "      <td>Wed Jun 01 07:45:56 +0000 2016</td>\n",
       "      <td>[34.0522342, -118.2436849]</td>\n",
       "      <td>Los Angeles, CA</td>\n",
       "      <td>recommend anyone nursing job httpstcoskx3eguif...</td>\n",
       "    </tr>\n",
       "    <tr>\n",
       "      <th>2</th>\n",
       "      <td>737913055338713089</td>\n",
       "      <td>Wed Jun 01 07:45:56 +0000 2016</td>\n",
       "      <td>[37.69944509, -123.01210475]</td>\n",
       "      <td>California, USA</td>\n",
       "      <td>httpstcodzvgumv8zq</td>\n",
       "    </tr>\n",
       "    <tr>\n",
       "      <th>3</th>\n",
       "      <td>737913065262436352</td>\n",
       "      <td>Wed Jun 01 07:45:59 +0000 2016</td>\n",
       "      <td>[37.79184, -122.40682]</td>\n",
       "      <td>San Francisco, CA</td>\n",
       "      <td>chocolate dessert parallel37 chef rotondosf mi...</td>\n",
       "    </tr>\n",
       "    <tr>\n",
       "      <th>4</th>\n",
       "      <td>737913073479127041</td>\n",
       "      <td>Wed Jun 01 07:46:01 +0000 2016</td>\n",
       "      <td>[33.75, -84.39]</td>\n",
       "      <td>Atlanta, GA</td>\n",
       "      <td>temperature 74f gt 70f humidity 73 gt 82 wind ...</td>\n",
       "    </tr>\n",
       "    <tr>\n",
       "      <th>5</th>\n",
       "      <td>737913078558404608</td>\n",
       "      <td>Wed Jun 01 07:46:02 +0000 2016</td>\n",
       "      <td>[30.28457313, -89.43852332]</td>\n",
       "      <td>Mississippi, USA</td>\n",
       "      <td>imfarfromperfect rewritemyhistory jshizzle jsh...</td>\n",
       "    </tr>\n",
       "    <tr>\n",
       "      <th>6</th>\n",
       "      <td>737913086837940226</td>\n",
       "      <td>Wed Jun 01 07:46:04 +0000 2016</td>\n",
       "      <td>[30.456615, -91.187356]</td>\n",
       "      <td>Baton Rouge, LA</td>\n",
       "      <td>hcr108 passed request dept health hospital cre...</td>\n",
       "    </tr>\n",
       "    <tr>\n",
       "      <th>7</th>\n",
       "      <td>737913096543588352</td>\n",
       "      <td>Wed Jun 01 07:46:06 +0000 2016</td>\n",
       "      <td>[38.978862, -76.490685]</td>\n",
       "      <td>Annapolis, MD</td>\n",
       "      <td>sb64 vetoed baltimore county orphan court judg...</td>\n",
       "    </tr>\n",
       "    <tr>\n",
       "      <th>8</th>\n",
       "      <td>737913098217132032</td>\n",
       "      <td>Wed Jun 01 07:46:07 +0000 2016</td>\n",
       "      <td>[25.88414, -80.24274]</td>\n",
       "      <td>Westview, FL</td>\n",
       "      <td>posted video rollexx club night club httpstcoc...</td>\n",
       "    </tr>\n",
       "    <tr>\n",
       "      <th>9</th>\n",
       "      <td>737913106752540672</td>\n",
       "      <td>Wed Jun 01 07:46:09 +0000 2016</td>\n",
       "      <td>[38.978862, -76.490685]</td>\n",
       "      <td>Annapolis, MD</td>\n",
       "      <td>hb349 passed baltimore county education career...</td>\n",
       "    </tr>\n",
       "    <tr>\n",
       "      <th>10</th>\n",
       "      <td>737913123877879808</td>\n",
       "      <td>Wed Jun 01 07:46:13 +0000 2016</td>\n",
       "      <td>[36.16692, -115.03641]</td>\n",
       "      <td>Sunrise Manor, NV</td>\n",
       "      <td>hunted took shot outside gordonramsay steak ho...</td>\n",
       "    </tr>\n",
       "    <tr>\n",
       "      <th>11</th>\n",
       "      <td>737913129292730368</td>\n",
       "      <td>Wed Jun 01 07:46:14 +0000 2016</td>\n",
       "      <td>[40.7319055, -73.9896578]</td>\n",
       "      <td>Manhattan, NY</td>\n",
       "      <td>holy shit thebottlemen webster hall httpstco9g...</td>\n",
       "    </tr>\n",
       "    <tr>\n",
       "      <th>12</th>\n",
       "      <td>737913131683446784</td>\n",
       "      <td>Wed Jun 01 07:46:15 +0000 2016</td>\n",
       "      <td>[47.07947453, -120.00366211]</td>\n",
       "      <td>Washington, USA</td>\n",
       "      <td>website hack trap lead increase revenue httpst...</td>\n",
       "    </tr>\n",
       "    <tr>\n",
       "      <th>13</th>\n",
       "      <td>737913141993078784</td>\n",
       "      <td>Wed Jun 01 07:46:17 +0000 2016</td>\n",
       "      <td>[38.94637803, -74.91018722]</td>\n",
       "      <td>Cape May, NJ</td>\n",
       "      <td>im cview inn cape may nj httpstcolqmze3tksh</td>\n",
       "    </tr>\n",
       "    <tr>\n",
       "      <th>14</th>\n",
       "      <td>737913142232162304</td>\n",
       "      <td>Wed Jun 01 07:46:17 +0000 2016</td>\n",
       "      <td>[37.781157, -122.39872]</td>\n",
       "      <td>San Francisco, CA</td>\n",
       "      <td>geo e92dc4e56c6b97210b338305bf55b491</td>\n",
       "    </tr>\n",
       "    <tr>\n",
       "      <th>15</th>\n",
       "      <td>737913144106946561</td>\n",
       "      <td>Wed Jun 01 07:46:17 +0000 2016</td>\n",
       "      <td>[37.70463678, -122.46387013]</td>\n",
       "      <td>Daly City, CA</td>\n",
       "      <td>httpstcokbbkd5zw0y</td>\n",
       "    </tr>\n",
       "    <tr>\n",
       "      <th>16</th>\n",
       "      <td>737913154504675328</td>\n",
       "      <td>Wed Jun 01 07:46:20 +0000 2016</td>\n",
       "      <td>[37.8018, -122.4198]</td>\n",
       "      <td>San Francisco, CA</td>\n",
       "      <td>shooting pretty much nonstop last 9 day amp iv...</td>\n",
       "    </tr>\n",
       "    <tr>\n",
       "      <th>17</th>\n",
       "      <td>737913155796533248</td>\n",
       "      <td>Wed Jun 01 07:46:20 +0000 2016</td>\n",
       "      <td>[36.11615029, -115.17128052]</td>\n",
       "      <td>Paradise, NV</td>\n",
       "      <td>paris flamingo flamingo la vega hotel amp casi...</td>\n",
       "    </tr>\n",
       "    <tr>\n",
       "      <th>18</th>\n",
       "      <td>737913164021518336</td>\n",
       "      <td>Wed Jun 01 07:46:22 +0000 2016</td>\n",
       "      <td>[25.88414, -80.24274]</td>\n",
       "      <td>Westview, FL</td>\n",
       "      <td>posted video rollexx club night club httpstcov...</td>\n",
       "    </tr>\n",
       "    <tr>\n",
       "      <th>19</th>\n",
       "      <td>737913170157838336</td>\n",
       "      <td>Wed Jun 01 07:46:24 +0000 2016</td>\n",
       "      <td>[40.72576, -73.91182]</td>\n",
       "      <td>Queens, NY</td>\n",
       "      <td>fun night club baby right mdw tho held whole n...</td>\n",
       "    </tr>\n",
       "    <tr>\n",
       "      <th>20</th>\n",
       "      <td>737913180710699008</td>\n",
       "      <td>Wed Jun 01 07:46:26 +0000 2016</td>\n",
       "      <td>[32.11402957, -98.6056067]</td>\n",
       "      <td>Texas, USA</td>\n",
       "      <td>usgs08099300 sabana rv nr de leon tx height 19...</td>\n",
       "    </tr>\n",
       "    <tr>\n",
       "      <th>21</th>\n",
       "      <td>737913181616656384</td>\n",
       "      <td>Wed Jun 01 07:46:26 +0000 2016</td>\n",
       "      <td>[28.6823714, -82.1123664]</td>\n",
       "      <td>Bushnell, FL</td>\n",
       "      <td>youre retail professional bushnell fl check jo...</td>\n",
       "    </tr>\n",
       "    <tr>\n",
       "      <th>22</th>\n",
       "      <td>737913182375845888</td>\n",
       "      <td>Wed Jun 01 07:46:27 +0000 2016</td>\n",
       "      <td>[34.102726, -118.327164]</td>\n",
       "      <td>Los Angeles, CA</td>\n",
       "      <td>contact event event nightlife nightclub dance ...</td>\n",
       "    </tr>\n",
       "    <tr>\n",
       "      <th>23</th>\n",
       "      <td>737913183030149121</td>\n",
       "      <td>Wed Jun 01 07:46:27 +0000 2016</td>\n",
       "      <td>[30.08298924, -98.0077859]</td>\n",
       "      <td>Texas, USA</td>\n",
       "      <td>usgs08158700 onion ck nr driftwood tx height 5...</td>\n",
       "    </tr>\n",
       "    <tr>\n",
       "      <th>24</th>\n",
       "      <td>737913184435200000</td>\n",
       "      <td>Wed Jun 01 07:46:27 +0000 2016</td>\n",
       "      <td>[28.73664429, -99.1447556]</td>\n",
       "      <td>Texas, USA</td>\n",
       "      <td>usgs08205500 frio rv nr derby tx height 763ft ...</td>\n",
       "    </tr>\n",
       "    <tr>\n",
       "      <th>25</th>\n",
       "      <td>737913186465222658</td>\n",
       "      <td>Wed Jun 01 07:46:28 +0000 2016</td>\n",
       "      <td>[37.69910351, -123.01161171]</td>\n",
       "      <td>California, USA</td>\n",
       "      <td>httpstcooadqwtx3lx</td>\n",
       "    </tr>\n",
       "    <tr>\n",
       "      <th>26</th>\n",
       "      <td>737913197349470217</td>\n",
       "      <td>Wed Jun 01 07:46:30 +0000 2016</td>\n",
       "      <td>[43.1489516, -77.6268239]</td>\n",
       "      <td>New York, USA</td>\n",
       "      <td>year ive throwing stickydried mascara knowing ...</td>\n",
       "    </tr>\n",
       "    <tr>\n",
       "      <th>27</th>\n",
       "      <td>737913207323496448</td>\n",
       "      <td>Wed Jun 01 07:46:33 +0000 2016</td>\n",
       "      <td>[36.125257, -115.1699405]</td>\n",
       "      <td>Paradise, NV</td>\n",
       "      <td>start great dinner friend aquanoxlasvegas grea...</td>\n",
       "    </tr>\n",
       "    <tr>\n",
       "      <th>28</th>\n",
       "      <td>737913209055760386</td>\n",
       "      <td>Wed Jun 01 07:46:33 +0000 2016</td>\n",
       "      <td>[40.7253319, -74.0054946]</td>\n",
       "      <td>Manhattan, NY</td>\n",
       "      <td>newyork ny sale job corporate travel sale mana...</td>\n",
       "    </tr>\n",
       "    <tr>\n",
       "      <th>29</th>\n",
       "      <td>737913209357795329</td>\n",
       "      <td>Wed Jun 01 07:46:33 +0000 2016</td>\n",
       "      <td>[41.308274, -72.9278835]</td>\n",
       "      <td>New Haven, CT</td>\n",
       "      <td>hiring read latest job opening lsat instructor...</td>\n",
       "    </tr>\n",
       "    <tr>\n",
       "      <th>...</th>\n",
       "      <td>...</td>\n",
       "      <td>...</td>\n",
       "      <td>...</td>\n",
       "      <td>...</td>\n",
       "      <td>...</td>\n",
       "    </tr>\n",
       "    <tr>\n",
       "      <th>98</th>\n",
       "      <td>737913800360349696</td>\n",
       "      <td>Wed Jun 01 07:48:54 +0000 2016</td>\n",
       "      <td>[32.7281659, -97.3637407]</td>\n",
       "      <td>Fort Worth, TX</td>\n",
       "      <td>interested retail job near fortworth tx could ...</td>\n",
       "    </tr>\n",
       "    <tr>\n",
       "      <th>99</th>\n",
       "      <td>737913807318724609</td>\n",
       "      <td>Wed Jun 01 07:48:56 +0000 2016</td>\n",
       "      <td>[37.69967263, -123.012483]</td>\n",
       "      <td>California, USA</td>\n",
       "      <td>httpstconjvh39bemd</td>\n",
       "    </tr>\n",
       "    <tr>\n",
       "      <th>100</th>\n",
       "      <td>737913816936263680</td>\n",
       "      <td>Wed Jun 01 07:48:58 +0000 2016</td>\n",
       "      <td>[39.97136, -82.98419]</td>\n",
       "      <td>Columbus, OH</td>\n",
       "      <td>ramp restriction i670 eb i71 traffic httpstcoh...</td>\n",
       "    </tr>\n",
       "    <tr>\n",
       "      <th>101</th>\n",
       "      <td>737913862188597250</td>\n",
       "      <td>Wed Jun 01 07:49:09 +0000 2016</td>\n",
       "      <td>[36.30625325, -119.656235]</td>\n",
       "      <td>Hanford, CA</td>\n",
       "      <td>wa beyond hott today hott wa irritating wouldn...</td>\n",
       "    </tr>\n",
       "    <tr>\n",
       "      <th>102</th>\n",
       "      <td>737913870778535936</td>\n",
       "      <td>Wed Jun 01 07:49:11 +0000 2016</td>\n",
       "      <td>[43.62, -84.25]</td>\n",
       "      <td>Midland, MI</td>\n",
       "      <td>temperature 61f gt 58f humidity 82 gt 59</td>\n",
       "    </tr>\n",
       "    <tr>\n",
       "      <th>103</th>\n",
       "      <td>737913880828121088</td>\n",
       "      <td>Wed Jun 01 07:49:13 +0000 2016</td>\n",
       "      <td>[33.887901, -118.361]</td>\n",
       "      <td>Lawndale, CA</td>\n",
       "      <td>havana mania httpstcogplild4rom excellent http...</td>\n",
       "    </tr>\n",
       "    <tr>\n",
       "      <th>104</th>\n",
       "      <td>737913885580230656</td>\n",
       "      <td>Wed Jun 01 07:49:14 +0000 2016</td>\n",
       "      <td>[37.79184, -122.40682]</td>\n",
       "      <td>San Francisco, CA</td>\n",
       "      <td>chef love awesome day got truffle caviar paral...</td>\n",
       "    </tr>\n",
       "    <tr>\n",
       "      <th>105</th>\n",
       "      <td>737913897559166976</td>\n",
       "      <td>Wed Jun 01 07:49:17 +0000 2016</td>\n",
       "      <td>[32.7572289, -117.0802612]</td>\n",
       "      <td>San Diego, CA</td>\n",
       "      <td>thank much benefit cosmetic eyebrow goody exci...</td>\n",
       "    </tr>\n",
       "    <tr>\n",
       "      <th>106</th>\n",
       "      <td>737913897819222017</td>\n",
       "      <td>Wed Jun 01 07:49:17 +0000 2016</td>\n",
       "      <td>[34.8736058, -82.6926204]</td>\n",
       "      <td>Pickens, SC</td>\n",
       "      <td>retail job might great fit grocery associate h...</td>\n",
       "    </tr>\n",
       "    <tr>\n",
       "      <th>107</th>\n",
       "      <td>737913910179864577</td>\n",
       "      <td>Wed Jun 01 07:49:20 +0000 2016</td>\n",
       "      <td>[33.8041, -118.158]</td>\n",
       "      <td>Long Beach, CA</td>\n",
       "      <td>long beach california httpstcoa1wtxu2ipj</td>\n",
       "    </tr>\n",
       "    <tr>\n",
       "      <th>108</th>\n",
       "      <td>737913927376490496</td>\n",
       "      <td>Wed Jun 01 07:49:24 +0000 2016</td>\n",
       "      <td>[25.88414, -80.24274]</td>\n",
       "      <td>Westview, FL</td>\n",
       "      <td>posted video rollexx club night club httpstcof...</td>\n",
       "    </tr>\n",
       "    <tr>\n",
       "      <th>109</th>\n",
       "      <td>737913933047160832</td>\n",
       "      <td>Wed Jun 01 07:49:26 +0000 2016</td>\n",
       "      <td>[39.29, -76.61]</td>\n",
       "      <td>Baltimore, MD</td>\n",
       "      <td>temperature 70f gt 64f humidity 88 gt 100 wind...</td>\n",
       "    </tr>\n",
       "    <tr>\n",
       "      <th>110</th>\n",
       "      <td>737913935114981377</td>\n",
       "      <td>Wed Jun 01 07:49:26 +0000 2016</td>\n",
       "      <td>[37.78525, -122.41564]</td>\n",
       "      <td>San Francisco, CA</td>\n",
       "      <td>demon hunter mathaius diablo3 demonhunter rogu...</td>\n",
       "    </tr>\n",
       "    <tr>\n",
       "      <th>111</th>\n",
       "      <td>737913957466427393</td>\n",
       "      <td>Wed Jun 01 07:49:31 +0000 2016</td>\n",
       "      <td>[37.0669007, -76.33377846]</td>\n",
       "      <td>Hampton, VA</td>\n",
       "      <td>account hacked please follow new one phoenixdmt</td>\n",
       "    </tr>\n",
       "    <tr>\n",
       "      <th>112</th>\n",
       "      <td>737913969420144640</td>\n",
       "      <td>Wed Jun 01 07:49:34 +0000 2016</td>\n",
       "      <td>[42.20416667, -72.61666667]</td>\n",
       "      <td>Holyoke, MA</td>\n",
       "      <td>posted photo holyoke massachusetts httpstcob9d...</td>\n",
       "    </tr>\n",
       "    <tr>\n",
       "      <th>113</th>\n",
       "      <td>737913979775909888</td>\n",
       "      <td>Wed Jun 01 07:49:37 +0000 2016</td>\n",
       "      <td>[47.6064, -122.331]</td>\n",
       "      <td>Seattle, WA</td>\n",
       "      <td>set 3 90 see brooklynbettyb axsmart myart seat...</td>\n",
       "    </tr>\n",
       "    <tr>\n",
       "      <th>114</th>\n",
       "      <td>737913983383011328</td>\n",
       "      <td>Wed Jun 01 07:49:38 +0000 2016</td>\n",
       "      <td>[35.35078831, -118.87929836]</td>\n",
       "      <td>California, USA</td>\n",
       "      <td>im giumarra vineyard edison ca httpstcorlsmwmklkg</td>\n",
       "    </tr>\n",
       "    <tr>\n",
       "      <th>115</th>\n",
       "      <td>737913993973616640</td>\n",
       "      <td>Wed Jun 01 07:49:40 +0000 2016</td>\n",
       "      <td>[34.03, -117.81]</td>\n",
       "      <td>Diamond Bar, CA</td>\n",
       "      <td>cloud gt haze temperature 67f gt 62f humidity ...</td>\n",
       "    </tr>\n",
       "    <tr>\n",
       "      <th>116</th>\n",
       "      <td>737914004425867264</td>\n",
       "      <td>Wed Jun 01 07:49:43 +0000 2016</td>\n",
       "      <td>[36.5682, -87.3214]</td>\n",
       "      <td>Clarksville, TN</td>\n",
       "      <td>drinking double bean blonde schlafly house htt...</td>\n",
       "    </tr>\n",
       "    <tr>\n",
       "      <th>117</th>\n",
       "      <td>737914018225086464</td>\n",
       "      <td>Wed Jun 01 07:49:46 +0000 2016</td>\n",
       "      <td>[40.7095316, -80.1183689]</td>\n",
       "      <td>Cranberry, PA</td>\n",
       "      <td>recommend anyone job httpstcoqfz5tdlntp cranbe...</td>\n",
       "    </tr>\n",
       "    <tr>\n",
       "      <th>118</th>\n",
       "      <td>737914023241469952</td>\n",
       "      <td>Wed Jun 01 07:49:47 +0000 2016</td>\n",
       "      <td>[37.3058839, -89.5181476]</td>\n",
       "      <td>Cape Girardeau, MO</td>\n",
       "      <td>interested nursing job near capegirardeau mo c...</td>\n",
       "    </tr>\n",
       "    <tr>\n",
       "      <th>119</th>\n",
       "      <td>737914026773086208</td>\n",
       "      <td>Wed Jun 01 07:49:48 +0000 2016</td>\n",
       "      <td>[47.62062, -122.32133]</td>\n",
       "      <td>Seattle, WA</td>\n",
       "      <td>ingrid ella leica m4 ilford hp5 plus 400 photo...</td>\n",
       "    </tr>\n",
       "    <tr>\n",
       "      <th>120</th>\n",
       "      <td>737914028597620736</td>\n",
       "      <td>Wed Jun 01 07:49:48 +0000 2016</td>\n",
       "      <td>[34.9881988, -92.5821184]</td>\n",
       "      <td>Arkansas, USA</td>\n",
       "      <td>people change corn maze lollie httpstcom0xk0k9t0l</td>\n",
       "    </tr>\n",
       "    <tr>\n",
       "      <th>121</th>\n",
       "      <td>737914059669049346</td>\n",
       "      <td>Wed Jun 01 07:49:56 +0000 2016</td>\n",
       "      <td>[39.4370508, -76.6196915]</td>\n",
       "      <td>Lutherville, MD</td>\n",
       "      <td>hiring click apply physical therapist assistan...</td>\n",
       "    </tr>\n",
       "    <tr>\n",
       "      <th>122</th>\n",
       "      <td>737914062378565634</td>\n",
       "      <td>Wed Jun 01 07:49:56 +0000 2016</td>\n",
       "      <td>[43.59094, -89.79091]</td>\n",
       "      <td>Lake Delton, WI</td>\n",
       "      <td>found spot phot sent 1 j1s 2015 httpstco6nmc28...</td>\n",
       "    </tr>\n",
       "    <tr>\n",
       "      <th>123</th>\n",
       "      <td>737914063087382528</td>\n",
       "      <td>Wed Jun 01 07:49:57 +0000 2016</td>\n",
       "      <td>[36.1064909, -115.1645331]</td>\n",
       "      <td>Paradise, NV</td>\n",
       "      <td>topgolf golflife imalldrunkorwhatnot top golf ...</td>\n",
       "    </tr>\n",
       "    <tr>\n",
       "      <th>124</th>\n",
       "      <td>737914070435831808</td>\n",
       "      <td>Wed Jun 01 07:49:58 +0000 2016</td>\n",
       "      <td>[40.729908, -73.75419]</td>\n",
       "      <td>Queens, NY</td>\n",
       "      <td>march 7 2016 8534 215th street hollis hill que...</td>\n",
       "    </tr>\n",
       "    <tr>\n",
       "      <th>125</th>\n",
       "      <td>737914079713583104</td>\n",
       "      <td>Wed Jun 01 07:50:01 +0000 2016</td>\n",
       "      <td>[29.7683, -93.3433]</td>\n",
       "      <td>Louisiana, USA</td>\n",
       "      <td>ebbtideapp tide calcasieu pas louisiana 060120...</td>\n",
       "    </tr>\n",
       "    <tr>\n",
       "      <th>126</th>\n",
       "      <td>737914079898181632</td>\n",
       "      <td>Wed Jun 01 07:50:01 +0000 2016</td>\n",
       "      <td>[33.16566334, -96.89234376]</td>\n",
       "      <td>Little Elm, TX</td>\n",
       "      <td>world perpetual war need invest time inspiring...</td>\n",
       "    </tr>\n",
       "    <tr>\n",
       "      <th>127</th>\n",
       "      <td>737914088328724480</td>\n",
       "      <td>Wed Jun 01 07:50:03 +0000 2016</td>\n",
       "      <td>[37.69932494, -123.01191184]</td>\n",
       "      <td>California, USA</td>\n",
       "      <td>ruschamp2013jun2la 71 httpstcoyz7e5y4ieo</td>\n",
       "    </tr>\n",
       "  </tbody>\n",
       "</table>\n",
       "<p>128 rows × 5 columns</p>\n",
       "</div>"
      ],
      "text/plain": [
       "                     id                      created_at  \\\n",
       "0    737913052050423808  Wed Jun 01 07:45:56 +0000 2016   \n",
       "1    737913053119959040  Wed Jun 01 07:45:56 +0000 2016   \n",
       "2    737913055338713089  Wed Jun 01 07:45:56 +0000 2016   \n",
       "3    737913065262436352  Wed Jun 01 07:45:59 +0000 2016   \n",
       "4    737913073479127041  Wed Jun 01 07:46:01 +0000 2016   \n",
       "5    737913078558404608  Wed Jun 01 07:46:02 +0000 2016   \n",
       "6    737913086837940226  Wed Jun 01 07:46:04 +0000 2016   \n",
       "7    737913096543588352  Wed Jun 01 07:46:06 +0000 2016   \n",
       "8    737913098217132032  Wed Jun 01 07:46:07 +0000 2016   \n",
       "9    737913106752540672  Wed Jun 01 07:46:09 +0000 2016   \n",
       "10   737913123877879808  Wed Jun 01 07:46:13 +0000 2016   \n",
       "11   737913129292730368  Wed Jun 01 07:46:14 +0000 2016   \n",
       "12   737913131683446784  Wed Jun 01 07:46:15 +0000 2016   \n",
       "13   737913141993078784  Wed Jun 01 07:46:17 +0000 2016   \n",
       "14   737913142232162304  Wed Jun 01 07:46:17 +0000 2016   \n",
       "15   737913144106946561  Wed Jun 01 07:46:17 +0000 2016   \n",
       "16   737913154504675328  Wed Jun 01 07:46:20 +0000 2016   \n",
       "17   737913155796533248  Wed Jun 01 07:46:20 +0000 2016   \n",
       "18   737913164021518336  Wed Jun 01 07:46:22 +0000 2016   \n",
       "19   737913170157838336  Wed Jun 01 07:46:24 +0000 2016   \n",
       "20   737913180710699008  Wed Jun 01 07:46:26 +0000 2016   \n",
       "21   737913181616656384  Wed Jun 01 07:46:26 +0000 2016   \n",
       "22   737913182375845888  Wed Jun 01 07:46:27 +0000 2016   \n",
       "23   737913183030149121  Wed Jun 01 07:46:27 +0000 2016   \n",
       "24   737913184435200000  Wed Jun 01 07:46:27 +0000 2016   \n",
       "25   737913186465222658  Wed Jun 01 07:46:28 +0000 2016   \n",
       "26   737913197349470217  Wed Jun 01 07:46:30 +0000 2016   \n",
       "27   737913207323496448  Wed Jun 01 07:46:33 +0000 2016   \n",
       "28   737913209055760386  Wed Jun 01 07:46:33 +0000 2016   \n",
       "29   737913209357795329  Wed Jun 01 07:46:33 +0000 2016   \n",
       "..                  ...                             ...   \n",
       "98   737913800360349696  Wed Jun 01 07:48:54 +0000 2016   \n",
       "99   737913807318724609  Wed Jun 01 07:48:56 +0000 2016   \n",
       "100  737913816936263680  Wed Jun 01 07:48:58 +0000 2016   \n",
       "101  737913862188597250  Wed Jun 01 07:49:09 +0000 2016   \n",
       "102  737913870778535936  Wed Jun 01 07:49:11 +0000 2016   \n",
       "103  737913880828121088  Wed Jun 01 07:49:13 +0000 2016   \n",
       "104  737913885580230656  Wed Jun 01 07:49:14 +0000 2016   \n",
       "105  737913897559166976  Wed Jun 01 07:49:17 +0000 2016   \n",
       "106  737913897819222017  Wed Jun 01 07:49:17 +0000 2016   \n",
       "107  737913910179864577  Wed Jun 01 07:49:20 +0000 2016   \n",
       "108  737913927376490496  Wed Jun 01 07:49:24 +0000 2016   \n",
       "109  737913933047160832  Wed Jun 01 07:49:26 +0000 2016   \n",
       "110  737913935114981377  Wed Jun 01 07:49:26 +0000 2016   \n",
       "111  737913957466427393  Wed Jun 01 07:49:31 +0000 2016   \n",
       "112  737913969420144640  Wed Jun 01 07:49:34 +0000 2016   \n",
       "113  737913979775909888  Wed Jun 01 07:49:37 +0000 2016   \n",
       "114  737913983383011328  Wed Jun 01 07:49:38 +0000 2016   \n",
       "115  737913993973616640  Wed Jun 01 07:49:40 +0000 2016   \n",
       "116  737914004425867264  Wed Jun 01 07:49:43 +0000 2016   \n",
       "117  737914018225086464  Wed Jun 01 07:49:46 +0000 2016   \n",
       "118  737914023241469952  Wed Jun 01 07:49:47 +0000 2016   \n",
       "119  737914026773086208  Wed Jun 01 07:49:48 +0000 2016   \n",
       "120  737914028597620736  Wed Jun 01 07:49:48 +0000 2016   \n",
       "121  737914059669049346  Wed Jun 01 07:49:56 +0000 2016   \n",
       "122  737914062378565634  Wed Jun 01 07:49:56 +0000 2016   \n",
       "123  737914063087382528  Wed Jun 01 07:49:57 +0000 2016   \n",
       "124  737914070435831808  Wed Jun 01 07:49:58 +0000 2016   \n",
       "125  737914079713583104  Wed Jun 01 07:50:01 +0000 2016   \n",
       "126  737914079898181632  Wed Jun 01 07:50:01 +0000 2016   \n",
       "127  737914088328724480  Wed Jun 01 07:50:03 +0000 2016   \n",
       "\n",
       "                              geo                city  \\\n",
       "0      [37.8646149, -122.2341905]         Oakland, CA   \n",
       "1      [34.0522342, -118.2436849]     Los Angeles, CA   \n",
       "2    [37.69944509, -123.01210475]     California, USA   \n",
       "3          [37.79184, -122.40682]   San Francisco, CA   \n",
       "4                 [33.75, -84.39]         Atlanta, GA   \n",
       "5     [30.28457313, -89.43852332]    Mississippi, USA   \n",
       "6         [30.456615, -91.187356]     Baton Rouge, LA   \n",
       "7         [38.978862, -76.490685]       Annapolis, MD   \n",
       "8           [25.88414, -80.24274]        Westview, FL   \n",
       "9         [38.978862, -76.490685]       Annapolis, MD   \n",
       "10         [36.16692, -115.03641]   Sunrise Manor, NV   \n",
       "11      [40.7319055, -73.9896578]       Manhattan, NY   \n",
       "12   [47.07947453, -120.00366211]     Washington, USA   \n",
       "13    [38.94637803, -74.91018722]        Cape May, NJ   \n",
       "14        [37.781157, -122.39872]   San Francisco, CA   \n",
       "15   [37.70463678, -122.46387013]       Daly City, CA   \n",
       "16           [37.8018, -122.4198]   San Francisco, CA   \n",
       "17   [36.11615029, -115.17128052]        Paradise, NV   \n",
       "18          [25.88414, -80.24274]        Westview, FL   \n",
       "19          [40.72576, -73.91182]          Queens, NY   \n",
       "20     [32.11402957, -98.6056067]          Texas, USA   \n",
       "21      [28.6823714, -82.1123664]        Bushnell, FL   \n",
       "22       [34.102726, -118.327164]     Los Angeles, CA   \n",
       "23     [30.08298924, -98.0077859]          Texas, USA   \n",
       "24     [28.73664429, -99.1447556]          Texas, USA   \n",
       "25   [37.69910351, -123.01161171]     California, USA   \n",
       "26      [43.1489516, -77.6268239]       New York, USA   \n",
       "27      [36.125257, -115.1699405]        Paradise, NV   \n",
       "28      [40.7253319, -74.0054946]       Manhattan, NY   \n",
       "29       [41.308274, -72.9278835]       New Haven, CT   \n",
       "..                            ...                 ...   \n",
       "98      [32.7281659, -97.3637407]      Fort Worth, TX   \n",
       "99     [37.69967263, -123.012483]     California, USA   \n",
       "100         [39.97136, -82.98419]        Columbus, OH   \n",
       "101    [36.30625325, -119.656235]         Hanford, CA   \n",
       "102               [43.62, -84.25]         Midland, MI   \n",
       "103         [33.887901, -118.361]        Lawndale, CA   \n",
       "104        [37.79184, -122.40682]   San Francisco, CA   \n",
       "105    [32.7572289, -117.0802612]       San Diego, CA   \n",
       "106     [34.8736058, -82.6926204]         Pickens, SC   \n",
       "107           [33.8041, -118.158]      Long Beach, CA   \n",
       "108         [25.88414, -80.24274]        Westview, FL   \n",
       "109               [39.29, -76.61]       Baltimore, MD   \n",
       "110        [37.78525, -122.41564]   San Francisco, CA   \n",
       "111    [37.0669007, -76.33377846]         Hampton, VA   \n",
       "112   [42.20416667, -72.61666667]         Holyoke, MA   \n",
       "113           [47.6064, -122.331]         Seattle, WA   \n",
       "114  [35.35078831, -118.87929836]     California, USA   \n",
       "115              [34.03, -117.81]     Diamond Bar, CA   \n",
       "116           [36.5682, -87.3214]     Clarksville, TN   \n",
       "117     [40.7095316, -80.1183689]       Cranberry, PA   \n",
       "118     [37.3058839, -89.5181476]  Cape Girardeau, MO   \n",
       "119        [47.62062, -122.32133]         Seattle, WA   \n",
       "120     [34.9881988, -92.5821184]       Arkansas, USA   \n",
       "121     [39.4370508, -76.6196915]     Lutherville, MD   \n",
       "122         [43.59094, -89.79091]     Lake Delton, WI   \n",
       "123    [36.1064909, -115.1645331]        Paradise, NV   \n",
       "124        [40.729908, -73.75419]          Queens, NY   \n",
       "125           [29.7683, -93.3433]      Louisiana, USA   \n",
       "126   [33.16566334, -96.89234376]      Little Elm, TX   \n",
       "127  [37.69932494, -123.01191184]     California, USA   \n",
       "\n",
       "                                          review_clean  \n",
       "0    supplemental health care healthcare job occupa...  \n",
       "1    recommend anyone nursing job httpstcoskx3eguif...  \n",
       "2                                   httpstcodzvgumv8zq  \n",
       "3    chocolate dessert parallel37 chef rotondosf mi...  \n",
       "4    temperature 74f gt 70f humidity 73 gt 82 wind ...  \n",
       "5    imfarfromperfect rewritemyhistory jshizzle jsh...  \n",
       "6    hcr108 passed request dept health hospital cre...  \n",
       "7    sb64 vetoed baltimore county orphan court judg...  \n",
       "8    posted video rollexx club night club httpstcoc...  \n",
       "9    hb349 passed baltimore county education career...  \n",
       "10   hunted took shot outside gordonramsay steak ho...  \n",
       "11   holy shit thebottlemen webster hall httpstco9g...  \n",
       "12   website hack trap lead increase revenue httpst...  \n",
       "13         im cview inn cape may nj httpstcolqmze3tksh  \n",
       "14                geo e92dc4e56c6b97210b338305bf55b491  \n",
       "15                                  httpstcokbbkd5zw0y  \n",
       "16   shooting pretty much nonstop last 9 day amp iv...  \n",
       "17   paris flamingo flamingo la vega hotel amp casi...  \n",
       "18   posted video rollexx club night club httpstcov...  \n",
       "19   fun night club baby right mdw tho held whole n...  \n",
       "20   usgs08099300 sabana rv nr de leon tx height 19...  \n",
       "21   youre retail professional bushnell fl check jo...  \n",
       "22   contact event event nightlife nightclub dance ...  \n",
       "23   usgs08158700 onion ck nr driftwood tx height 5...  \n",
       "24   usgs08205500 frio rv nr derby tx height 763ft ...  \n",
       "25                                  httpstcooadqwtx3lx  \n",
       "26   year ive throwing stickydried mascara knowing ...  \n",
       "27   start great dinner friend aquanoxlasvegas grea...  \n",
       "28   newyork ny sale job corporate travel sale mana...  \n",
       "29   hiring read latest job opening lsat instructor...  \n",
       "..                                                 ...  \n",
       "98   interested retail job near fortworth tx could ...  \n",
       "99                                  httpstconjvh39bemd  \n",
       "100  ramp restriction i670 eb i71 traffic httpstcoh...  \n",
       "101  wa beyond hott today hott wa irritating wouldn...  \n",
       "102           temperature 61f gt 58f humidity 82 gt 59  \n",
       "103  havana mania httpstcogplild4rom excellent http...  \n",
       "104  chef love awesome day got truffle caviar paral...  \n",
       "105  thank much benefit cosmetic eyebrow goody exci...  \n",
       "106  retail job might great fit grocery associate h...  \n",
       "107           long beach california httpstcoa1wtxu2ipj  \n",
       "108  posted video rollexx club night club httpstcof...  \n",
       "109  temperature 70f gt 64f humidity 88 gt 100 wind...  \n",
       "110  demon hunter mathaius diablo3 demonhunter rogu...  \n",
       "111    account hacked please follow new one phoenixdmt  \n",
       "112  posted photo holyoke massachusetts httpstcob9d...  \n",
       "113  set 3 90 see brooklynbettyb axsmart myart seat...  \n",
       "114  im giumarra vineyard edison ca httpstcorlsmwmklkg  \n",
       "115  cloud gt haze temperature 67f gt 62f humidity ...  \n",
       "116  drinking double bean blonde schlafly house htt...  \n",
       "117  recommend anyone job httpstcoqfz5tdlntp cranbe...  \n",
       "118  interested nursing job near capegirardeau mo c...  \n",
       "119  ingrid ella leica m4 ilford hp5 plus 400 photo...  \n",
       "120  people change corn maze lollie httpstcom0xk0k9t0l  \n",
       "121  hiring click apply physical therapist assistan...  \n",
       "122  found spot phot sent 1 j1s 2015 httpstco6nmc28...  \n",
       "123  topgolf golflife imalldrunkorwhatnot top golf ...  \n",
       "124  march 7 2016 8534 215th street hollis hill que...  \n",
       "125  ebbtideapp tide calcasieu pas louisiana 060120...  \n",
       "126  world perpetual war need invest time inspiring...  \n",
       "127           ruschamp2013jun2la 71 httpstcoyz7e5y4ieo  \n",
       "\n",
       "[128 rows x 5 columns]"
      ]
     },
     "execution_count": 268,
     "metadata": {},
     "output_type": "execute_result"
    }
   ],
   "source": [
    "dfTweeterSample"
   ]
  },
  {
   "cell_type": "code",
   "execution_count": null,
   "metadata": {
    "collapsed": true
   },
   "outputs": [],
   "source": []
  }
 ],
 "metadata": {
  "kernelspec": {
   "display_name": "Python 2",
   "language": "python",
   "name": "python2"
  },
  "language_info": {
   "codemirror_mode": {
    "name": "ipython",
    "version": 2
   },
   "file_extension": ".py",
   "mimetype": "text/x-python",
   "name": "python",
   "nbconvert_exporter": "python",
   "pygments_lexer": "ipython2",
   "version": "2.7.10"
  }
 },
 "nbformat": 4,
 "nbformat_minor": 0
}
