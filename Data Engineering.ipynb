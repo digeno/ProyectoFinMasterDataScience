{
 "cells": [
  {
   "cell_type": "markdown",
   "metadata": {},
   "source": [
    "# Amazon reviews Dataset source.\n",
    "Amazon reviews Dataset source is:\n",
    "http://jmcauley.ucsd.edu/data/amazon\n",
    "\n",
    "This web contains Amazon reviews filtered by categories whose data have been choosen in order to train and test the model. The chosen categories are:\n",
    "- Babies: http://snap.stanford.edu/data/amazon/productGraph/categoryFiles/reviews_Baby_5.json.gz\n",
    "- Pets: http://snap.stanford.edu/data/amazon/productGraph/categoryFiles/reviews_Pet_Supplies_5.json.gz\n",
    "\n",
    "The whole Baby and Pets data will be joined as only one dataset that, will be the input to our model"
   ]
  },
  {
   "cell_type": "markdown",
   "metadata": {},
   "source": [
    "##  Required functions 1/9\n",
    "\n",
    "Due to the data files format is json, it's neccesary to convert then as csv file:"
   ]
  },
  {
   "cell_type": "code",
   "execution_count": 68,
   "metadata": {
    "collapsed": false
   },
   "outputs": [],
   "source": [
    "import json\n",
    "import pandas as pd\n",
    "from glob import glob\n",
    "\n",
    "\n",
    "def convert(x):\n",
    "    ob = json.loads(x)\n",
    "    for k, v in ob.items():\n",
    "        if isinstance(v, list):\n",
    "            ob[k] = ','.join(str(v))\n",
    "        elif isinstance(v, dict):\n",
    "            for kk, vv in v.items():\n",
    "                ob['%s_%s' % (k, kk)] = vv\n",
    "            del ob[k]\n",
    "    return ob\n"
   ]
  },
  {
   "cell_type": "markdown",
   "metadata": {},
   "source": [
    "## Natural Language Processing (NLP)  2/9\n",
    "\n",
    "\n",
    "The folowing proccess are used in order to get clean text required for sentiment analysis:<br/>\n",
    "- Stopwords and punctuation removal<br/>\n",
    "- Text Lemmatization. Libraries used: TextBlob, NLTK<br/>\n",
    "\n"
   ]
  },
  {
   "cell_type": "code",
   "execution_count": 71,
   "metadata": {
    "collapsed": false
   },
   "outputs": [
    {
     "data": {
      "text/plain": [
       "[u'i',\n",
       " u'me',\n",
       " u'my',\n",
       " u'myself',\n",
       " u'we',\n",
       " u'our',\n",
       " u'ours',\n",
       " u'ourselves',\n",
       " u'you',\n",
       " u'your',\n",
       " u'yours',\n",
       " u'yourself',\n",
       " u'yourselves',\n",
       " u'he',\n",
       " u'him',\n",
       " u'his',\n",
       " u'himself',\n",
       " u'she',\n",
       " u'her',\n",
       " u'hers',\n",
       " u'herself',\n",
       " u'it',\n",
       " u'its',\n",
       " u'itself',\n",
       " u'they',\n",
       " u'them',\n",
       " u'their',\n",
       " u'theirs',\n",
       " u'themselves',\n",
       " u'what',\n",
       " u'which',\n",
       " u'who',\n",
       " u'whom',\n",
       " u'this',\n",
       " u'that',\n",
       " u'these',\n",
       " u'those',\n",
       " u'am',\n",
       " u'is',\n",
       " u'are',\n",
       " u'was',\n",
       " u'were',\n",
       " u'be',\n",
       " u'been',\n",
       " u'being',\n",
       " u'have',\n",
       " u'has',\n",
       " u'had',\n",
       " u'having',\n",
       " u'do',\n",
       " u'does',\n",
       " u'did',\n",
       " u'doing',\n",
       " u'a',\n",
       " u'an',\n",
       " u'the',\n",
       " u'and',\n",
       " u'but',\n",
       " u'if',\n",
       " u'or',\n",
       " u'because',\n",
       " u'as',\n",
       " u'until',\n",
       " u'while',\n",
       " u'of',\n",
       " u'at',\n",
       " u'by',\n",
       " u'for',\n",
       " u'with',\n",
       " u'about',\n",
       " u'against',\n",
       " u'between',\n",
       " u'into',\n",
       " u'through',\n",
       " u'during',\n",
       " u'before',\n",
       " u'after',\n",
       " u'above',\n",
       " u'below',\n",
       " u'to',\n",
       " u'from',\n",
       " u'up',\n",
       " u'down',\n",
       " u'in',\n",
       " u'out',\n",
       " u'on',\n",
       " u'off',\n",
       " u'over',\n",
       " u'under',\n",
       " u'again',\n",
       " u'further',\n",
       " u'then',\n",
       " u'once',\n",
       " u'here',\n",
       " u'there',\n",
       " u'when',\n",
       " u'where',\n",
       " u'why',\n",
       " u'how',\n",
       " u'all',\n",
       " u'any',\n",
       " u'both',\n",
       " u'each',\n",
       " u'few',\n",
       " u'more',\n",
       " u'most',\n",
       " u'other',\n",
       " u'some',\n",
       " u'such',\n",
       " u'no',\n",
       " u'nor',\n",
       " u'not',\n",
       " u'only',\n",
       " u'own',\n",
       " u'same',\n",
       " u'so',\n",
       " u'than',\n",
       " u'too',\n",
       " u'very',\n",
       " u's',\n",
       " u't',\n",
       " u'can',\n",
       " u'will',\n",
       " u'just',\n",
       " u'don',\n",
       " u'should',\n",
       " u'now',\n",
       " u'd',\n",
       " u'll',\n",
       " u'm',\n",
       " u'o',\n",
       " u're',\n",
       " u've',\n",
       " u'y',\n",
       " u'ain',\n",
       " u'aren',\n",
       " u'couldn',\n",
       " u'didn',\n",
       " u'doesn',\n",
       " u'hadn',\n",
       " u'hasn',\n",
       " u'haven',\n",
       " u'isn',\n",
       " u'ma',\n",
       " u'mightn',\n",
       " u'mustn',\n",
       " u'needn',\n",
       " u'shan',\n",
       " u'shouldn',\n",
       " u'wasn',\n",
       " u'weren',\n",
       " u'won',\n",
       " u'wouldn']"
      ]
     },
     "execution_count": 71,
     "metadata": {},
     "output_type": "execute_result"
    }
   ],
   "source": [
    "from textblob import TextBlob\n",
    "from textblob import Word\n",
    "import nltk\n",
    "# nltk.download() hay que hacerlo la primera vez para cargar todos los corpus necesarios\n",
    "from nltk.corpus import stopwords\n",
    "cachedStopWords = stopwords.words(\"english\")\n",
    "\n",
    "cachedStopWords\n"
   ]
  },
  {
   "cell_type": "markdown",
   "metadata": {},
   "source": [
    "## funcion que elimina las stopwords y aplica lematizacion"
   ]
  },
  {
   "cell_type": "code",
   "execution_count": 75,
   "metadata": {
    "collapsed": false
   },
   "outputs": [],
   "source": [
    "import string\n",
    "def remove_punctuation(text):  \n",
    "    #salida = text.translate(None, string.punctuation).lower()\n",
    "    salida = text.translate(None, string.punctuation)\n",
    "    return salida\n",
    "\n",
    "def lemmatizeReviewText(row):\n",
    "    words = TextBlob(row).words.lemmatize()\n",
    "    ext = ' '.join(word for word in words if word not in (cachedStopWords))\n",
    "    return ext\n"
   ]
  },
  {
   "cell_type": "code",
   "execution_count": null,
   "metadata": {
    "collapsed": false
   },
   "outputs": [],
   "source": [
    "#Tratamos el dataset de Babies review\n",
    "babyDf = pd.DataFrame([convert(line) for line in file('reviews_Baby_5.json')])\n",
    "# forzamos la columna reviewText como str para el correcto funcionamiento de remove_punctuation\n",
    "babyDf['reviewText'] = babyDf['reviewText'].astype(str)\n",
    "babyDf['review_clean'] = babyDf['reviewText'].apply(remove_punctuation)\n",
    "babyDf['review_clean']=babyDf['review_clean'].apply(lambda x: x.lower())\n",
    "babyDf['review_clean']= babyDf['review_clean'].apply(lemmatizeReviewText)\n",
    "\n",
    "babyDf.to_csv('reviews_Baby_5.csv', header=True,quoting=1)\n"
   ]
  },
  {
   "cell_type": "code",
   "execution_count": null,
   "metadata": {
    "collapsed": false
   },
   "outputs": [],
   "source": [
    "# Tratamos el dataset de Pets review\n",
    "petsDf = pd.DataFrame([convert(line) for line in file('reviews_Pet_Supplies_5.json')])\n",
    "# forzamos la columna reviewText como str para el correcto funcionamiento de remove_punctuation\n",
    "petsDf['reviewText'] = petsDf['reviewText'].astype(str)\n",
    "petsDf['review_clean'] = petsDf['reviewText'].apply(remove_punctuation)\n",
    "petsDf['review_clean']= petsDf['review_clean'].apply(lambda x: x.lower())\n",
    "petsDf['review_clean']= petsDf['review_clean'].apply(lemmatizeReviewText)\n",
    "petsDf.to_csv('reviews_Pet_Supplies_5.csv', header=True,quoting=1)"
   ]
  },
  {
   "cell_type": "markdown",
   "metadata": {},
   "source": [
    "# Creamos el dataframe amazonReviewsDf a partir de los dataframes  petsDf y babyDf y gemeramos el csv"
   ]
  },
  {
   "cell_type": "code",
   "execution_count": null,
   "metadata": {
    "collapsed": false
   },
   "outputs": [],
   "source": [
    "principalDf = [babyDf,petsDf]\n",
    "amazonReviewsDf = pd.concat(principalDf)\n",
    "# renombramos la columna overall por review_overall\n",
    "amazonReviewsDf['review_overall']=amazonReviewsDf['overall']\n",
    "del(amazonReviewsDf['overall'])\n",
    "len(amazonReviewsDf)"
   ]
  },
  {
   "cell_type": "code",
   "execution_count": 63,
   "metadata": {
    "collapsed": false
   },
   "outputs": [
    {
     "data": {
      "image/png": "[encoded data removed]",
      "text/plain": [
       "<matplotlib.figure.Figure at 0x7fd35dc83690>"
      ]
     },
     "metadata": {},
     "output_type": "display_data"
    }
   ],
   "source": [
    "plt=amazonReviewsDf['review_overall'].value_counts().plot(kind='bar').set_title('Reviews Overall')\n"
   ]
  },
  {
   "cell_type": "code",
   "execution_count": 64,
   "metadata": {
    "collapsed": false
   },
   "outputs": [],
   "source": [
    "#  crear un diccionario {palabra:ocurrencias}\n",
    "num_important_words = 1500\n",
    "import numpy as np\n",
    "cnt = {}\n",
    "for linea in amazonReviewsDf['review_clean'].astype(str).values:\n",
    "    for word in linea.split():\n",
    "        if (word not in cnt):\n",
    "            cnt[word] = 1\n",
    "        else:\n",
    "            cnt[word] += 1\n",
    "            \n",
    "wordsSerie=pd.Series(cnt,index=cnt.keys())\n",
    "wordsSerie=wordsSerie[wordsSerie.values>1]\n",
    "data={'a':wordsSerie.index,'b':wordsSerie.values}\n",
    "wordsDf=pd.DataFrame(data=data, index=np.arange(len(wordsSerie)))\n",
    "wordsDf=wordsDf.sort('b', ascending=False).head(num_important_words)"
   ]
  },
  {
   "cell_type": "markdown",
   "metadata": {},
   "source": [
    "# Generamos el array de palabras importantes"
   ]
  },
  {
   "cell_type": "code",
   "execution_count": null,
   "metadata": {
    "collapsed": false
   },
   "outputs": [],
   "source": [
    "important_words = str([str(s) for s in wordsDf['a']])\n",
    "f= open('important_words_1500.json', 'w') \n",
    "f.write(important_words.replace(\"'\",'\"'))\n",
    "f.close()\n",
    "len(wordsDf)"
   ]
  },
  {
   "cell_type": "markdown",
   "metadata": {
    "collapsed": true
   },
   "source": [
    "# Funciones auxiliares de conversion de ficheros json de tweeter a CSV de entrada a nuestro modelo \n",
    "La idea es una vez convertido el json a csv aplicar proceso de lematización y eliminación de stopwords en una nueva columna que denominaremos text_clean"
   ]
  },
  {
   "cell_type": "code",
   "execution_count": 66,
   "metadata": {
    "collapsed": false
   },
   "outputs": [],
   "source": [
    "# utilizado para descartar caracteres no ASCII\n",
    "def is_ascii(s):\n",
    "    return all(ord(c) < 128 for c in s)\n",
    "\n",
    "# Devuelve un dataframe a partir del csv de reviews de Tweeter\n",
    "def getTweetsDF(json_filename):\n",
    "    csv_filename = '%s.csv' % json_filename[:-5]\n",
    "    print 'Converting %s to %s' % (json_filename, csv_filename)\n",
    "    df = pd.DataFrame( columns=['tweet_id','tweet_text','tweet_created_at','tweet_geo_lat','tweet_geo_lon','tweet_city'])\n",
    "\n",
    "    json_data=open(json_filename).read()\n",
    "    ob = json.loads(json_data)\n",
    "    results = ob['results']\n",
    "    print(len(results))\n",
    "    for k  in results:\n",
    "\n",
    "        if (not k['geo']):\n",
    "            geo = ''\n",
    "        else:\n",
    "            idd = k['id_str']\n",
    "            #preguntamos si el texto está en ASCII para evitar que entren  caracteres UNICODE problematicos en NLP\n",
    "            if (is_ascii( k['text'])):\n",
    "                text = k['text']\n",
    "            else:\n",
    "                text = ''\n",
    "            created_at = k['created_at']\n",
    "            #geo= ', '.join(map(str,k['geo']['coordinates']))\n",
    "            geo_lat= k['geo']['coordinates'][0]\n",
    "            geo_lon= k['geo']['coordinates'][1]\n",
    "            if (is_ascii(k['place']['full_name'])):\n",
    "                city = k['place']['full_name']\n",
    "            else:\n",
    "                city = ''\n",
    "            SR_row = pd.Series({'tweet_id':idd, 'tweet_text':text, 'tweet_created_at':created_at,'tweet_geo_lat':geo_lat,'tweet_geo_lon':geo_lon,'tweet_city':city},name=len(df))\n",
    "            df=df.append(SR_row)\n",
    "    return df\n",
    "\n",
    "# lematiza y elimina Stop Words de la fila del dataset de reviews de Tweeter\n",
    "def lemmatizeReviewTextForTweets(row):\n",
    "    if (type(row['tweet_text']==str)):\n",
    "        words = TextBlob(row['tweet_text']).words.lemmatize()\n",
    "        ext = ' '.join(word for word in words if word not in (cachedStopWords))\n",
    "    else:\n",
    "        ext = ''\n",
    "    return ext\n",
    "\n"
   ]
  },
  {
   "cell_type": "markdown",
   "metadata": {},
   "source": [
    "# Tratamos USA-car-tweets.json para generar el csv con la columna text_clean"
   ]
  },
  {
   "cell_type": "code",
   "execution_count": 77,
   "metadata": {
    "collapsed": false
   },
   "outputs": [
    {
     "name": "stdout",
     "output_type": "stream",
     "text": [
      "Converting USA-car-tweets.json to USA-car-tweets.csv\n",
      "326\n"
     ]
    }
   ],
   "source": [
    "dfUSACarTweets = getTweetsDF('USA-car-tweets.json')\n",
    "dfUSACarTweets['text_clean'] = dfUSACarTweets.apply(lemmatizeReviewTextForTweets,axis=1)\n",
    "dfUSACarTweets['text_clean'] = dfUSACarTweets['text_clean'].astype(str)\n",
    "dfUSACarTweets['text_clean'] = dfUSACarTweets['text_clean'].apply(remove_punctuation)\n",
    "dfUSACarTweets['text_clean'] = dfUSACarTweets['text_clean'].apply(lambda x: x.lower())\n",
    "# nos quedamos solo con los que tengan informado el campo text_clean\n",
    "dfUSACarTweets=dfUSACarTweets[dfUSACarTweets['text_clean']!='']\n",
    "# Generamos us_tweets.csv\n",
    "dfUSACarTweets.to_csv('USA-car-tweets.csv', header=True,quoting=1)\n"
   ]
  },
  {
   "cell_type": "markdown",
   "metadata": {},
   "source": [
    "# Tratamos USA-flight-tweets.json para generar el csv con la columna text_clean"
   ]
  },
  {
   "cell_type": "code",
   "execution_count": 76,
   "metadata": {
    "collapsed": false
   },
   "outputs": [
    {
     "name": "stdout",
     "output_type": "stream",
     "text": [
      "Converting USA-flight-tweets.json to USA-flight-tweets.csv\n",
      "264\n"
     ]
    }
   ],
   "source": [
    "dfUSAFlightTweets = getTweetsDF('USA-flight-tweets.json')\n",
    "dfUSAFlightTweets['text_clean'] = dfUSAFlightTweets.apply(lemmatizeReviewTextForTweets,axis=1)\n",
    "dfUSAFlightTweets['text_clean'] = dfUSAFlightTweets['text_clean'].astype(str)\n",
    "dfUSAFlightTweets['text_clean'] = dfUSAFlightTweets['text_clean'].apply(remove_punctuation)\n",
    "dfUSAFlightTweets['text_clean'] = dfUSAFlightTweets['text_clean'].apply(lambda x: x.lower())\n",
    "# nos quedamos solo con los que tengan informado el campo text_clean\n",
    "dfUSAFlightTweets=dfUSAFlightTweets[dfUSAFlightTweets['text_clean']!='']\n",
    "# Generamos us_tweets.csv\n",
    "dfUSAFlightTweets.to_csv('USA-flight-tweets.csv', header=True,quoting=1)"
   ]
  },
  {
   "cell_type": "markdown",
   "metadata": {
    "collapsed": true
   },
   "source": [
    "# Pintado de cloud Words\n",
    "Requiere de librería wordcloud: pip install wordcloud\n",
    "\n"
   ]
  },
  {
   "cell_type": "code",
   "execution_count": 78,
   "metadata": {
    "collapsed": true
   },
   "outputs": [],
   "source": [
    "from os import path\n",
    "import matplotlib.pyplot as plt\n",
    "from wordcloud import WordCloud\n",
    "import pandas as pd\n",
    "%matplotlib inline  "
   ]
  },
  {
   "cell_type": "code",
   "execution_count": 79,
   "metadata": {
    "collapsed": false
   },
   "outputs": [
    {
     "data": {
      "image/png": "[encoded data removed]",
      "text/plain": [
       "<matplotlib.figure.Figure at 0x7fd35ed07110>"
      ]
     },
     "metadata": {},
     "output_type": "display_data"
    }
   ],
   "source": [
    "# a partir del listado de tuplas con probabilidades de palabras con sentimiento positivo pintamos su cloudword\n",
    "# TODO sustituir possitiveData por valor real de Logistic Regression.ipynb#word_coefficient_tuples[0:20]\n",
    "\n",
    "\n",
    "\n",
    "\n",
    "possitiveData = [('love', 0.11516618684233537),\n",
    " ('great', 0.080023721523415775),\n",
    " ('easy', 0.060784809521622268),\n",
    " ('little', 0.043273114802474026),\n",
    " ('well', 0.034577347869094624),\n",
    " ('ha', 0.031782657756372915),\n",
    " ('perfect', 0.02794323744248348),\n",
    " ('keep', 0.024582663611358507),\n",
    " ('we', 0.023264533519747128),\n",
    " ('my', 0.023145741891859677),\n",
    " ('nice', 0.022054081613016238),\n",
    " ('use', 0.021768893055755807),\n",
    " ('happy', 0.019507169644448902),\n",
    " ('this', 0.019297492216305973),\n",
    " ('one', 0.018951434854755495),\n",
    " ('best', 0.017241315558508198),\n",
    " ('size', 0.016596876725228724),\n",
    " ('highly', 0.016464206308266966),\n",
    " ('like', 0.016012593506922024),\n",
    " ('clean', 0.015915941635580182)]\n",
    "wordcloud = WordCloud(relative_scaling=.1).generate_from_frequencies(possitiveData)\n",
    "plt.imshow(wordcloud)\n",
    "plt.axis(\"off\")\n",
    "plt.show()"
   ]
  },
  {
   "cell_type": "code",
   "execution_count": 80,
   "metadata": {
    "collapsed": false
   },
   "outputs": [
    {
     "data": {
      "image/png": "[encoded data removed]",
      "text/plain": [
       "<matplotlib.figure.Figure at 0x7fd360265090>"
      ]
     },
     "metadata": {},
     "output_type": "display_data"
    }
   ],
   "source": [
    "# a partir del listado de tuplas con probabilidades de palabras con sentimiento positivo pintamos su cloudword\n",
    "# en este caso hay que tener en cuenta que las probabilidades tienen signo negativo por lo que hay que calcular su abs.\n",
    "# TODO sustituir negativeData por valor real de Logistic Regression.ipynb#word_coefficient_tuples[0:20]\n",
    "negativeData = [('wa', -0.076910539667272848),\n",
    " ('would', -0.047993502855058948),\n",
    " ('money', -0.033634663138491436),\n",
    " ('i', -0.032149370426236744),\n",
    " ('product', -0.031188689049810522),\n",
    " ('didnt', -0.03108731671996507),\n",
    " ('even', -0.027071648853798525),\n",
    " ('not', -0.026410486153495703),\n",
    " ('waste', -0.025332366949353691),\n",
    " ('thought', -0.021359972210361015),\n",
    " ('disappointed', -0.019572581111056395),\n",
    " ('review', -0.018478903812761505),\n",
    " ('return', -0.018263749740310576),\n",
    " ('tried', -0.017464678580141557),\n",
    " ('work', -0.017452131489125368),\n",
    " ('maybe', -0.016783110263799327),\n",
    " ('back', -0.016378378470142032),\n",
    " ('plastic', -0.015812374453428448),\n",
    " ('better', -0.015453283971803381),\n",
    " ('dont', -0.015375793067250303)]\n",
    "negativeWordsDf = pd.DataFrame(negativeData, columns=['word','probability'])\n",
    "\n",
    "def absProbability(row):\n",
    "    return row[\"probability\"].abs()\n",
    "negativeWordsDf['probability']=absProbability(negativeWordsDf)\n",
    "negativeData = [tuple(x) for x in negativeWordsDf.values]\n",
    "wordcloud = WordCloud(relative_scaling=.1).generate_from_frequencies(negativeData)\n",
    "plt.imshow(wordcloud)\n",
    "plt.axis(\"off\")\n",
    "plt.show()"
   ]
  },
  {
   "cell_type": "code",
   "execution_count": null,
   "metadata": {
    "collapsed": true
   },
   "outputs": [],
   "source": []
  }
 ],
 "metadata": {
  "kernelspec": {
   "display_name": "Python 2",
   "language": "python",
   "name": "python2"
  },
  "language_info": {
   "codemirror_mode": {
    "name": "ipython",
    "version": 2
   },
   "file_extension": ".py",
   "mimetype": "text/x-python",
   "name": "python",
   "nbconvert_exporter": "python",
   "pygments_lexer": "ipython2",
   "version": "2.7.10"
  }
 },
 "nbformat": 4,
 "nbformat_minor": 0
}
