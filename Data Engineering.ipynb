{
 "cells": [
  {
   "cell_type": "markdown",
   "metadata": {},
   "source": [
    "# Download and extract Amazon Reviews (1/4).\n",
    "The Amazon reviews Dataset source used in the project source is the following:\n",
    "http://jmcauley.ucsd.edu/data/amazon\n",
    "\n",
    "This web contains Amazon reviews filtered by categories whose data have been choosen in order to train and test the Logistic Regression Model. We've chosen the following categories:\n",
    "- Babies: http://snap.stanford.edu/data/amazon/productGraph/categoryFiles/reviews_Baby_5.json.gz\n",
    "- Pets: http://snap.stanford.edu/data/amazon/productGraph/categoryFiles/reviews_Pet_Supplies_5.json.gz\n",
    "\n",
    "NOTE: These files must be uncompressed before launching this script at this same folder.\n",
    "\n"
   ]
  },
  {
   "cell_type": "markdown",
   "metadata": {},
   "source": [
    "# Amazon reviews generation file babies+pets_reviews.csv based on the merge of reviews_Baby_5.csv and reviews_Pet_Supplies_5.csv (2/4)\n",
    "\n",
    "\n",
    "###  Required functions in this step\n",
    "Due to the data files format is json, it's neccesary to convert then as csv file.\n",
    "There also necessary functions for lemmatization technics and punctuation & Stop Words removal. \n",
    "These functions are used in order to get clean text required for sentiment analysis:<br/>\n",
    "- Stopwords and punctuation removal<br/>\n",
    "- Text Lemmatization. Libraries used: TextBlob, NLTK<br/>"
   ]
  },
  {
   "cell_type": "code",
   "execution_count": 2,
   "metadata": {
    "collapsed": false
   },
   "outputs": [],
   "source": [
    "import json\n",
    "import pandas as pd\n",
    "from glob import glob\n",
    "\n",
    "\n",
    "def convert(x):\n",
    "    ob = json.loads(x)\n",
    "    for k, v in ob.items():\n",
    "        if isinstance(v, list):\n",
    "            ob[k] = ','.join(str(v))\n",
    "        elif isinstance(v, dict):\n",
    "            for kk, vv in v.items():\n",
    "                ob['%s_%s' % (k, kk)] = vv\n",
    "            del ob[k]\n",
    "    return ob\n"
   ]
  },
  {
   "cell_type": "code",
   "execution_count": 3,
   "metadata": {
    "collapsed": false,
    "scrolled": true
   },
   "outputs": [
    {
     "data": {
      "text/plain": [
       "[u'i',\n",
       " u'me',\n",
       " u'my',\n",
       " u'myself',\n",
       " u'we',\n",
       " u'our',\n",
       " u'ours',\n",
       " u'ourselves',\n",
       " u'you',\n",
       " u'your',\n",
       " u'yours',\n",
       " u'yourself',\n",
       " u'yourselves',\n",
       " u'he',\n",
       " u'him',\n",
       " u'his',\n",
       " u'himself',\n",
       " u'she',\n",
       " u'her',\n",
       " u'hers',\n",
       " u'herself',\n",
       " u'it',\n",
       " u'its',\n",
       " u'itself',\n",
       " u'they',\n",
       " u'them',\n",
       " u'their',\n",
       " u'theirs',\n",
       " u'themselves',\n",
       " u'what',\n",
       " u'which',\n",
       " u'who',\n",
       " u'whom',\n",
       " u'this',\n",
       " u'that',\n",
       " u'these',\n",
       " u'those',\n",
       " u'am',\n",
       " u'is',\n",
       " u'are',\n",
       " u'was',\n",
       " u'were',\n",
       " u'be',\n",
       " u'been',\n",
       " u'being',\n",
       " u'have',\n",
       " u'has',\n",
       " u'had',\n",
       " u'having',\n",
       " u'do',\n",
       " u'does',\n",
       " u'did',\n",
       " u'doing',\n",
       " u'a',\n",
       " u'an',\n",
       " u'the',\n",
       " u'and',\n",
       " u'but',\n",
       " u'if',\n",
       " u'or',\n",
       " u'because',\n",
       " u'as',\n",
       " u'until',\n",
       " u'while',\n",
       " u'of',\n",
       " u'at',\n",
       " u'by',\n",
       " u'for',\n",
       " u'with',\n",
       " u'about',\n",
       " u'against',\n",
       " u'between',\n",
       " u'into',\n",
       " u'through',\n",
       " u'during',\n",
       " u'before',\n",
       " u'after',\n",
       " u'above',\n",
       " u'below',\n",
       " u'to',\n",
       " u'from',\n",
       " u'up',\n",
       " u'down',\n",
       " u'in',\n",
       " u'out',\n",
       " u'on',\n",
       " u'off',\n",
       " u'over',\n",
       " u'under',\n",
       " u'again',\n",
       " u'further',\n",
       " u'then',\n",
       " u'once',\n",
       " u'here',\n",
       " u'there',\n",
       " u'when',\n",
       " u'where',\n",
       " u'why',\n",
       " u'how',\n",
       " u'all',\n",
       " u'any',\n",
       " u'both',\n",
       " u'each',\n",
       " u'few',\n",
       " u'more',\n",
       " u'most',\n",
       " u'other',\n",
       " u'some',\n",
       " u'such',\n",
       " u'no',\n",
       " u'nor',\n",
       " u'not',\n",
       " u'only',\n",
       " u'own',\n",
       " u'same',\n",
       " u'so',\n",
       " u'than',\n",
       " u'too',\n",
       " u'very',\n",
       " u's',\n",
       " u't',\n",
       " u'can',\n",
       " u'will',\n",
       " u'just',\n",
       " u'don',\n",
       " u'should',\n",
       " u'now',\n",
       " u'd',\n",
       " u'll',\n",
       " u'm',\n",
       " u'o',\n",
       " u're',\n",
       " u've',\n",
       " u'y',\n",
       " u'ain',\n",
       " u'aren',\n",
       " u'couldn',\n",
       " u'didn',\n",
       " u'doesn',\n",
       " u'hadn',\n",
       " u'hasn',\n",
       " u'haven',\n",
       " u'isn',\n",
       " u'ma',\n",
       " u'mightn',\n",
       " u'mustn',\n",
       " u'needn',\n",
       " u'shan',\n",
       " u'shouldn',\n",
       " u'wasn',\n",
       " u'weren',\n",
       " u'won',\n",
       " u'wouldn']"
      ]
     },
     "execution_count": 3,
     "metadata": {},
     "output_type": "execute_result"
    }
   ],
   "source": [
    "from textblob import TextBlob\n",
    "from textblob import Word\n",
    "import nltk\n",
    "# nltk.download() hay que hacerlo la primera vez para cargar todos los corpus necesarios\n",
    "from nltk.corpus import stopwords\n",
    "cachedStopWords = stopwords.words(\"english\")\n",
    "\n",
    "cachedStopWords"
   ]
  },
  {
   "cell_type": "code",
   "execution_count": 4,
   "metadata": {
    "collapsed": false
   },
   "outputs": [],
   "source": [
    "import string\n",
    "def remove_punctuation(text):  \n",
    "    #salida = text.translate(None, string.punctuation).lower()\n",
    "    salida = text.translate(None, string.punctuation)\n",
    "    return salida\n",
    "\n",
    "def lemmatizeReviewText(row):\n",
    "    words = TextBlob(row).words.lemmatize()\n",
    "    ext = ' '.join(word for word in words if word not in (cachedStopWords))\n",
    "    return ext\n"
   ]
  },
  {
   "cell_type": "markdown",
   "metadata": {},
   "source": [
    "### The code of this step is the following"
   ]
  },
  {
   "cell_type": "code",
   "execution_count": 5,
   "metadata": {
    "collapsed": false
   },
   "outputs": [],
   "source": [
    "#Tratamos el dataset de Babies review\n",
    "babyDf = pd.DataFrame([convert(line) for line in file('reviews_Baby_5.json')])\n",
    "# forzamos la columna reviewText como str para el correcto funcionamiento de remove_punctuation\n",
    "babyDf['reviewText'] = babyDf['reviewText'].astype(str)\n",
    "babyDf['review_clean'] = babyDf['reviewText'].apply(remove_punctuation)\n",
    "babyDf['review_clean']=babyDf['review_clean'].apply(lambda x: x.lower())\n",
    "babyDf['review_clean']= babyDf['review_clean'].apply(lemmatizeReviewText)\n",
    "\n",
    "babyDf.to_csv('reviews_Baby_5.csv', header=True,quoting=1)\n"
   ]
  },
  {
   "cell_type": "code",
   "execution_count": 6,
   "metadata": {
    "collapsed": false
   },
   "outputs": [],
   "source": [
    "# Tratamos el dataset de Pets review\n",
    "petsDf = pd.DataFrame([convert(line) for line in file('reviews_Pet_Supplies_5.json')])\n",
    "# forzamos la columna reviewText como str para el correcto funcionamiento de remove_punctuation\n",
    "petsDf['reviewText'] = petsDf['reviewText'].astype(str)\n",
    "petsDf['review_clean'] = petsDf['reviewText'].apply(remove_punctuation)\n",
    "petsDf['review_clean']= petsDf['review_clean'].apply(lambda x: x.lower())\n",
    "petsDf['review_clean']= petsDf['review_clean'].apply(lemmatizeReviewText)\n",
    "petsDf.to_csv('reviews_Pet_Supplies_5.csv', header=True,quoting=1)"
   ]
  },
  {
   "cell_type": "code",
   "execution_count": 7,
   "metadata": {
    "collapsed": false
   },
   "outputs": [
    {
     "data": {
      "text/plain": [
       "318628"
      ]
     },
     "execution_count": 7,
     "metadata": {},
     "output_type": "execute_result"
    }
   ],
   "source": [
    "principalDf = [babyDf,petsDf]\n",
    "amazonReviewsDf = pd.concat(principalDf)\n",
    "# renombramos la columna overall por review_overall\n",
    "amazonReviewsDf['review_overall']=amazonReviewsDf['overall']\n",
    "del(amazonReviewsDf['overall'])\n",
    "amazonReviewsDf.to_csv('babies+pets_reviews.csv', header=True,quoting=1)\n",
    "len(amazonReviewsDf)"
   ]
  },
  {
   "cell_type": "markdown",
   "metadata": {},
   "source": [
    "### Overall reviews Histogram "
   ]
  },
  {
   "cell_type": "code",
   "execution_count": 18,
   "metadata": {
    "collapsed": false
   },
   "outputs": [
    {
     "data": {
      "text/plain": [
       "318628"
      ]
     },
     "execution_count": 18,
     "metadata": {},
     "output_type": "execute_result"
    }
   ],
   "source": [
    "plt=amazonReviewsDf['review_overall'].value_counts().plot(kind='bar').set_title('Reviews Overall')\n",
    "\n",
    "len(amazonReviewsDf['review_overall'])"
   ]
  },
  {
   "cell_type": "markdown",
   "metadata": {},
   "source": [
    "# Important words list generation (3/4)"
   ]
  },
  {
   "cell_type": "markdown",
   "metadata": {},
   "source": [
    "###  Required functions in this step\n",
    "We need to build a dictionary {'word': frequency} necessary to count the frequency of words.<br/>\n",
    "Initially we'll need 1500 words in our process."
   ]
  },
  {
   "cell_type": "code",
   "execution_count": 9,
   "metadata": {
    "collapsed": false
   },
   "outputs": [],
   "source": [
    "\n",
    "num_important_words = 1500\n",
    "import numpy as np\n",
    "cnt = {}\n",
    "for linea in amazonReviewsDf['review_clean'].astype(str).values:\n",
    "    for word in linea.split():\n",
    "        if (word not in cnt):\n",
    "            cnt[word] = 1\n",
    "        else:\n",
    "            cnt[word] += 1\n",
    "            \n"
   ]
  },
  {
   "cell_type": "markdown",
   "metadata": {},
   "source": [
    "### The code of this step is the following"
   ]
  },
  {
   "cell_type": "code",
   "execution_count": 10,
   "metadata": {
    "collapsed": false
   },
   "outputs": [
    {
     "data": {
      "text/plain": [
       "1500"
      ]
     },
     "execution_count": 10,
     "metadata": {},
     "output_type": "execute_result"
    }
   ],
   "source": [
    "wordsSerie=pd.Series(cnt,index=cnt.keys())\n",
    "wordsSerie=wordsSerie[wordsSerie.values>1]\n",
    "data={'a':wordsSerie.index,'b':wordsSerie.values}\n",
    "wordsDf=pd.DataFrame(data=data, index=np.arange(len(wordsSerie)))\n",
    "wordsDf=wordsDf.sort('b', ascending=False).head(num_important_words)\n",
    "\n",
    "important_words = str([str(s) for s in wordsDf['a']])\n",
    "f= open('important_words_1500.json', 'w') \n",
    "f.write(important_words.replace(\"'\",'\"'))\n",
    "f.close()\n",
    "len(wordsDf)"
   ]
  },
  {
   "cell_type": "markdown",
   "metadata": {
    "collapsed": true
   },
   "source": [
    "# Tweeter files management (4/4)\n",
    "\n",
    "\n",
    "###  Required functions in this step\n",
    "The following functions are required for lemmatization technics and removal of punctuation & Stop Words. \n",
    "These functions are used in order to get clean text required for sentiment analysis:<br/>\n",
    "- Stopwords and punctuation removal<br/>\n",
    "- Text Lemmatization. Libraries used: TextBlob, NLTK<br/>text_clean"
   ]
  },
  {
   "cell_type": "code",
   "execution_count": 11,
   "metadata": {
    "collapsed": false
   },
   "outputs": [],
   "source": [
    "# utilizado para descartar caracteres no ASCII\n",
    "def is_ascii(s):\n",
    "    return all(ord(c) < 128 for c in s)\n",
    "\n",
    "# Devuelve un dataframe a partir del csv de reviews de Tweeter\n",
    "def getTweetsDF(json_filename):\n",
    "    csv_filename = '%s.csv' % json_filename[:-5]\n",
    "    print 'Converting %s to %s' % (json_filename, csv_filename)\n",
    "    df = pd.DataFrame( columns=['tweet_id','tweet_text','tweet_created_at','tweet_geo_lat','tweet_geo_lon','tweet_city'])\n",
    "\n",
    "    json_data=open(json_filename).read()\n",
    "    ob = json.loads(json_data)\n",
    "    results = ob['results']\n",
    "    print(len(results))\n",
    "    for k  in results:\n",
    "\n",
    "        if (not k['geo']):\n",
    "            geo = ''\n",
    "        else:\n",
    "            idd = k['id_str']\n",
    "            #preguntamos si el texto está en ASCII para evitar que entren  caracteres UNICODE problematicos en NLP\n",
    "            if (is_ascii( k['text'])):\n",
    "                text = k['text']\n",
    "            else:\n",
    "                text = ''\n",
    "            created_at = k['created_at']\n",
    "            #geo= ', '.join(map(str,k['geo']['coordinates']))\n",
    "            geo_lat= k['geo']['coordinates'][0]\n",
    "            geo_lon= k['geo']['coordinates'][1]\n",
    "            if (is_ascii(k['place']['full_name'])):\n",
    "                city = k['place']['full_name']\n",
    "            else:\n",
    "                city = ''\n",
    "            SR_row = pd.Series({'tweet_id':idd, 'tweet_text':text, 'tweet_created_at':created_at,'tweet_geo_lat':geo_lat,'tweet_geo_lon':geo_lon,'tweet_city':city},name=len(df))\n",
    "            df=df.append(SR_row)\n",
    "    return df\n",
    "\n",
    "# lematiza y elimina Stop Words de la fila del dataset de reviews de Tweeter\n",
    "def lemmatizeReviewTextForTweets(row):\n",
    "    if (type(row['tweet_text']==str)):\n",
    "        words = TextBlob(row['tweet_text']).words.lemmatize()\n",
    "        ext = ' '.join(word for word in words if word not in (cachedStopWords))\n",
    "    else:\n",
    "        ext = ''\n",
    "    return ext\n",
    "\n"
   ]
  },
  {
   "cell_type": "markdown",
   "metadata": {},
   "source": [
    "### The code of this step is the following"
   ]
  },
  {
   "cell_type": "code",
   "execution_count": 12,
   "metadata": {
    "collapsed": false
   },
   "outputs": [
    {
     "name": "stdout",
     "output_type": "stream",
     "text": [
      "Converting USA-car-tweets.json to USA-car-tweets.csv\n",
      "326\n"
     ]
    }
   ],
   "source": [
    "# USA-car-tweets.json processing\n",
    "dfUSACarTweets = getTweetsDF('USA-car-tweets.json')\n",
    "dfUSACarTweets['text_clean'] = dfUSACarTweets.apply(lemmatizeReviewTextForTweets,axis=1)\n",
    "dfUSACarTweets['text_clean'] = dfUSACarTweets['text_clean'].astype(str)\n",
    "dfUSACarTweets['text_clean'] = dfUSACarTweets['text_clean'].apply(remove_punctuation)\n",
    "dfUSACarTweets['text_clean'] = dfUSACarTweets['text_clean'].apply(lambda x: x.lower())\n",
    "dfUSACarTweets=dfUSACarTweets[dfUSACarTweets['text_clean']!='']\n",
    "# Generamos csv\n",
    "dfUSACarTweets.to_csv('USA-car-tweets.csv', header=True,quoting=1)"
   ]
  },
  {
   "cell_type": "markdown",
   "metadata": {},
   "source": [
    "# Tratamos USA-flight-tweets.json para generar el csv con la columna text_clean"
   ]
  },
  {
   "cell_type": "code",
   "execution_count": 13,
   "metadata": {
    "collapsed": false
   },
   "outputs": [
    {
     "name": "stdout",
     "output_type": "stream",
     "text": [
      "Converting USA-flight-tweets.json to USA-flight-tweets.csv\n",
      "264\n"
     ]
    }
   ],
   "source": [
    "# USA-fligh-tweets.json processing\n",
    "dfUSAFlightTweets = getTweetsDF('USA-flight-tweets.json')\n",
    "dfUSAFlightTweets['text_clean'] = dfUSAFlightTweets.apply(lemmatizeReviewTextForTweets,axis=1)\n",
    "dfUSAFlightTweets['text_clean'] = dfUSAFlightTweets['text_clean'].astype(str)\n",
    "dfUSAFlightTweets['text_clean'] = dfUSAFlightTweets['text_clean'].apply(remove_punctuation)\n",
    "dfUSAFlightTweets['text_clean'] = dfUSAFlightTweets['text_clean'].apply(lambda x: x.lower())\n",
    "dfUSAFlightTweets=dfUSAFlightTweets[dfUSAFlightTweets['text_clean']!='']\n",
    "# Generamos us_tweets.csv\n",
    "dfUSAFlightTweets.to_csv('USA-flight-tweets.csv', header=True,quoting=1)"
   ]
  },
  {
   "cell_type": "code",
   "execution_count": null,
   "metadata": {
    "collapsed": true
   },
   "outputs": [],
   "source": []
  }
 ],
 "metadata": {
  "kernelspec": {
   "display_name": "Python 2",
   "language": "python",
   "name": "python2"
  },
  "language_info": {
   "codemirror_mode": {
    "name": "ipython",
    "version": 2
   },
   "file_extension": ".py",
   "mimetype": "text/x-python",
   "name": "python",
   "nbconvert_exporter": "python",
   "pygments_lexer": "ipython2",
   "version": "2.7.10"
  }
 },
 "nbformat": 4,
 "nbformat_minor": 0
}
