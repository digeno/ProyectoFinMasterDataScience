{
 "cells": [
  {
   "cell_type": "markdown",
   "metadata": {},
   "source": [
    "# Logistic Regression Model: Predicting sentiment from product reviews\n",
    "\n",
    "\n",
    "The goal of this first notebook is to explore logistic regression and feature engineering with a model created from scratch.\n",
    "\n",
    "In this notebook we will use product review data from Amazon.com to predict whether the sentiments about a product (from its reviews) are positive or negative.\n",
    "## Fire up [Sframe](https://github.com/dato-code/SFrame)"
   ]
  },
  {
   "cell_type": "code",
   "execution_count": 1,
   "metadata": {
    "collapsed": false
   },
   "outputs": [],
   "source": [
    "import sframe"
   ]
  },
  {
   "cell_type": "markdown",
   "metadata": {},
   "source": [
    "## Loading data\n",
    "amazon_reviews.csv es la unión de varios datasets (ver notebook Data Engineering)"
   ]
  },
  {
   "cell_type": "code",
   "execution_count": 2,
   "metadata": {
    "collapsed": false
   },
   "outputs": [
    {
     "name": "stderr",
     "output_type": "stream",
     "text": [
      "2016-06-13 22:50:23,180 [INFO] sframe.cython.cy_server, 172: SFrame v1.9 started. Logging /tmp/sframe_server_1465851022.log\n"
     ]
    },
    {
     "data": {
      "text/html": [
       "<pre>Read 55898 lines. Lines per second: 46605.3</pre>"
      ],
      "text/plain": [
       "Read 55898 lines. Lines per second: 46605.3"
      ]
     },
     "metadata": {},
     "output_type": "display_data"
    },
    {
     "data": {
      "text/html": [
       "<pre>Unable to parse line \"\"121431\",\"B0050O92FU\",\"[,0,,, ,0,]\",\"We purchased our Goodbyn lunchboxes at a local retail store recently and the kids have officially started using them. I find that the deep compartments are great to fill with snacks and different variety for school lunc...\"</pre>"
      ],
      "text/plain": [
       "Unable to parse line \"\"121431\",\"B0050O92FU\",\"[,0,,, ,0,]\",\"We purchased our Goodbyn lunchboxes at a local retail store recently and the kids have officially started using them. I find that the deep compartments are great to fill with snacks and different variety for school lunc...\""
      ]
     },
     "metadata": {},
     "output_type": "display_data"
    },
    {
     "data": {
      "text/html": [
       "<pre>Unable to parse line \"\"42764\",\"B000FP68KQ\",\"[,0,,, ,0,]\",\"I love this item, very easy to go on easy to use harness clip and she loves to wear it\",\"05 3, 2014\",\"A3IPRBCQK9JWD0\",\"Mz. B$$ \"\"L. Bennett\"\"\",\"harness dress\\\",\"1399075200\",\"love item easy go easy use harness clip love w...\"</pre>"
      ],
      "text/plain": [
       "Unable to parse line \"\"42764\",\"B000FP68KQ\",\"[,0,,, ,0,]\",\"I love this item, very easy to go on easy to use harness clip and she loves to wear it\",\"05 3, 2014\",\"A3IPRBCQK9JWD0\",\"Mz. B$$ \"\"L. Bennett\"\"\",\"harness dress\\\",\"1399075200\",\"love item easy go easy use harness clip love w...\""
      ]
     },
     "metadata": {},
     "output_type": "display_data"
    },
    {
     "data": {
      "text/html": [
       "<pre>Unable to parse line \"\"112687\",\"B0040QOYZ2\",\"[,0,,, ,0,]\",\"I have a Shiba Inu & she sheds SoO much. I bought the Furminator shampoo with the medium long hair comb. When I brush her it's like a razor blade edging her hair off on the top & stripping it. The hair that come off of ...\"</pre>"
      ],
      "text/plain": [
       "Unable to parse line \"\"112687\",\"B0040QOYZ2\",\"[,0,,, ,0,]\",\"I have a Shiba Inu & she sheds SoO much. I bought the Furminator shampoo with the medium long hair comb. When I brush her it's like a razor blade edging her hair off on the top & stripping it. The hair that come off of ...\""
      ]
     },
     "metadata": {},
     "output_type": "display_data"
    },
    {
     "data": {
      "text/html": [
       "<pre>Unable to parse line \"\"123868\",\"B004WSBZAA\",\"[,1,,, ,3,]\",\"I disliked the packaging and lack of information on the product itself and had to go hunting around the internet to find more information on how to administer/feed it to my dog. Powders are generally inconvenient and th...\"</pre>"
      ],
      "text/plain": [
       "Unable to parse line \"\"123868\",\"B004WSBZAA\",\"[,1,,, ,3,]\",\"I disliked the packaging and lack of information on the product itself and had to go hunting around the internet to find more information on how to administer/feed it to my dog. Powders are generally inconvenient and th...\""
      ]
     },
     "metadata": {},
     "output_type": "display_data"
    },
    {
     "data": {
      "text/html": [
       "<pre>4 lines failed to parse correctly</pre>"
      ],
      "text/plain": [
       "4 lines failed to parse correctly"
      ]
     },
     "metadata": {},
     "output_type": "display_data"
    },
    {
     "data": {
      "text/html": [
       "<pre>Finished parsing file /Users/digeno/Documents/Cursos/BigData/Kschool-Data-Scientist/proyecto/git/babies+pets_reviews.csv</pre>"
      ],
      "text/plain": [
       "Finished parsing file /Users/digeno/Documents/Cursos/BigData/Kschool-Data-Scientist/proyecto/git/babies+pets_reviews.csv"
      ]
     },
     "metadata": {},
     "output_type": "display_data"
    },
    {
     "data": {
      "text/html": [
       "<pre>Parsing completed. Parsed 318624 lines in 4.50436 secs.</pre>"
      ],
      "text/plain": [
       "Parsing completed. Parsed 318624 lines in 4.50436 secs."
      ]
     },
     "metadata": {},
     "output_type": "display_data"
    },
    {
     "name": "stdout",
     "output_type": "stream",
     "text": [
      "------------------------------------------------------\n",
      "Inferred types from first 100 line(s) of file as \n",
      "column_type_hints=[int,str,list,str,str,str,str,str,int,str,float]\n",
      "If parsing fails due to incorrect types, you can correct\n",
      "the inferred type list above and pass it to read_csv in\n",
      "the column_type_hints argument\n",
      "------------------------------------------------------\n"
     ]
    }
   ],
   "source": [
    "reviews = sframe.SFrame('babies+pets_reviews.csv')"
   ]
  },
  {
   "cell_type": "markdown",
   "metadata": {},
   "source": [
    "# Exploring Data 1/6\n",
    "Let us quickly explore more of this dataset.\n",
    "1. We count the number of positive and negative reviews \n",
    "2. list the first 10 products in the dataset."
   ]
  },
  {
   "cell_type": "code",
   "execution_count": 3,
   "metadata": {
    "collapsed": false
   },
   "outputs": [
    {
     "data": {
      "text/plain": [
       "318624"
      ]
     },
     "execution_count": 3,
     "metadata": {},
     "output_type": "execute_result"
    }
   ],
   "source": [
    "len(reviews)"
   ]
  },
  {
   "cell_type": "code",
   "execution_count": 4,
   "metadata": {
    "collapsed": false
   },
   "outputs": [
    {
     "name": "stdout",
     "output_type": "stream",
     "text": [
      "+----+------------+-------------------------------+\n",
      "| X1 |    asin    |            helpful            |\n",
      "+----+------------+-------------------------------+\n",
      "| 0  | 097293751X | [None, 0, None, None, None... |\n",
      "| 1  | 097293751X | [None, 0, None, None, None... |\n",
      "+----+------------+-------------------------------+\n",
      "+-------------------------------+-------------+----------------+\n",
      "|           reviewText          |  reviewTime |   reviewerID   |\n",
      "+-------------------------------+-------------+----------------+\n",
      "| Perfect for new parents. W... | 07 16, 2013 | A1HK2FQW6KXQB2 |\n",
      "| This book is such a life s... | 06 29, 2013 | A19K65VY14D13R |\n",
      "+-------------------------------+-------------+----------------+\n",
      "+-------------------------------+-------------------------------+----------------+\n",
      "|          reviewerName         |            summary            | unixReviewTime |\n",
      "+-------------------------------+-------------------------------+----------------+\n",
      "| Amanda Johnsen \"Amanda E. ... |            Awesine            |   1373932800   |\n",
      "|             angela            | Should be required for all... |   1372464000   |\n",
      "+-------------------------------+-------------------------------+----------------+\n",
      "+-------------------------------+-----+\n",
      "|          review_clean         | ... |\n",
      "+-------------------------------+-----+\n",
      "| perfect new parent able ke... | ... |\n",
      "| book life saver ha helpful... | ... |\n",
      "+-------------------------------+-----+\n",
      "[318624 rows x 11 columns]\n",
      "\n"
     ]
    }
   ],
   "source": [
    "reviews.print_rows(num_rows=2, num_columns=10)"
   ]
  },
  {
   "cell_type": "markdown",
   "metadata": {},
   "source": [
    "# Data Engineering: defining reviews with positive or negative sentiment"
   ]
  },
  {
   "cell_type": "markdown",
   "metadata": {},
   "source": [
    "We'll call data engineering, just defining what is a positive and negative sentiment. So let's do that right now. So in the subsection we're gonna define what's a positive and a negative sentiment.\n",
    "And so I'm gonna make an arbitrary choice here:\n",
    "1. Let's say that things that 4, 5 stars are things that people liked. So those are positives. \n",
    "2. Things that 1 and 2 stars are negative. \n",
    "3. ignore all 3 star reviews.\n",
    "So I'm gonna say a positive sentiment equals 4 star or 5 star reviews. So let's go ahead and add a new column to our table that defines the actual sentiment. So products new column called sentiment."
   ]
  },
  {
   "cell_type": "markdown",
   "metadata": {},
   "source": [
    "We will **ignore** all reviews with *rating = 3*, since they tend to have a neutral sentiment."
   ]
  },
  {
   "cell_type": "code",
   "execution_count": 5,
   "metadata": {
    "collapsed": false
   },
   "outputs": [
    {
     "data": {
      "text/plain": [
       "285437"
      ]
     },
     "execution_count": 5,
     "metadata": {},
     "output_type": "execute_result"
    }
   ],
   "source": [
    "reviews = reviews[reviews['review_overall'] != 3]\n",
    "len(reviews)"
   ]
  },
  {
   "cell_type": "markdown",
   "metadata": {},
   "source": [
    "Now, we will assign reviews with a rating of 4 or higher to be *positive* reviews, while the ones with rating of 2 or lower are *negative*. For the sentiment column, we use +1 for the positive class label and -1 for the negative class label."
   ]
  },
  {
   "cell_type": "code",
   "execution_count": 6,
   "metadata": {
    "collapsed": false
   },
   "outputs": [
    {
     "name": "stdout",
     "output_type": "stream",
     "text": [
      "+----+------------+-------------------------------+\n",
      "| X1 |    asin    |            helpful            |\n",
      "+----+------------+-------------------------------+\n",
      "| 0  | 097293751X | [None, 0, None, None, None... |\n",
      "| 1  | 097293751X | [None, 0, None, None, None... |\n",
      "+----+------------+-------------------------------+\n",
      "+-------------------------------+-------------+----------------+\n",
      "|           reviewText          |  reviewTime |   reviewerID   |\n",
      "+-------------------------------+-------------+----------------+\n",
      "| Perfect for new parents. W... | 07 16, 2013 | A1HK2FQW6KXQB2 |\n",
      "| This book is such a life s... | 06 29, 2013 | A19K65VY14D13R |\n",
      "+-------------------------------+-------------+----------------+\n",
      "+-------------------------------+-------------------------------+----------------+\n",
      "|          reviewerName         |            summary            | unixReviewTime |\n",
      "+-------------------------------+-------------------------------+----------------+\n",
      "| Amanda Johnsen \"Amanda E. ... |            Awesine            |   1373932800   |\n",
      "|             angela            | Should be required for all... |   1372464000   |\n",
      "+-------------------------------+-------------------------------+----------------+\n",
      "+-------------------------------+-----+\n",
      "|          review_clean         | ... |\n",
      "+-------------------------------+-----+\n",
      "| perfect new parent able ke... | ... |\n",
      "| book life saver ha helpful... | ... |\n",
      "+-------------------------------+-----+\n",
      "[285437 rows x 12 columns]\n",
      "\n"
     ]
    }
   ],
   "source": [
    "reviews['review_sentiment'] = reviews['review_overall'].apply(lambda rating : +1 if rating > 3 else -1)\n",
    "reviews.print_rows(num_rows=2, num_columns=10)"
   ]
  },
  {
   "cell_type": "markdown",
   "metadata": {},
   "source": [
    "### Subsample dataset to make sure classes are balanced\n",
    "Just as we did in the previous assignment, we will undersample the larger class (safe loans) in order to balance out our dataset. This means we are throwing away many data points. We use `seed=1` so everyone gets the same results."
   ]
  },
  {
   "cell_type": "code",
   "execution_count": 7,
   "metadata": {
    "collapsed": false
   },
   "outputs": [
    {
     "name": "stdout",
     "output_type": "stream",
     "text": [
      "Percentage of positive reviews             : 0.50116556825\n",
      "Percentage of negative reviews             : 0.49883443175\n",
      "Total number of reviews in our new dataset : 69494\n"
     ]
    }
   ],
   "source": [
    "positive_reviews_raw = reviews[reviews['review_sentiment'] == 1]\n",
    "negative_reviews_raw  = reviews[reviews['review_sentiment'] == -1]\n",
    "\n",
    "# Undersample the reviews.\n",
    "percentage = len(negative_reviews_raw)/float(len(positive_reviews_raw))\n",
    "negative_reviews = negative_reviews_raw\n",
    "positive_reviews = positive_reviews_raw.sample(percentage, seed=1)\n",
    "products = negative_reviews_raw.append(positive_reviews)\n",
    "\n",
    "print \"Percentage of positive reviews             :\", len(positive_reviews) / float(len(products))\n",
    "print \"Percentage of negative reviews             :\", len(negative_reviews) / float(len(products))\n",
    "print \"Total number of reviews in our new dataset :\", len(products)"
   ]
  },
  {
   "cell_type": "markdown",
   "metadata": {},
   "source": [
    "# Exploring Data 2/6\n",
    "Let us quickly explore more of this dataset.\n",
    "1. We count the number of positive and negative reviews.\n",
    "2. Modify the subset to contain similar numbers of positive and negative reviews, as the original dataset consisted primarily of positive reviews."
   ]
  },
  {
   "cell_type": "code",
   "execution_count": 8,
   "metadata": {
    "collapsed": false
   },
   "outputs": [
    {
     "name": "stdout",
     "output_type": "stream",
     "text": [
      "# of positive reviews = 250771\n",
      "# of negative reviews = 34666\n"
     ]
    }
   ],
   "source": [
    "print '# of positive reviews =', len(reviews[reviews['review_sentiment']==1])\n",
    "print '# of negative reviews =', len(reviews[reviews['review_sentiment']==-1])"
   ]
  },
  {
   "cell_type": "code",
   "execution_count": 9,
   "metadata": {
    "collapsed": false
   },
   "outputs": [
    {
     "name": "stdout",
     "output_type": "stream",
     "text": [
      "# of positive balanced reviews = 34828\n",
      "# of negative balanced reviews = 34666\n"
     ]
    }
   ],
   "source": [
    "print '# of positive balanced reviews =', len(products[products['review_sentiment']==1])\n",
    "print '# of negative balanced reviews =', len(products[products['review_sentiment']==-1])"
   ]
  },
  {
   "cell_type": "markdown",
   "metadata": {},
   "source": [
    "# Reviews Extraction Phase: data preparation. \n",
    "## (developed in the Data Engineering notebook)\n",
    "**Note:** \n",
    " - column review_clean with text cleaning developed in Data Engineering notebook\n",
    " - building features: la lista de palabras important_words.json se confecciona en el nb Data Engineering"
   ]
  },
  {
   "cell_type": "markdown",
   "metadata": {},
   "source": [
    "**Note:** There are several ways of doing this. We use the built-in *count* function for Python lists. Each **review without punctuation, stopwords, etc** string is first split into individual words and the number of occurances of a given word is counted.\n",
    "1. Transform the reviews into word-counts (only for **important_words**, without punctuation, stopwords, etc)\n",
    "2. For each word in **important_words**, we compute a count for the number of times the word occurs in the review. We will store this count in a separate column (one for each word). The result of this feature processing is a single column for each word in **important_words** which keeps a count of the number of times the respective word occurs in the review text.\n",
    "\n",
    "Now, we will load these words from this JSON file:"
   ]
  },
  {
   "cell_type": "code",
   "execution_count": 10,
   "metadata": {
    "collapsed": true
   },
   "outputs": [],
   "source": [
    "import json\n",
    "with open('important_words_1500.json', 'r') as f: # Reads the list of words\n",
    "    important_words = json.load(f)\n",
    "important_words = [str(s) for s in important_words]"
   ]
  },
  {
   "cell_type": "code",
   "execution_count": 11,
   "metadata": {
    "collapsed": false
   },
   "outputs": [
    {
     "data": {
      "text/plain": [
       "1500"
      ]
     },
     "execution_count": 11,
     "metadata": {},
     "output_type": "execute_result"
    }
   ],
   "source": [
    "len(important_words)"
   ]
  },
  {
   "cell_type": "code",
   "execution_count": 12,
   "metadata": {
    "collapsed": false
   },
   "outputs": [
    {
     "name": "stdout",
     "output_type": "stream",
     "text": [
      "['i', 'wa', 'one', 'the', 'dog', 'like', 'love', 'it', 'baby', 'get', 'would', 'use', 'great', 'ha', 'cat', 'this', 'my', 'time', 'little', 'well', 'really', 'product', 'toy', 'also', 'good', 'dont', 'much', 'we', 'month', 'work', 'food', 'easy', 'make', 'put', 'old', 'even', 'seat', 'still', 'bought', 'bag', 'keep', 'used', 'they', 'thing', 'two', 'fit', 'back', 'first', 'go', 'bottle', 'doesnt', 'around', 'its', 'doe', 'small', 'day', 'im', 'got', 'using', 'size', 'need', 'take', 'water', 'think', 'son', 'since', 'year', 'better', '2', 'could', 'enough', 'didnt', 'recommend', 'way', 'buy', 'nice', 'made', 'diaper', 'price', 'clean', 'lot', 'come', 'treat', 'look', 'problem', 'he', 'long', 'big', 'bit', 'ive', 'she', 'see', 'daughter', 'car', 'side', 'every', 'play', 'want', 'hold', 'give', 'know', 'stroller', 'sure', 'so', 'right', '3', 'cant', 'week', 'if', 'these', 'perfect', 'seems', 'box', 'though', 'without', 'easily', 'tried', 'never', 'litter', 'but', 'say', 'soft', 'cup', 'new', 'pretty', 'another', 'cover', 'find', 'quality', 'best', 'hard', 'top', 'try', 'review', 'something', 'getting', 'large', 'last', 'plastic', 'part', 'room', 'however', 'going', 'help', 'far', 'different', 'happy', 'able', 'many', 'color', 'found', 'hand', 'child', 'always', '4', '5', 'purchased', 'feel', 'pad', 'set', 'and', 'smell', 'u', 'chew', 'pet', 'actually', 'piece', 'brand', 'light', 'away', 'issue', 'thought', 'item', 'place', 'definitely', 'le', 'house', 'ball', 'seem', 'eat', 'not', 'night', 'worth', 'wash', 'pump', 'bed', 'wish', 'star', 'puppy', 'when', 'store', 'you', 'minute', 'high', 'bottom', 'cute', 'sleep', 'dry', 'looking', 'started', 'crib', 'second', 'amazon', 'isnt', 'purchase', 'strap', 'took', 'quite', 'may', 'inside', 'anything', 'end', 'almost', 'highly', 'open', 'money', 'our', 'kid', 'chair', 'wont', 'came', 'fine', 'comfortable', 'bowl', 'stay', 'several', 'thats', 'three', '6', 'yet', 'easier', 'loved', 'extra', 'head', 'longer', 'probably', 'wanted', 'might', 'needed', 'change', 'smaller', 'couple', 'super', '1', 'sturdy', 'a', 'tank', 'home', 'worked', 'floor', 'handle', 'trying', 'sound', 'very', 'there', 'hour', 'nipple', 'everything', 'together', 'let', 'buying', 'stuff', 'design', 'expensive', 'material', 'bad', 'ordered', 'instead', 'pull', 'turn', 'filter', 'id', 'favorite', 'front', 'door', 'wipe', 'monitor', 'went', 'said', 'after', 'wouldnt', 'move', 'no', 'especially', 'theyre', 'maybe', 'wasnt', 'quickly', 'sometimes', 'regular', 'blanket', 'for', 'collar', 'pack', 'kind', 'ever', 'lb', 'free', '10', 'brush', 'either', 'shes', 'decided', 'next', 'teeth', 'larger', 'older', 'perfectly', 'people', 'gave', 'plus', 'weight', 'tray', 'least', 'havent', 'run', 'stick', 'friend', 'mouth', 'carrier', 'reason', 'in', 'toddler', 'others', 'pound', 'job', 'start', 'must', 'fabric', 'safe', 'read', 'half', 'as', 'fun', 'cloth', 'leak', 'milk', 'fall', 'sit', 'pillow', 'fact', 'walk', 'feature', 'order', 'mat', 'changing', 'infant', 'leg', 'feeding', 'whole', 'although', 'weve', 'battery', 'fish', 'heavy', 'nothing', 'husband', 'vet', 'hole', 'area', 'pocket', 'carry', 'youre', 'mix', 'already', 'hair', 'etc', 'foot', 'difficult', 'table', 'outside', 'now', 'space', 'bigger', 'strong', 'ingredient', 'kitty', 'feed', 'mattress', 'liked', 'lid', 'full', 'usually', 'tub', 'type', 'durable', 'case', '12', 'leave', 'option', 'couldnt', 'idea', 'close', 'gate', 'recommended', 'often', 'overall', 'sheet', 'swing', 'air', 'system', 'huge', 'cut', 'absolutely', 'fold', 'done', 'cleaning', 'harness', 'amount', 'remove', 'cheap', 'completely', 'rather', 'all', 'short', 'just', 'that', 'glad', 'break', 'newborn', 'seemed', 'life', 'bath', 'point', 'noise', 'animal', 'ill', 'leash', 'putting', 'wet', 'simple', '8', 'deal', 'making', 'warm', 'add', 'apart', 'us', 'boy', 'complaint', 'left', 'unit', 'throw', 'potty', 'received', 'travel', 'eating', 'tell', 'else', 'mind', 'picture', 'playing', 'parent', 'cost', 'girl', 'working', 'white', 'shape', 'fast', 'mean', 'giving', 'training', 'within', 'snap', 'velcro', 'chicken', 'care', 'four', 'cheaper', 'wear', 'bib', 'blue', 'gift', 'pacifier', 'mine', 'hot', 'ago', 'music', 'clip', 'mom', 'medium', 'finally', 'company', 'arm', 'at', 'stop', 'inch', 'face', 'with', 'onto', 'chewing', 'anyone', 'enjoy', 'looked', 'due', 'odor', 'washing', 'kept', 'kitten', 'soon', 'crate', 'stand', 'drink', '20', 'base', 'insert', 'guess', 'real', 'along', 'thick', 'waste', 'prefer', 'line', 'later', 'push', 'awesome', '15', 'roll', 'low', 'ended', 'worry', 'arent', 'held', 'breast', 'save', 'pick', 'container', 'difference', 'skin', 'tiny', '7', 'ok', 'keeping', 'exactly', 'thin', 'seen', 'natural', 'hang', 'mess', 'wall', 'noticed', 'excellent', 'flavor', 'version', 'healthy', 'wonderful', 'pup', 'level', 'daily', 'clear', 'button', 'bone', 'tight', 'middle', 'instruction', 'flat', 'taking', 'trip', 'position', 'black', 'holding', 'ring', 'attached', 'sitting', 'opening', 'control', 'pain', 'reviewer', 'rest', 'given', 'solid', 'eye', 'sippy', 'support', 'flea', 'neck', 'secure', '30', 'install', 'package', 'safety', 'formula', 'sleeping', 'storage', 'course', 'pleased', 'immediately', 'yes', 'hope', 'matter', 'green', 'quick', 'replacement', 'saw', 'cold', 'edge', 'replace', 'live', 'nail', 'coat', 'nicely', 'believe', 'spot', 'extremely', 'running', 'washed', 'spoon', 'figure', 'reach', 'wheel', 'bar', 'rubber', 'fountain', 'unless', 'taste', 'liner', 'crazy', 'setting', 'expected', 'wide', 'holder', 'cage', 'arrived', 'snack', 'disappointed', 'meal', 'fill', '9', 'hit', 'cause', 'past', 'suction', 'gone', 'bright', 'stuck', 'adjust', 'spray', 'figured', 'fresh', 'then', 'simply', 'flow', 'hate', 'lock', 'ear', 'show', 'touch', 'standard', 'unfortunately', 'drop', 'hasnt', 'attach', 'model', 'otherwise', 'wrap', 'mirror', 'scoop', 'entire', 'dishwasher', 'slightly', 'what', 'step', 'to', 'return', 'straw', 'turned', 'height', 'supposed', 'shower', 'stopped', 'kong', 'fairly', 'anyway', 'guy', 'five', 'compared', 'purpose', 'lab', 'double', 'watch', 'helped', 'chewer', 'teething', 'slide', 'finger', 'totally', 'twice', 'added', 'paw', 'machine', 'useful', 'fur', 'similar', 'amazing', 'loud', 'mobile', 'someone', 'latch', 'poop', 'born', 'wrong', 'bird', 'per', 'age', 'gotten', 'trouble', 'kitchen', 'pay', 'grab', 'test', 'tall', 'basket', 'summer', 'hear', 'catch', 'constantly', 'excited', 'forward', 'handy', 'check', 'surface', 'medela', 'body', 'reading', 'red', 'picky', 'variety', 'result', 'lay', 'loose', 'sized', 'multiple', 'style', 'shipping', 'important', 'family', 'screw', 'corner', 'britax', 'single', 'convenient', 'local', 'plenty', 'coming', 'window', 'lasted', 'once', 'original', 'carseat', 'choice', 'metal', 'spend', '100', 'plan', 'felt', 'kibble', 'designed', 'interested', 'while', 'gallon', 'ready', 'allows', 'camera', 'adult', 'recently', 'video', 'dirty', 'annoying', 'tip', 'zipper', 'toilet', 'avent', 'diet', 'shoulder', 'value', 'near', 'lost', 'normal', 'attention', 'carpet', 'only', 'hoping', 'hook', 'dish', 'everywhere', 'eats', 'belt', 'continue', 'wood', 'refill', 'expect', 'pee', 'tear', 'cool', 'direction', 'switch', 'across', 'lightweight', 'morning', 'towel', 'experience', 'nursing', 'pumping', 'asleep', 'note', 'stain', 'liquid', 'available', 'anymore', 'based', 'wait', 'hurt', 'sort', 'solution', 'adjustable', 'pop', 'knew', 'on', 'youll', 'bulky', 'squeaker', 'everyone', 'n', 'warmer', 'graco', 'nose', 'thinking', 'main', 'glass', 'aquarium', 'scratch', 'broke', 'clothes', 'pill', 'works', 'loves', 'purchasing', 'chewed', 'notice', 'eventually', 'pulling', 'both', 'cotton', 'worried', 'customer', 'walking', 'nap', 'allow', 'length', 'book', 'interest', 'enjoys', 'facing', 'tube', 'number', 'okay', 'prevent', 'nearly', 'booster', 'properly', 'higher', 'clipper', 'helpful', 'except', 'moving', 'supplement', 'ground', 'sits', 'bite', 'lower', 'twin', 'power', 'temperature', 'foam', 'behind', 'jump', 'surprised', 'owner', 'become', 'sink', 'dr', 'heat', 'catnip', '25', 'cap', 'bathroom', 'service', 'hes', 'spout', 'quiet', 'told', 'alone', 'pouch', 'careful', 'starting', 'young', 'texture', 'included', 'yard', '14', 'barely', 'addition', 'update', 'mini', 'imagine', 'pink', 'effective', 'wearing', 'opened', 'winter', 'mostly', 'furniture', 'carrying', 'bring', 'scratching', 'possible', 'other', 'oz', 'anywhere', 'bassinet', 'ton', 'of', 'certainly', 'adorable', 'swaddle', 'cry', 'fantastic', 'removed', 'some', 'brown', 'will', 'grow', 'research', 'grain', 'breed', 'spill', 'decent', 'whatever', 'bother', 'device', 'true', 'hanging', 'kit', 'returned', 'sun', 'unlike', 'flimsy', 'ride', 'fan', 'online', 'pattern', 'negative', 'spent', 'human', 'straight', 'tree', 'frame', 'opinion', 'have', 'tool', 'changed', 'learned', 'living', 'impressed', 'busy', 'covered', 'placed', 'offer', 'poor', 'underneath', 'pail', 'mentioned', 'falling', 'shampoo', 'softer', 'mesh', 'pulled', 'taken', 'six', 'including', 'dried', 'basically', 'broken', 'tummy', 'chance', 'smooth', 'post', 'assemble', 'slip', 'thank', '18', 'health', 'ordering', 'plug', 'oil', 'moved', 'sent', 'sensitive', 'installed', 'disposable', 'key', 'shopping', 'urine', 'range', 'organic', 'accident', 'call', 'buckle', 'whether', 'tie', 'fully', 'motor', 'center', 'special', 'market', 'mouse', 'person', 'harder', 'impossible', 'empty', 'hospital', 'cord', 'beautiful', 'meat', 'slow', 'dark', 'packaging', '50', 'likely', 'particular', 'switched', 'fell', 'previous', 'because', 'allergy', 'rating', 'sharp', 'list', 'realized', '11', 'shell', 'ate', 'tag', 'tough', 'is', 'considering', 'comfy', 'rattle', 'name', 'closed', 'understand', 'ease', 'today', 'phone', 'suggest', 'manufacturer', 'teether', 'actual', 'concerned', 'print', 'provide', 'breath', 'perhaps', 'please', 'built', 'paid', 'toss', 'suck', 'portion', 'grip', 'yellow', 'match', 'feeder', 'despite', 'avoid', 'separate', 'comfort', 'oh', 'none', 'shake', 'active', 'vitamin', 'mixed', 'pricey', 'rinse', 'wife', 'padding', 'rack', 'rear', 'deep', 'consider', 'volume', 'trash', 'heard', 'waterproof', 'wake', 'future', 'called', 'do', 'tired', 'trick', 'compartment', '45', '13', 'alternative', 'dust', 'uncomfortable', 'third', 'tend', 'cushion', 'portable', 'nursery', 'drinking', 'necessary', 'leaving', 'scent', 'cleaner', 'leaf', 'block', 'useless', 'description', 'cleaned', 'honestly', 'compact', 'squeak', 'seal', 'remember', 'thanks', 'sold', 'ergo', 'function', 'canned', 'stuffed', 'effect', 'chemical', '40', 'lift', 'rock', 'messy', 'beat', 'became', 'paper', 'additional', 'obviously', 'mention', 'attachment', 'replaced', 'plate', 'stair', 'kick', 'filled', 'period', 'ounce', 'terrier', 'realize', 'leaking', 'process', 'stomach', 'angle', 'shepherd', 'drying', 'truly', 'clump', 'literally', 'flip', 'hide', 'chest', 'originally', 'somewhat', 'grass', 'hated', 'stool', 'feeling', 'mark', 'happen', 'heater', 'rough', 'younger', 'absorbent', 'folded', 'choose', 'track', 'whenever', 'most', 'afraid', 'normally', 'thicker', 'bunch', 'supply', 'cats', 'occasionally', 'early', 'currently', 'dollar', 'protect', 'usa', 'german', 'watching', 'china', 'saved', 'cube', 'calm', 'loop', 'major', 'content', 'sack', 'lol', 'male', 'comfortably', 'rescue', 'round', 'rip', 'finding', 'strip', 'prefers', 'sell', 'initially', 'fancy', 'grocery', 'lose', 'provides', 'photo', 'tape', 'bounce', 'spit', 'tail', 'mother', 'shade', 'chose', 'corn', 'priced', 'laundry', 'sling', 'gentle', 'forever', 'everyday', 'gas', 'happened', '16', 'various', 'bouncer', 'pan', 'valve', 'freezer', 'dispenser', 'stretch', '23', 'expecting', 'comment', 'cart', 'concern', 'pressure', 'washable', 'chihuahua', 'plant', 'section', 'manual', 'boppy', 'removable', 'bra', 'flap', 'dryer', 'activity', 'comb', 'min', 'bubble', 'snug', 'positive', 'fed', 'silicone', 'improvement', 'condition', 'terrible', 'finish', 'appears', 'eater', 'destroy', 'canopy', 'con', 'played', 'stuffing', 'picked', 'bc', 'sweet', 'protein', 'caught', 'pellet', 'awhile', 'learn', 'sick', 'traveling', '24', 'wonder', 'send', 'meant', 'shed', 'enjoyed', 'layer', 'website', 'plush', 'city', 'worse', 'ask', 'degree', 'access', 'saying', 'directly', 'tug', 'wire', 'breastfeeding', 'knowing', 'damage', 'brought', 'genie', 'concept', 'weather', 'fat', 'seeing', 'destroyed', 'gum', 'learning', 'bjorn', 'firm', 'squirrel', 'sister', 'yr', 'movement', 'inexpensive', 'stage', 'squeeze', 'entertained', 'screen', 'certain', 'werent', 'total', 'average', 'upright', 'couch', 'hopefully', 'biggest', 'frequently', 'theres', 'hell', 'string', 'satisfied', 'drawer', 'fleece', 'rope', 'counter', 'spring', 'horrible', 'elastic', 'blade', 'began', 'rail', 'belly', 'benefit', 'downside', 'depending', '35', 'chase', 'effort', 'golden', 'cabinet', 'agree', 'bedroom', 'tab', 'hip', 'shelf', 'beef', 'browns', 'rolling', 'charge', 'attractive', 'recline', 'colorful', 'christmas', 'sense', 'butter', 'thus', 'happier', 'tends', 'duck', 'fix', 'rate', 'zip', 'owned', 'freeze', 'world', 'cardboard', 'seriously', 'click', 'vacuum', 'beginning', 'peanut', 'throwing', 'lead', 'powder', 'shield', 'word', 'growing', 'turtle', 'adapter', 'visit', 'bumper', 'does', 'sponge', 'contain', 'state', 'faster', 'burp', 'playtex', 'backpack', 'joint', 'awkward', 'forget', 'bonus', 'claim', 'follow', 'slept', 'be', 'bark', 'laying', 'transition', '34', 'particularly', 'luck', 'her', 'guard', 'trust', 'dropped', 'dental', 'pro', 'apparently', 'label', 'correctly', 'accessory', 'padded', 'dinner', '2nd', 'ability', 'relatively', 'pregnant', 'fussy', 'drive', 'construction', 'balance', 'cutting', 'threw', 'basic', 'intended', 'ripped', 'press', 'rid', 'orange', 'reasonable', 'ice', 'bored', 'term', 'brushing', 'park', 'weird', 'sale', 'rabbit', 'appreciate', 'mechanism', 'turning', 'chicco', 'adding', 'ran', 'advertised', 'regularly', 'munchkin', 'proof', 'complete', 'train', 'discovered', 'miracle', 'upon', 'stiff', 'salmon', 'neither', 'saver', 'mo', 'temp', 'fault', 'barking', 'hassle', 'fetch', 'dogs', 'seam', 'risk', 'pushing', 'flexible', 'shaped', 'talk', 'feather', 'happens', 'climb', 'build']\n"
     ]
    }
   ],
   "source": [
    "print important_words"
   ]
  },
  {
   "cell_type": "code",
   "execution_count": 13,
   "metadata": {
    "collapsed": false
   },
   "outputs": [],
   "source": [
    "for word in important_words:\n",
    "    products[word] = products['review_clean'].apply(lambda s : s.split().count(word))"
   ]
  },
  {
   "cell_type": "markdown",
   "metadata": {},
   "source": [
    "# Exploring Data 3/6"
   ]
  },
  {
   "cell_type": "markdown",
   "metadata": {},
   "source": [
    "The SFrame **products** now contains one column for each of the **important_words**. As an example, the column **perfect** contains a count of the number of times the word **perfect** occurs in each of the reviews."
   ]
  },
  {
   "cell_type": "code",
   "execution_count": 14,
   "metadata": {
    "collapsed": false
   },
   "outputs": [
    {
     "data": {
      "text/plain": [
       "dtype: int\n",
       "Rows: 69494\n",
       "[0, 0, 0, 0, 0, 0, 0, 0, 0, 0, 0, 0, 0, 0, 0, 1, 0, 0, 0, 0, 0, 0, 0, 0, 0, 0, 0, 0, 0, 0, 0, 0, 1, 0, 0, 0, 0, 0, 0, 0, 0, 0, 0, 0, 0, 0, 0, 0, 0, 0, 0, 0, 0, 0, 0, 0, 0, 0, 0, 0, 0, 0, 0, 0, 0, 0, 0, 0, 0, 0, 0, 0, 0, 0, 2, 0, 0, 0, 0, 0, 0, 0, 0, 0, 0, 0, 0, 0, 0, 0, 0, 0, 0, 0, 0, 0, 0, 0, 0, 0, ... ]"
      ]
     },
     "execution_count": 14,
     "metadata": {},
     "output_type": "execute_result"
    }
   ],
   "source": [
    "products['perfect']"
   ]
  },
  {
   "cell_type": "markdown",
   "metadata": {},
   "source": [
    "Now, write some code to compute the number of product reviews that contain the word **perfect**.\n",
    "* First create a column called `contains_perfect` which is set to 1 if the count of the word **perfect** (stored in column **perfect**) is >= 1.\n",
    "* Sum the number of 1s in the column `contains_perfect`."
   ]
  },
  {
   "cell_type": "code",
   "execution_count": 15,
   "metadata": {
    "collapsed": true
   },
   "outputs": [],
   "source": [
    "products['contains_perfect'] = products['perfect'].apply(lambda s : +1 if s >= 1 else 0)"
   ]
  },
  {
   "cell_type": "code",
   "execution_count": 16,
   "metadata": {
    "collapsed": false
   },
   "outputs": [
    {
     "data": {
      "text/plain": [
       "3516"
      ]
     },
     "execution_count": 16,
     "metadata": {},
     "output_type": "execute_result"
    }
   ],
   "source": [
    "products['contains_perfect'].sum()"
   ]
  },
  {
   "cell_type": "markdown",
   "metadata": {},
   "source": [
    "# Implementing logistic regression from scratch"
   ]
  },
  {
   "cell_type": "markdown",
   "metadata": {},
   "source": [
    "## link function (estimating conditional probability)"
   ]
  },
  {
   "cell_type": "markdown",
   "metadata": {},
   "source": [
    "Recall from lecture that the link function is given by:\n",
    "$$\n",
    "P(y_i = +1 | \\mathbf{x}_i,\\mathbf{w}) = \\frac{1}{1 + \\exp(-\\mathbf{w}^T h(\\mathbf{x}_i))},\n",
    "$$\n",
    "\n",
    "where the feature vector $h(\\mathbf{x}_i)$ represents the word counts of **important_words** in the review  $\\mathbf{x}_i$."
   ]
  },
  {
   "cell_type": "code",
   "execution_count": 17,
   "metadata": {
    "collapsed": true
   },
   "outputs": [],
   "source": [
    "'''\n",
    "produces probablistic estimate for P(y_i = +1 | x_i, w).\n",
    "estimate ranges between 0 and 1.\n",
    "'''\n",
    "\n",
    "def predict_probability(feature_matrix, coefficients):\n",
    "    # Take dot product of feature_matrix and coefficients  \n",
    "    scores = np.dot(feature_matrix, coefficients)\n",
    "    \n",
    "    # Compute P(y_i = +1 | x_i, w) using the link function\n",
    "    predictions = 1.0 / (1.0 + np.exp(-scores))\n",
    "\n",
    "    return predictions"
   ]
  },
  {
   "cell_type": "markdown",
   "metadata": {},
   "source": [
    "How the link function works with matrix algebra?\n",
    "\n",
    "Since the word counts are stored as columns in **feature_matrix**, each $i$-th row of the matrix corresponds to the feature vector $h(\\mathbf{x}_i)$:\n",
    "$$\n",
    "[\\text{feature_matrix}] =\n",
    "\\left[\n",
    "\\begin{array}{c}\n",
    "h(\\mathbf{x}_1)^T \\\\\n",
    "h(\\mathbf{x}_2)^T \\\\\n",
    "\\vdots \\\\\n",
    "h(\\mathbf{x}_N)^T\n",
    "\\end{array}\n",
    "\\right] =\n",
    "\\left[\n",
    "\\begin{array}{cccc}\n",
    "h_0(\\mathbf{x}_1) & h_1(\\mathbf{x}_1) & \\cdots & h_D(\\mathbf{x}_1) \\\\\n",
    "h_0(\\mathbf{x}_2) & h_1(\\mathbf{x}_2) & \\cdots & h_D(\\mathbf{x}_2) \\\\\n",
    "\\vdots & \\vdots & \\ddots & \\vdots \\\\\n",
    "h_0(\\mathbf{x}_N) & h_1(\\mathbf{x}_N) & \\cdots & h_D(\\mathbf{x}_N)\n",
    "\\end{array}\n",
    "\\right]\n",
    "$$\n",
    "\n",
    "By the rules of matrix multiplication, the score vector containing elements $\\mathbf{w}^T h(\\mathbf{x}_i)$ is obtained by multiplying **feature_matrix** and the coefficient vector $\\mathbf{w}$.\n",
    "$$\n",
    "[\\text{score}] =\n",
    "[\\text{feature_matrix}]\\mathbf{w} =\n",
    "\\left[\n",
    "\\begin{array}{c}\n",
    "h(\\mathbf{x}_1)^T \\\\\n",
    "h(\\mathbf{x}_2)^T \\\\\n",
    "\\vdots \\\\\n",
    "h(\\mathbf{x}_N)^T\n",
    "\\end{array}\n",
    "\\right]\n",
    "\\mathbf{w}\n",
    "= \\left[\n",
    "\\begin{array}{c}\n",
    "h(\\mathbf{x}_1)^T\\mathbf{w} \\\\\n",
    "h(\\mathbf{x}_2)^T\\mathbf{w} \\\\\n",
    "\\vdots \\\\\n",
    "h(\\mathbf{x}_N)^T\\mathbf{w}\n",
    "\\end{array}\n",
    "\\right]\n",
    "= \\left[\n",
    "\\begin{array}{c}\n",
    "\\mathbf{w}^T h(\\mathbf{x}_1) \\\\\n",
    "\\mathbf{w}^T h(\\mathbf{x}_2) \\\\\n",
    "\\vdots \\\\\n",
    "\\mathbf{w}^T h(\\mathbf{x}_N)\n",
    "\\end{array}\n",
    "\\right]\n",
    "$$"
   ]
  },
  {
   "cell_type": "markdown",
   "metadata": {},
   "source": [
    "## Compute derivative of log likelihood with respect to a single coefficient\n",
    "\n",
    "Recall:\n",
    "$$\n",
    "\\frac{\\partial\\ell}{\\partial w_j} = \\sum_{i=1}^N h_j(\\mathbf{x}_i)\\left(\\mathbf{1}[y_i = +1] - P(y_i = +1 | \\mathbf{x}_i, \\mathbf{w})\\right)\n",
    "$$\n",
    "\n",
    "Function that computes the derivative of log likelihood with respect to a single coefficient $w_j$. The function accepts two arguments:\n",
    "* `errors` vector containing $\\mathbf{1}[y_i = +1] - P(y_i = +1 | \\mathbf{x}_i, \\mathbf{w})$ for all $i$.\n",
    "* `feature` vector containing $h_j(\\mathbf{x}_i)$  for all $i$. "
   ]
  },
  {
   "cell_type": "code",
   "execution_count": 18,
   "metadata": {
    "collapsed": true
   },
   "outputs": [],
   "source": [
    "def feature_derivative(errors, feature):     \n",
    "    # Compute the dot product of errors and feature\n",
    "    derivative = np.dot(errors, feature)\n",
    "    \n",
    "    # Return the derivative\n",
    "    return derivative"
   ]
  },
  {
   "cell_type": "markdown",
   "metadata": {},
   "source": [
    "We introduced a transformation of this likelihood---called the log likelihood---that simplifies the derivation of the gradient and is more numerically stable.  Due to its numerical stability, we will use the log likelihood instead of the likelihood to assess the algorithm.\n",
    "\n",
    "The log likelihood is computed using the following formula (see the advanced optional video if you are curious about the derivation of this equation):\n",
    "\n",
    "$$\\ell\\ell(\\mathbf{w}) = \\sum_{i=1}^N \\Big( (\\mathbf{1}[y_i = +1] - 1)\\mathbf{w}^T h(\\mathbf{x}_i) - \\ln\\left(1 + \\exp(-\\mathbf{w}^T h(\\mathbf{x}_i))\\right) \\Big) $$\n",
    "\n",
    "Function to compute the log likelihood for the entire dataset."
   ]
  },
  {
   "cell_type": "code",
   "execution_count": 19,
   "metadata": {
    "collapsed": true
   },
   "outputs": [],
   "source": [
    "def compute_log_likelihood(feature_matrix, sentiment, coefficients):\n",
    "    indicator = (sentiment==+1)\n",
    "    scores = np.dot(feature_matrix, coefficients)\n",
    "    logexp = np.log(1. + np.exp(-scores))\n",
    "    \n",
    "    # Simple check to prevent overflow\n",
    "    mask = np.isinf(logexp)\n",
    "    logexp[mask] = -scores[mask]\n",
    "    \n",
    "    lp = np.sum((indicator-1)*scores - logexp)\n",
    "    return lp"
   ]
  },
  {
   "cell_type": "markdown",
   "metadata": {},
   "source": [
    "## Taking gradient steps\n",
    "Now we are ready to implement our own logistic regression. \n",
    "\n",
    "Function to solve the logistic regression model using gradient ascent:"
   ]
  },
  {
   "cell_type": "code",
   "execution_count": 20,
   "metadata": {
    "collapsed": true
   },
   "outputs": [],
   "source": [
    "from math import sqrt\n",
    "\n",
    "def logistic_regression(feature_matrix, sentiment, initial_coefficients, step_size, max_iter):\n",
    "    coefficients = np.array(initial_coefficients) # make sure it's a numpy array\n",
    "    for itr in xrange(max_iter):\n",
    "\n",
    "        # Predict P(y_i = +1|x_i,w) using your predict_probability() function\n",
    "        predictions = predict_probability(feature_matrix, coefficients)\n",
    "        \n",
    "        # Compute indicator value for (y_i = +1)\n",
    "        indicator = (sentiment==+1)\n",
    "        \n",
    "        # Compute the errors as indicator - predictions\n",
    "        errors = indicator - predictions\n",
    "        for j in xrange(len(coefficients)): # loop over each coefficient\n",
    "            \n",
    "            # Recall that feature_matrix[:,j] is the feature column associated with coefficients[j].\n",
    "            # Compute the derivative for coefficients[j]. Save it in a variable called derivative\n",
    "            derivative = np.dot(errors,feature_matrix[:,j])\n",
    "            \n",
    "            # add the step size times the derivative to the current coefficient\n",
    "            coefficients[j] = coefficients[j] + derivative*step_size\n",
    "        \n",
    "        # Checking whether log likelihood is increasing\n",
    "        if itr <= 15 or (itr <= 100 and itr % 10 == 0) or (itr <= 1000 and itr % 100 == 0) \\\n",
    "        or (itr <= 10000 and itr % 1000 == 0) or itr % 10000 == 0:\n",
    "            lp = compute_log_likelihood(feature_matrix, sentiment, coefficients)\n",
    "            print 'iteration %*d: log likelihood of observed labels = %.8f' % \\\n",
    "                (int(np.ceil(np.log10(max_iter))), itr, lp)\n",
    "    return coefficients"
   ]
  },
  {
   "cell_type": "markdown",
   "metadata": {},
   "source": [
    "# Resolving a sentiment classifier with logistic regression"
   ]
  },
  {
   "cell_type": "markdown",
   "metadata": {},
   "source": [
    "## Split data into training and test sets\n",
    "Let's perform a train/test split with 80% of the data in the training set and 20% of the data in the test set. We use `seed=1` so that everyone gets the same result."
   ]
  },
  {
   "cell_type": "code",
   "execution_count": 21,
   "metadata": {
    "collapsed": true
   },
   "outputs": [],
   "source": [
    "train_data, test_data = products.random_split(.8, seed=1)"
   ]
  },
  {
   "cell_type": "code",
   "execution_count": 22,
   "metadata": {
    "collapsed": false
   },
   "outputs": [
    {
     "name": "stdout",
     "output_type": "stream",
     "text": [
      "# of total reviews = 69494\n",
      "# of positive reviews on all data = 34828\n",
      "# of negative reviews on all data = 34666\n"
     ]
    }
   ],
   "source": [
    "# Warning: This may take a few minutes...\n",
    "print '# of total reviews =', len(products)\n",
    "print '# of positive reviews on all data =', len(products[products['review_sentiment']==1])\n",
    "print '# of negative reviews on all data =', len(products[products['review_sentiment']==-1])"
   ]
  },
  {
   "cell_type": "code",
   "execution_count": 23,
   "metadata": {
    "collapsed": false
   },
   "outputs": [
    {
     "name": "stdout",
     "output_type": "stream",
     "text": [
      "# of train_data reviews = 55656\n",
      "# of positive reviews on train data = 27945\n",
      "# of negative reviews on train data = 27711\n"
     ]
    }
   ],
   "source": [
    "# Warning: This may take a few minutes...\n",
    "print '# of train_data reviews =', len(train_data)\n",
    "print '# of positive reviews on train data =', len(train_data[train_data['review_sentiment']==1])\n",
    "print '# of negative reviews on train data =', len(train_data[train_data['review_sentiment']==-1])"
   ]
  },
  {
   "cell_type": "code",
   "execution_count": 24,
   "metadata": {
    "collapsed": false
   },
   "outputs": [
    {
     "name": "stdout",
     "output_type": "stream",
     "text": [
      "# of test_data reviews = 13838\n",
      "# of positive reviews on test data = 6883\n",
      "# of negative reviews on test data = 6955\n"
     ]
    }
   ],
   "source": [
    "# Warning: This may take a few minutes...\n",
    "print '# of test_data reviews =', len(test_data)\n",
    "print '# of positive reviews on test data =', len(test_data[test_data['review_sentiment']==1])\n",
    "print '# of negative reviews on test data =', len(test_data[test_data['review_sentiment']==-1])"
   ]
  },
  {
   "cell_type": "markdown",
   "metadata": {},
   "source": [
    "## SFrame to NumPy array\n",
    "NumPy is a powerful library for doing matrix manipulation. Let us convert our data to matrices and then implement our algorithms with matrices."
   ]
  },
  {
   "cell_type": "markdown",
   "metadata": {},
   "source": [
    "Function that extracts columns from an SFrame and converts them into a NumPy array. Two arrays are returned: one representing features and another representing class labels. The feature matrix includes an additional column 'intercept' to take account of the intercept term."
   ]
  },
  {
   "cell_type": "code",
   "execution_count": 25,
   "metadata": {
    "collapsed": true
   },
   "outputs": [],
   "source": [
    "import numpy as np\n",
    "def get_numpy_data(data_sframe, features, label):\n",
    "    data_sframe['intercept'] = 1\n",
    "    features = ['intercept'] + features\n",
    "    features_sframe = data_sframe[features]\n",
    "    feature_matrix = features_sframe.to_numpy()\n",
    "    label_sarray = data_sframe[label]\n",
    "    label_array = label_sarray.to_numpy()\n",
    "    return(feature_matrix, label_array)\n",
    "\n",
    "def get_numpy_feature_matrix(data_sframe, features):\n",
    "    data_sframe['intercept'] = 1\n",
    "    features = ['intercept'] + features\n",
    "    features_sframe = data_sframe[features]\n",
    "    feature_matrix = features_sframe.to_numpy()\n",
    "    return(feature_matrix)"
   ]
  },
  {
   "cell_type": "markdown",
   "metadata": {},
   "source": [
    "# Training Set"
   ]
  },
  {
   "cell_type": "markdown",
   "metadata": {},
   "source": [
    "Let us convert the train_data into NumPy arrays."
   ]
  },
  {
   "cell_type": "code",
   "execution_count": 26,
   "metadata": {
    "collapsed": false
   },
   "outputs": [],
   "source": [
    "# Warning: This may take a few minutes...\n",
    "train_feature_matrix, train_sentiment = get_numpy_data(train_data, important_words, 'review_sentiment') "
   ]
  },
  {
   "cell_type": "code",
   "execution_count": 27,
   "metadata": {
    "collapsed": false
   },
   "outputs": [
    {
     "data": {
      "text/plain": [
       "(55656, 1501)"
      ]
     },
     "execution_count": 27,
     "metadata": {},
     "output_type": "execute_result"
    }
   ],
   "source": [
    "train_feature_matrix.shape"
   ]
  },
  {
   "cell_type": "markdown",
   "metadata": {},
   "source": [
    "## Creating the sentiment classifier on the training data"
   ]
  },
  {
   "cell_type": "code",
   "execution_count": 28,
   "metadata": {
    "collapsed": false
   },
   "outputs": [
    {
     "name": "stdout",
     "output_type": "stream",
     "text": [
      "iteration   0: log likelihood of observed labels = -38567.58570502\n",
      "iteration   1: log likelihood of observed labels = -38557.40576277\n",
      "iteration   2: log likelihood of observed labels = -38547.25921528\n",
      "iteration   3: log likelihood of observed labels = -38537.14563207\n",
      "iteration   4: log likelihood of observed labels = -38527.06459114\n",
      "iteration   5: log likelihood of observed labels = -38517.01567885\n",
      "iteration   6: log likelihood of observed labels = -38506.99848975\n",
      "iteration   7: log likelihood of observed labels = -38497.01262643\n",
      "iteration   8: log likelihood of observed labels = -38487.05769931\n",
      "iteration   9: log likelihood of observed labels = -38477.13332656\n",
      "iteration  10: log likelihood of observed labels = -38467.23913387\n",
      "iteration  11: log likelihood of observed labels = -38457.37475437\n",
      "iteration  12: log likelihood of observed labels = -38447.53982844\n",
      "iteration  13: log likelihood of observed labels = -38437.73400357\n",
      "iteration  14: log likelihood of observed labels = -38427.95693423\n",
      "iteration  15: log likelihood of observed labels = -38418.20828173\n",
      "iteration  20: log likelihood of observed labels = -38369.87987900\n",
      "iteration  30: log likelihood of observed labels = -38275.17759567\n",
      "iteration  40: log likelihood of observed labels = -38182.86159060\n",
      "iteration  50: log likelihood of observed labels = -38092.70964124\n",
      "iteration  60: log likelihood of observed labels = -38004.53869606\n",
      "iteration  70: log likelihood of observed labels = -37918.19720340\n",
      "iteration  80: log likelihood of observed labels = -37833.55885019\n",
      "iteration  90: log likelihood of observed labels = -37750.51750278\n",
      "iteration 100: log likelihood of observed labels = -37668.98315313\n",
      "iteration 200: log likelihood of observed labels = -36923.40508555\n",
      "iteration 300: log likelihood of observed labels = -36279.27747153\n"
     ]
    }
   ],
   "source": [
    "# Warning: This may take a few minutes...\n",
    "sentiment_model_coefficients = logistic_regression(train_feature_matrix, train_sentiment, initial_coefficients=np.zeros(train_feature_matrix.shape[1]),\n",
    "                                   step_size=1e-7, max_iter=301)"
   ]
  },
  {
   "cell_type": "markdown",
   "metadata": {},
   "source": [
    "## Class predictions from scores"
   ]
  },
  {
   "cell_type": "markdown",
   "metadata": {},
   "source": [
    "Class predictions for a data point $\\mathbf{x}$ can be computed from the coefficients $\\mathbf{w}$ using the following formula:\n",
    "$$\n",
    "\\hat{y}_i = \n",
    "\\left\\{\n",
    "\\begin{array}{ll}\n",
    "      +1 & \\mathbf{x}_i^T\\mathbf{w} > 0 \\\\\n",
    "      -1 & \\mathbf{x}_i^T\\mathbf{w} \\leq 0 \\\\\n",
    "\\end{array} \n",
    "\\right.\n",
    "$$\n",
    "\n",
    "Now, we will write some code to compute class predictions. We will do this in two steps:\n",
    "* **Step 1**: First compute the **scores** using **feature_matrix** and **coefficients** using a dot product.\n",
    "* **Step 2**: Using the formula above, compute the class predictions from the scores.\n",
    "\n",
    "Step 1 can be implemented as follows:"
   ]
  },
  {
   "cell_type": "code",
   "execution_count": 29,
   "metadata": {
    "collapsed": true
   },
   "outputs": [],
   "source": [
    "# Step 1: Compute the scores as a dot product between feature_matrix and coefficients.\n",
    "scores = np.dot(train_feature_matrix, sentiment_model_coefficients)"
   ]
  },
  {
   "cell_type": "code",
   "execution_count": 30,
   "metadata": {
    "collapsed": true
   },
   "outputs": [],
   "source": [
    "# Step 2: compute the class predictions using the **scores** obtained above:\n",
    "train_sentiment_predictions = map((lambda score: +1 if score > 0 else -1), scores)"
   ]
  },
  {
   "cell_type": "markdown",
   "metadata": {},
   "source": [
    "## Measuring accuracy of the model\n",
    "\n",
    "We will now measure the classification accuracy of the model. \n",
    "In accuracy, instead of measuring the number of errors, we measure the number of correct classifications.\n",
    "So the ratio here is number of correct divided by total number of sentences. \n",
    "In terms of accuracy, the best possible value is 1, I've got all the sentences right. \n",
    "The classification accuracy can be computed as follows:\n",
    "\n",
    "$$\n",
    "\\mbox{accuracy} = \\frac{\\mbox{# correctly classified data points}}{\\mbox{# total data points}}\n",
    "$$"
   ]
  },
  {
   "cell_type": "code",
   "execution_count": 31,
   "metadata": {
    "collapsed": false
   },
   "outputs": [
    {
     "name": "stdout",
     "output_type": "stream",
     "text": [
      "-----------------------------------------------------\n",
      "# Reviews   correctly classified = 41572\n",
      "# Reviews incorrectly classified = 14084\n",
      "# Reviews total                  = 55656\n",
      "-----------------------------------------------------\n",
      "Accuracy = 0.75\n"
     ]
    }
   ],
   "source": [
    "num_mistakes = (train_sentiment != train_sentiment_predictions).sum()\n",
    "accuracy = 1.0 * (len(train_data) - num_mistakes) / len(train_data)\n",
    "print \"-----------------------------------------------------\"\n",
    "print '# Reviews   correctly classified =', len(train_data) - num_mistakes\n",
    "print '# Reviews incorrectly classified =', num_mistakes\n",
    "print '# Reviews total                  =', len(train_data)\n",
    "print \"-----------------------------------------------------\"\n",
    "print 'Accuracy = %.2f' % accuracy"
   ]
  },
  {
   "cell_type": "markdown",
   "metadata": {},
   "source": [
    "# Exploring Data 4/6\n",
    "## Which words contribute most to positive & negative sentiments?"
   ]
  },
  {
   "cell_type": "markdown",
   "metadata": {},
   "source": [
    "We were able to compute the \"**most positive words**\". These are words that correspond most strongly with positive reviews. In order to do this, we will first do the following:\n",
    "* Treat each coefficient as a tuple, i.e. (**word**, **coefficient_value**).\n",
    "* Sort all the (**word**, **coefficient_value**) tuples by **coefficient_value** in descending order."
   ]
  },
  {
   "cell_type": "code",
   "execution_count": 32,
   "metadata": {
    "collapsed": false
   },
   "outputs": [],
   "source": [
    "sentiment_model_coefficients_without_intercept = list(sentiment_model_coefficients[1:]) # exclude intercept\n",
    "word_coefficient_tuples = [(word, coefficient) for word, coefficient in zip(important_words, sentiment_model_coefficients_without_intercept)]"
   ]
  },
  {
   "cell_type": "markdown",
   "metadata": {},
   "source": [
    "Now, **word_coefficient_tuples** contains a sorted list of (**word**, **coefficient_value**) tuples. The first 10 elements in this list correspond to the words that are most positive."
   ]
  },
  {
   "cell_type": "markdown",
   "metadata": {},
   "source": [
    "### Twenty \"most positive\" words\n",
    "\n",
    "Now, we compute the 10 words that have the most positive coefficient values. These words are associated with positive sentiment."
   ]
  },
  {
   "cell_type": "code",
   "execution_count": 33,
   "metadata": {
    "collapsed": true
   },
   "outputs": [],
   "source": [
    "word_coefficient_tuples = sorted(word_coefficient_tuples, key=lambda x:x[1], reverse=True)"
   ]
  },
  {
   "cell_type": "code",
   "execution_count": 34,
   "metadata": {
    "collapsed": false
   },
   "outputs": [
    {
     "data": {
      "text/plain": [
       "[('love', 0.11574086898576158),\n",
       " ('great', 0.077968302180233109),\n",
       " ('easy', 0.059461702552197272),\n",
       " ('little', 0.04098241971507028),\n",
       " ('well', 0.032131608837744685),\n",
       " ('ha', 0.029038622747276092),\n",
       " ('perfect', 0.027392359136945193),\n",
       " ('keep', 0.024880151467029526),\n",
       " ('nice', 0.021059042164761621),\n",
       " ('happy', 0.018657642532903387),\n",
       " ('use', 0.017094764789196252),\n",
       " ('best', 0.016504994290409823),\n",
       " ('highly', 0.016030180615662373),\n",
       " ('size', 0.015279443984973001),\n",
       " ('clean', 0.014791679220312015),\n",
       " ('bit', 0.014452382567842526),\n",
       " ('soft', 0.013700901513913575),\n",
       " ('stroller', 0.013401161064797948),\n",
       " ('price', 0.012021641771434674),\n",
       " ('car', 0.011862034749520682)]"
      ]
     },
     "execution_count": 34,
     "metadata": {},
     "output_type": "execute_result"
    }
   ],
   "source": [
    "word_coefficient_tuples[0:20]"
   ]
  },
  {
   "cell_type": "markdown",
   "metadata": {},
   "source": [
    "## Fire up [WordCloud](https://github.com/amueller/word_cloud) "
   ]
  },
  {
   "cell_type": "code",
   "execution_count": 35,
   "metadata": {
    "collapsed": false
   },
   "outputs": [],
   "source": [
    "import matplotlib.pyplot as plt\n",
    "import pandas as pd\n",
    "from wordcloud import WordCloud\n",
    "%matplotlib inline  \n"
   ]
  },
  {
   "cell_type": "markdown",
   "metadata": {},
   "source": [
    "###  Most possitive words cloud"
   ]
  },
  {
   "cell_type": "code",
   "execution_count": 36,
   "metadata": {
    "collapsed": false
   },
   "outputs": [
    {
     "data": {
      "image/png": "[encoded data removed]",
      "text/plain": [
       "<matplotlib.figure.Figure at 0x10f2d4f50>"
      ]
     },
     "metadata": {},
     "output_type": "display_data"
    }
   ],
   "source": [
    "wordcloud = WordCloud(relative_scaling=.1).generate_from_frequencies(word_coefficient_tuples[0:20])\n",
    "plt.imshow(wordcloud)\n",
    "plt.axis(\"off\")\n",
    "plt.show()"
   ]
  },
  {
   "cell_type": "markdown",
   "metadata": {},
   "source": [
    "### Twenty \"most negative\" words\n",
    "\n",
    "Next, we repeat this exercise on the 10 most negative words.  That is, we compute the 10 words that have the most negative coefficient values. These words are associated with negative sentiment."
   ]
  },
  {
   "cell_type": "code",
   "execution_count": 37,
   "metadata": {
    "collapsed": false
   },
   "outputs": [],
   "source": [
    "word_coefficient_tuples = sorted(word_coefficient_tuples, key=lambda x:x[1], reverse=False)"
   ]
  },
  {
   "cell_type": "code",
   "execution_count": 38,
   "metadata": {
    "collapsed": false
   },
   "outputs": [
    {
     "data": {
      "text/plain": [
       "[('wa', -0.091094216373101208),\n",
       " ('would', -0.054711936013178399),\n",
       " ('product', -0.035240973743104705),\n",
       " ('money', -0.034664203752066899),\n",
       " ('didnt', -0.033507620718401847),\n",
       " ('even', -0.030034860598779179),\n",
       " ('waste', -0.025811857271428353),\n",
       " ('thought', -0.023163808370065816),\n",
       " ('review', -0.021129820851966217),\n",
       " ('disappointed', -0.020120067126427506),\n",
       " ('back', -0.019578348029954163),\n",
       " ('dont', -0.019506401630479002),\n",
       " ('tried', -0.01920563188567247),\n",
       " ('return', -0.018993485377733255),\n",
       " ('maybe', -0.017677902938593625),\n",
       " ('better', -0.017217257242232668),\n",
       " ('plastic', -0.016999403389304613),\n",
       " ('could', -0.016683823469293469),\n",
       " ('doesnt', -0.015998842247745969),\n",
       " ('work', -0.015984420236612527)]"
      ]
     },
     "execution_count": 38,
     "metadata": {},
     "output_type": "execute_result"
    }
   ],
   "source": [
    "word_coefficient_tuples[0:20]"
   ]
  },
  {
   "cell_type": "markdown",
   "metadata": {},
   "source": [
    "### Most negative words cloud"
   ]
  },
  {
   "cell_type": "code",
   "execution_count": 39,
   "metadata": {
    "collapsed": false
   },
   "outputs": [
    {
     "data": {
      "image/png": "[encoded data removed]",
      "text/plain": [
       "<matplotlib.figure.Figure at 0x114e5f790>"
      ]
     },
     "metadata": {},
     "output_type": "display_data"
    }
   ],
   "source": [
    "negativeWordsDf = pd.DataFrame(word_coefficient_tuples[0:20], columns=['word','probability'])\n",
    "\n",
    "def absProbability(row):\n",
    "    return row[\"probability\"].abs()\n",
    "\n",
    "negativeWordsDf['probability']=absProbability(negativeWordsDf)\n",
    "negativeData = [tuple(x) for x in negativeWordsDf.values]\n",
    "wordcloud = WordCloud(relative_scaling=.5).generate_from_frequencies(negativeData)\n",
    "plt.imshow(wordcloud)\n",
    "plt.axis(\"off\")\n",
    "plt.show()"
   ]
  },
  {
   "cell_type": "markdown",
   "metadata": {},
   "source": [
    "# Test Set. Making predictions with logistic regression\n",
    "Now that a model is trained, we can make predictions on the **test data**."
   ]
  },
  {
   "cell_type": "code",
   "execution_count": 40,
   "metadata": {
    "collapsed": true
   },
   "outputs": [],
   "source": [
    "# We need to convert test_data into the sparse matrix format first.\n",
    "# Warning: This may take a few minutes...\n",
    "test_feature_matrix, test_sentiment = get_numpy_data(test_data, important_words, 'review_sentiment')"
   ]
  },
  {
   "cell_type": "code",
   "execution_count": 41,
   "metadata": {
    "collapsed": false
   },
   "outputs": [],
   "source": [
    "# Step 1: Compute the scores as a dot product between feature_matrix and coefficients.\n",
    "scores = np.dot(test_feature_matrix, sentiment_model_coefficients)"
   ]
  },
  {
   "cell_type": "code",
   "execution_count": 42,
   "metadata": {
    "collapsed": false
   },
   "outputs": [],
   "source": [
    "# Step 2: compute the class predictions using the **scores** obtained above:\n",
    "test_sentiment_predictions = map((lambda score: +1 if score > 0 else -1), scores)"
   ]
  },
  {
   "cell_type": "markdown",
   "metadata": {},
   "source": [
    "## Accuracy on Test Set"
   ]
  },
  {
   "cell_type": "code",
   "execution_count": 43,
   "metadata": {
    "collapsed": false
   },
   "outputs": [
    {
     "name": "stdout",
     "output_type": "stream",
     "text": [
      "-----------------------------------------------------\n",
      "# Reviews   correctly classified = 10321\n",
      "# Reviews incorrectly classified = 3517\n",
      "# Reviews total                  = 13838\n",
      "-----------------------------------------------------\n",
      "Accuracy = 0.75\n"
     ]
    }
   ],
   "source": [
    "num_test_mistakes = (test_sentiment != test_sentiment_predictions).sum()\n",
    "accuracy = 1.0 * (len(test_data) - num_test_mistakes) / len(test_data)\n",
    "print \"-----------------------------------------------------\"\n",
    "print '# Reviews   correctly classified =', len(test_data) - num_test_mistakes\n",
    "print '# Reviews incorrectly classified =', num_test_mistakes\n",
    "print '# Reviews total                  =', len(test_data)\n",
    "print \"-----------------------------------------------------\"\n",
    "print 'Accuracy = %.2f' % accuracy"
   ]
  },
  {
   "cell_type": "markdown",
   "metadata": {},
   "source": [
    "# Exploring Data 5/6\n",
    "## Applying the learned model to understand sentiment for reviews"
   ]
  },
  {
   "cell_type": "code",
   "execution_count": 44,
   "metadata": {
    "collapsed": true
   },
   "outputs": [],
   "source": [
    "test_data['predicted_sentiment'] = scores"
   ]
  },
  {
   "cell_type": "markdown",
   "metadata": {},
   "source": [
    "### Most positive reviews"
   ]
  },
  {
   "cell_type": "code",
   "execution_count": 45,
   "metadata": {
    "collapsed": true
   },
   "outputs": [],
   "source": [
    "test_data = test_data.sort('predicted_sentiment', ascending=False)"
   ]
  },
  {
   "cell_type": "code",
   "execution_count": 46,
   "metadata": {
    "collapsed": false
   },
   "outputs": [
    {
     "data": {
      "text/html": [
       "<div style=\"max-height:1000px;max-width:1500px;overflow:auto;\"><table frame=\"box\" rules=\"cols\">\n",
       "    <tr>\n",
       "        <th style=\"padding-left: 1em; padding-right: 1em; text-align: center\">predicted_sentiment</th>\n",
       "        <th style=\"padding-left: 1em; padding-right: 1em; text-align: center\">review_sentiment</th>\n",
       "        <th style=\"padding-left: 1em; padding-right: 1em; text-align: center\">review_overall</th>\n",
       "        <th style=\"padding-left: 1em; padding-right: 1em; text-align: center\">reviewText</th>\n",
       "    </tr>\n",
       "    <tr>\n",
       "        <td style=\"padding-left: 1em; padding-right: 1em; text-align: center; vertical-align: top\">1.27741979665</td>\n",
       "        <td style=\"padding-left: 1em; padding-right: 1em; text-align: center; vertical-align: top\">1</td>\n",
       "        <td style=\"padding-left: 1em; padding-right: 1em; text-align: center; vertical-align: top\">5.0</td>\n",
       "        <td style=\"padding-left: 1em; padding-right: 1em; text-align: center; vertical-align: top\">I am  dog trainer, and<br>bought this 3 years ago. ...</td>\n",
       "    </tr>\n",
       "    <tr>\n",
       "        <td style=\"padding-left: 1em; padding-right: 1em; text-align: center; vertical-align: top\">0.979748956021</td>\n",
       "        <td style=\"padding-left: 1em; padding-right: 1em; text-align: center; vertical-align: top\">1</td>\n",
       "        <td style=\"padding-left: 1em; padding-right: 1em; text-align: center; vertical-align: top\">5.0</td>\n",
       "        <td style=\"padding-left: 1em; padding-right: 1em; text-align: center; vertical-align: top\">I love this car seat and<br>so do my kids.  My ...</td>\n",
       "    </tr>\n",
       "    <tr>\n",
       "        <td style=\"padding-left: 1em; padding-right: 1em; text-align: center; vertical-align: top\">0.930447010841</td>\n",
       "        <td style=\"padding-left: 1em; padding-right: 1em; text-align: center; vertical-align: top\">1</td>\n",
       "        <td style=\"padding-left: 1em; padding-right: 1em; text-align: center; vertical-align: top\">5.0</td>\n",
       "        <td style=\"padding-left: 1em; padding-right: 1em; text-align: center; vertical-align: top\">I got these from toys r<br>us which is slightly ...</td>\n",
       "    </tr>\n",
       "    <tr>\n",
       "        <td style=\"padding-left: 1em; padding-right: 1em; text-align: center; vertical-align: top\">0.918286682049</td>\n",
       "        <td style=\"padding-left: 1em; padding-right: 1em; text-align: center; vertical-align: top\">-1</td>\n",
       "        <td style=\"padding-left: 1em; padding-right: 1em; text-align: center; vertical-align: top\">2.0</td>\n",
       "        <td style=\"padding-left: 1em; padding-right: 1em; text-align: center; vertical-align: top\">As parents of two little<br>ones, I'd like to say we ...</td>\n",
       "    </tr>\n",
       "    <tr>\n",
       "        <td style=\"padding-left: 1em; padding-right: 1em; text-align: center; vertical-align: top\">0.869751633996</td>\n",
       "        <td style=\"padding-left: 1em; padding-right: 1em; text-align: center; vertical-align: top\">1</td>\n",
       "        <td style=\"padding-left: 1em; padding-right: 1em; text-align: center; vertical-align: top\">5.0</td>\n",
       "        <td style=\"padding-left: 1em; padding-right: 1em; text-align: center; vertical-align: top\">This is the best purchase<br>we have made for our  ...</td>\n",
       "    </tr>\n",
       "</table>\n",
       "[5 rows x 4 columns]<br/>\n",
       "</div>"
      ],
      "text/plain": [
       "Columns:\n",
       "\tpredicted_sentiment\tfloat\n",
       "\treview_sentiment\tint\n",
       "\treview_overall\tfloat\n",
       "\treviewText\tstr\n",
       "\n",
       "Rows: 5\n",
       "\n",
       "Data:\n",
       "+---------------------+------------------+----------------+\n",
       "| predicted_sentiment | review_sentiment | review_overall |\n",
       "+---------------------+------------------+----------------+\n",
       "|    1.27741979665    |        1         |      5.0       |\n",
       "|    0.979748956021   |        1         |      5.0       |\n",
       "|    0.930447010841   |        1         |      5.0       |\n",
       "|    0.918286682049   |        -1        |      2.0       |\n",
       "|    0.869751633996   |        1         |      5.0       |\n",
       "+---------------------+------------------+----------------+\n",
       "+-------------------------------+\n",
       "|           reviewText          |\n",
       "+-------------------------------+\n",
       "| I am  dog trainer, and bou... |\n",
       "| I love this car seat and s... |\n",
       "| I got these from toys r us... |\n",
       "| As parents of two little o... |\n",
       "| This is the best purchase ... |\n",
       "+-------------------------------+\n",
       "[5 rows x 4 columns]"
      ]
     },
     "execution_count": 46,
     "metadata": {},
     "output_type": "execute_result"
    }
   ],
   "source": [
    "test_data[['predicted_sentiment','review_sentiment','review_overall','reviewText']][0:5]"
   ]
  },
  {
   "cell_type": "code",
   "execution_count": 47,
   "metadata": {
    "collapsed": false
   },
   "outputs": [
    {
     "data": {
      "text/plain": [
       "'I am  dog trainer, and bought this 3 years ago. My dogs love it, shelties, and my clients love it. All my board and train dogs love it. Easy set up, easy fold, easy wash cover.  I do not put the cover in the dyer! just air dry. this is sheltie, 23-30 lb weight. go bigger for size. has held up great!  truly a great buy ! for a non chewing dog.  dog lady of forest grove*** my clients have been buying this cot and all say they love it,, dogs really like the feel and support12 clients dog have loved it and demanded their own, a great buy.nov 2011 six more client dogs demand this bed,, great bed buy it.2012 dog bed has needed minor sewing repairs after 80 plus lb dogs want this bed. clients dogs love it. a great buy.'"
      ]
     },
     "execution_count": 47,
     "metadata": {},
     "output_type": "execute_result"
    }
   ],
   "source": [
    "# Most positive review\n",
    "test_data[0]['reviewText']"
   ]
  },
  {
   "cell_type": "markdown",
   "metadata": {},
   "source": [
    "### Most negative reviews"
   ]
  },
  {
   "cell_type": "code",
   "execution_count": 48,
   "metadata": {
    "collapsed": true
   },
   "outputs": [],
   "source": [
    "test_data = test_data.sort('predicted_sentiment', ascending=True)"
   ]
  },
  {
   "cell_type": "code",
   "execution_count": 49,
   "metadata": {
    "collapsed": false
   },
   "outputs": [
    {
     "data": {
      "text/html": [
       "<div style=\"max-height:1000px;max-width:1500px;overflow:auto;\"><table frame=\"box\" rules=\"cols\">\n",
       "    <tr>\n",
       "        <th style=\"padding-left: 1em; padding-right: 1em; text-align: center\">predicted_sentiment</th>\n",
       "        <th style=\"padding-left: 1em; padding-right: 1em; text-align: center\">review_sentiment</th>\n",
       "        <th style=\"padding-left: 1em; padding-right: 1em; text-align: center\">review_overall</th>\n",
       "        <th style=\"padding-left: 1em; padding-right: 1em; text-align: center\">reviewText</th>\n",
       "    </tr>\n",
       "    <tr>\n",
       "        <td style=\"padding-left: 1em; padding-right: 1em; text-align: center; vertical-align: top\">-2.35141183744</td>\n",
       "        <td style=\"padding-left: 1em; padding-right: 1em; text-align: center; vertical-align: top\">-1</td>\n",
       "        <td style=\"padding-left: 1em; padding-right: 1em; text-align: center; vertical-align: top\">1.0</td>\n",
       "        <td style=\"padding-left: 1em; padding-right: 1em; text-align: center; vertical-align: top\">So I read many reviews on<br>this product and watched ...</td>\n",
       "    </tr>\n",
       "    <tr>\n",
       "        <td style=\"padding-left: 1em; padding-right: 1em; text-align: center; vertical-align: top\">-2.13293039631</td>\n",
       "        <td style=\"padding-left: 1em; padding-right: 1em; text-align: center; vertical-align: top\">-1</td>\n",
       "        <td style=\"padding-left: 1em; padding-right: 1em; text-align: center; vertical-align: top\">1.0</td>\n",
       "        <td style=\"padding-left: 1em; padding-right: 1em; text-align: center; vertical-align: top\">My advice on the Bright<br>Starts Sugar Blossom ...</td>\n",
       "    </tr>\n",
       "    <tr>\n",
       "        <td style=\"padding-left: 1em; padding-right: 1em; text-align: center; vertical-align: top\">-1.88767422128</td>\n",
       "        <td style=\"padding-left: 1em; padding-right: 1em; text-align: center; vertical-align: top\">1</td>\n",
       "        <td style=\"padding-left: 1em; padding-right: 1em; text-align: center; vertical-align: top\">4.0</td>\n",
       "        <td style=\"padding-left: 1em; padding-right: 1em; text-align: center; vertical-align: top\">First, I got this bark<br>collar after I read ...</td>\n",
       "    </tr>\n",
       "    <tr>\n",
       "        <td style=\"padding-left: 1em; padding-right: 1em; text-align: center; vertical-align: top\">-1.59814959757</td>\n",
       "        <td style=\"padding-left: 1em; padding-right: 1em; text-align: center; vertical-align: top\">-1</td>\n",
       "        <td style=\"padding-left: 1em; padding-right: 1em; text-align: center; vertical-align: top\">1.0</td>\n",
       "        <td style=\"padding-left: 1em; padding-right: 1em; text-align: center; vertical-align: top\">I got this monitor<br>because our old one was ...</td>\n",
       "    </tr>\n",
       "    <tr>\n",
       "        <td style=\"padding-left: 1em; padding-right: 1em; text-align: center; vertical-align: top\">-1.5695483579</td>\n",
       "        <td style=\"padding-left: 1em; padding-right: 1em; text-align: center; vertical-align: top\">-1</td>\n",
       "        <td style=\"padding-left: 1em; padding-right: 1em; text-align: center; vertical-align: top\">1.0</td>\n",
       "        <td style=\"padding-left: 1em; padding-right: 1em; text-align: center; vertical-align: top\">I purchased the monitor<br>through Amazon and was ...</td>\n",
       "    </tr>\n",
       "</table>\n",
       "[5 rows x 4 columns]<br/>\n",
       "</div>"
      ],
      "text/plain": [
       "Columns:\n",
       "\tpredicted_sentiment\tfloat\n",
       "\treview_sentiment\tint\n",
       "\treview_overall\tfloat\n",
       "\treviewText\tstr\n",
       "\n",
       "Rows: 5\n",
       "\n",
       "Data:\n",
       "+---------------------+------------------+----------------+\n",
       "| predicted_sentiment | review_sentiment | review_overall |\n",
       "+---------------------+------------------+----------------+\n",
       "|    -2.35141183744   |        -1        |      1.0       |\n",
       "|    -2.13293039631   |        -1        |      1.0       |\n",
       "|    -1.88767422128   |        1         |      4.0       |\n",
       "|    -1.59814959757   |        -1        |      1.0       |\n",
       "|    -1.5695483579    |        -1        |      1.0       |\n",
       "+---------------------+------------------+----------------+\n",
       "+-------------------------------+\n",
       "|           reviewText          |\n",
       "+-------------------------------+\n",
       "| So I read many reviews on ... |\n",
       "| My advice on the Bright St... |\n",
       "| First, I got this bark col... |\n",
       "| I got this monitor because... |\n",
       "| I purchased the monitor th... |\n",
       "+-------------------------------+\n",
       "[5 rows x 4 columns]"
      ]
     },
     "execution_count": 49,
     "metadata": {},
     "output_type": "execute_result"
    }
   ],
   "source": [
    "test_data[['predicted_sentiment','review_sentiment','review_overall','reviewText']][0:5]"
   ]
  },
  {
   "cell_type": "code",
   "execution_count": 50,
   "metadata": {
    "collapsed": false,
    "scrolled": true
   },
   "outputs": [
    {
     "data": {
      "text/plain": [
       "\"So I read many reviews on this product and watched youtube videos on it as well. Everyone said the same thing and shame on me for not following my gut feeling. I've been in the aquarium hobby for years and this was my first attempt at setting this up the way its supposed to be done according to the directions. First of all, everyone said it leaks. Well, it does, and from a few places. The hose input and output leaks, the bottom screw on access point leaks and overall this is a cheaply made crappy product. Now, am I saying it doesn't work? IDK, but its not working for me simply on the fact that I shouldn't have to completely seal and bond every point of this contraption and use hose clamps which still leak. The directions may as well be a pop up book with no words, unless  you can read some vague chineese symbols if the directions translate into English. It never says what appropriate size hose to use, I tried 1/2 inch and it fits fine, but still leaks. 3/8 seemed too tight. 5/8 too big. The suction cups that are supposed to hold the unit mounted to the tank aren't even designed for this unit. The suction cup plastic nipple molded into the unit that is supposed to go into the suction cup hole, for one isn't big enough, for two even if you did get the nipple in without breaking it off it won't be held by anything inside of it because there is no inner lip that catches the fatter part of the nipple to hold the suction cup in. Instead it looks like there needs to be a larger bracket or slot that the suction cup tip slides into a hole and then holds the unilt to the suction cup, but there is surely no bracket for that whatsoever so that deems the suctions cups useless. Just a P*SS POOR design on that end. As for the overall functionality, from a design aspect the concept seems cool and would probably work as others have mentioned, but what does your time cost you? I spend about 2 hours trying to get this thing hooked up and running which took about 30 minutes at most between the hoses and my filter etc, but then the next 1.5 hours it took me to &#34;ATTEMPT&#34; to get this thing to stop leaking. I tried teflon tape, no go. Then added a bit of plumbers dope, no go. Cleaned that off and aside from probably needing to silicone the hole thing shut for good, I stopped there. Then came the hose ends leaking. Every attempt to see how the  water was leaking and to get it to stop was failed. And trust me I've remodeled houses and I do everything from plumbing to electrical and this thing doesn't serve its purpose. This needs to have barbed tips to hold the hose tighter than not and should come with some sort of hose clamps or even really secure zip locks if and when the correct hose that &#34;they suggest&#34; is used properly, but oh yeah they didn't do that. I don't feel I should have to set up metal hose clamps on a product like this. Oh, I forgot to mention for the little while that this was running the impellers would only spin when the unit was in a horizontal position. The directions say to keep it in an upright position at all times, YEAH RIGHT!! Everytime you put it in an upright position the impellers stop spinning. On one of my leak fixing attempts I took the main inner shaft out and it cracked too. Its like having an eggshell inner tube, instead of a nice rigid plastic durable inner tube that should be able to last. The plastic impeller blades are crap too. Overall this was a huge waste of time and money and I don't care how many people had to &#34;JIMMY RIG&#34; this thing to get it to function properly, but right out of the box this thing was a lost cause. If you are that serious about diffusing CO2 then I suggest taking more time to figure out another way instead of this as you may spend less time fussing with it, or be a bit creative and find a way to mimic this simple design if it works so well and build your own unit. I'm pretty much done with this plastic hunk of cheaply made chineese junk. I'm sure if an american company were making this it would have some sort of better standard, at least I would hope so. I'm not going to bother with customer service or returning it etc because at this point what are they going to say? Well, you modified it so it voided the warranty! Well, duh, no matter who you are or what you are using this for you are going to have to modify it and tinker with its major major flaws of design, material, and functionality so basically your warranty is already void before you purchase this. I usually give every product a fair shake, but this one by far is a total bummer. I only gave it 1 star because it arrived and was in a new box. Whoo hoo!! That's about all you will cheer for with this one. Like I said, I'm either going to have to make my own unit or pretty much settle on a ceramic diffuser that only costs  a few bucks compared to this crap. I wouldn't have paid 3 dollars for this thing at a flea market if I knew this would be the case. I think Amazon needs to take this one off the website as it requires major mods and a waste of time. New products that boast what this one boasts should not need to be modified or re-engineered in any way or form and if consistent leaks were the issue it should be a simple call to replace a faulty unit as it was made faulty. Seriously, if this review hasn't changed your mind then be my guest and give yourself a headache and thin out your wallet a little because that's about all I can say you will accomplish with this one. I'll make my own!! Complete waste.....and probably an outstanding concept and design in what it's supposed to do &#34;if it worked&#34; and was made with better material and simple design details were some sort of concern to the people making this. This looks like some kid's science fair project that he was making out of his garage in plastic molds with zero quality control and product testing. but aside from that this thing could have come in a cracker jack box and been worth more. JUNK!! Amazon, stop selling this product. I love you guys, but seriously this one is a joke overall. I don't want to be vulgar, but I've had &#34;protective latex gear&#34;, if you will, last longer than this.\""
      ]
     },
     "execution_count": 50,
     "metadata": {},
     "output_type": "execute_result"
    }
   ],
   "source": [
    "# Most negative review\n",
    "test_data[0]['reviewText']"
   ]
  },
  {
   "cell_type": "markdown",
   "metadata": {},
   "source": [
    "# Exploring Data 6/6: \n",
    "# Applying the learned model to discover insights on twitter."
   ]
  },
  {
   "cell_type": "markdown",
   "metadata": {},
   "source": [
    "## Tweets Extraction Phase: data preparation. \n",
    "### (developed in the Data Engineering notebook)\n",
    "**Note:** \n",
    " - column text_clean with text cleaning developed in Data Engineering notebook"
   ]
  },
  {
   "cell_type": "markdown",
   "metadata": {},
   "source": [
    "## Tweets about Flights"
   ]
  },
  {
   "cell_type": "code",
   "execution_count": 101,
   "metadata": {
    "collapsed": false,
    "scrolled": true
   },
   "outputs": [
    {
     "data": {
      "text/html": [
       "<pre>Unable to parse line \"\"174\",\"741791291663486976\",\"BONDED  FLIGHT  - Patti Warashina #bronze #sculpture #NewMexicoTrue\"</pre>"
      ],
      "text/plain": [
       "Unable to parse line \"\"174\",\"741791291663486976\",\"BONDED  FLIGHT  - Patti Warashina #bronze #sculpture #NewMexicoTrue\""
      ]
     },
     "metadata": {},
     "output_type": "display_data"
    },
    {
     "data": {
      "text/html": [
       "<pre>Unable to parse line \"\"61\",\"741695305314226176\",\"Patio beers! \"</pre>"
      ],
      "text/plain": [
       "Unable to parse line \"\"61\",\"741695305314226176\",\"Patio beers! \""
      ]
     },
     "metadata": {},
     "output_type": "display_data"
    },
    {
     "data": {
      "text/html": [
       "<pre>Unable to parse line \"https://t.co/7T2ql3mbIX https://t.co/dOtIfqwFiE\",\"Sun Jun 12 00:36:40 +0000 2016\",\"35.68122\",\"-105.9271\",\"Santa Fe, NM\",\"bonded flight patti warashina bronze sculpture newmexicotrue http tco7t2ql3mbix http tcodotifqwfie\"\"</pre>"
      ],
      "text/plain": [
       "Unable to parse line \"https://t.co/7T2ql3mbIX https://t.co/dOtIfqwFiE\",\"Sun Jun 12 00:36:40 +0000 2016\",\"35.68122\",\"-105.9271\",\"Santa Fe, NM\",\"bonded flight patti warashina bronze sculpture newmexicotrue http tco7t2ql3mbix http tcodotifqwfie\"\""
      ]
     },
     "metadata": {},
     "output_type": "display_data"
    },
    {
     "data": {
      "text/html": [
       "<pre>Unable to parse line \"\"195\",\"741814849974341632\",\"Estuvo MEH\"</pre>"
      ],
      "text/plain": [
       "Unable to parse line \"\"195\",\"741814849974341632\",\"Estuvo MEH\""
      ]
     },
     "metadata": {},
     "output_type": "display_data"
    },
    {
     "data": {
      "text/html": [
       "<pre>4 lines failed to parse correctly</pre>"
      ],
      "text/plain": [
       "4 lines failed to parse correctly"
      ]
     },
     "metadata": {},
     "output_type": "display_data"
    },
    {
     "data": {
      "text/html": [
       "<pre>Finished parsing file /Users/digeno/Documents/Cursos/BigData/Kschool-Data-Scientist/proyecto/git/USA-flight-tweets.csv</pre>"
      ],
      "text/plain": [
       "Finished parsing file /Users/digeno/Documents/Cursos/BigData/Kschool-Data-Scientist/proyecto/git/USA-flight-tweets.csv"
      ]
     },
     "metadata": {},
     "output_type": "display_data"
    },
    {
     "data": {
      "text/html": [
       "<pre>Parsing completed. Parsed 100 lines in 0.028588 secs.</pre>"
      ],
      "text/plain": [
       "Parsing completed. Parsed 100 lines in 0.028588 secs."
      ]
     },
     "metadata": {},
     "output_type": "display_data"
    },
    {
     "data": {
      "text/html": [
       "<pre>Unable to parse line \"\"174\",\"741791291663486976\",\"BONDED  FLIGHT  - Patti Warashina #bronze #sculpture #NewMexicoTrue\"</pre>"
      ],
      "text/plain": [
       "Unable to parse line \"\"174\",\"741791291663486976\",\"BONDED  FLIGHT  - Patti Warashina #bronze #sculpture #NewMexicoTrue\""
      ]
     },
     "metadata": {},
     "output_type": "display_data"
    },
    {
     "data": {
      "text/html": [
       "<pre>Unable to parse line \"\"61\",\"741695305314226176\",\"Patio beers! \"</pre>"
      ],
      "text/plain": [
       "Unable to parse line \"\"61\",\"741695305314226176\",\"Patio beers! \""
      ]
     },
     "metadata": {},
     "output_type": "display_data"
    },
    {
     "data": {
      "text/html": [
       "<pre>Unable to parse line \"https://t.co/7T2ql3mbIX https://t.co/dOtIfqwFiE\",\"Sun Jun 12 00:36:40 +0000 2016\",\"35.68122\",\"-105.9271\",\"Santa Fe, NM\",\"bonded flight patti warashina bronze sculpture newmexicotrue http tco7t2ql3mbix http tcodotifqwfie\"\"</pre>"
      ],
      "text/plain": [
       "Unable to parse line \"https://t.co/7T2ql3mbIX https://t.co/dOtIfqwFiE\",\"Sun Jun 12 00:36:40 +0000 2016\",\"35.68122\",\"-105.9271\",\"Santa Fe, NM\",\"bonded flight patti warashina bronze sculpture newmexicotrue http tco7t2ql3mbix http tcodotifqwfie\"\""
      ]
     },
     "metadata": {},
     "output_type": "display_data"
    },
    {
     "data": {
      "text/html": [
       "<pre>Unable to parse line \"\"195\",\"741814849974341632\",\"Estuvo MEH\"</pre>"
      ],
      "text/plain": [
       "Unable to parse line \"\"195\",\"741814849974341632\",\"Estuvo MEH\""
      ]
     },
     "metadata": {},
     "output_type": "display_data"
    },
    {
     "data": {
      "text/html": [
       "<pre>4 lines failed to parse correctly</pre>"
      ],
      "text/plain": [
       "4 lines failed to parse correctly"
      ]
     },
     "metadata": {},
     "output_type": "display_data"
    },
    {
     "data": {
      "text/html": [
       "<pre>Finished parsing file /Users/digeno/Documents/Cursos/BigData/Kschool-Data-Scientist/proyecto/git/USA-flight-tweets.csv</pre>"
      ],
      "text/plain": [
       "Finished parsing file /Users/digeno/Documents/Cursos/BigData/Kschool-Data-Scientist/proyecto/git/USA-flight-tweets.csv"
      ]
     },
     "metadata": {},
     "output_type": "display_data"
    },
    {
     "data": {
      "text/html": [
       "<pre>Parsing completed. Parsed 125 lines in 0.009735 secs.</pre>"
      ],
      "text/plain": [
       "Parsing completed. Parsed 125 lines in 0.009735 secs."
      ]
     },
     "metadata": {},
     "output_type": "display_data"
    },
    {
     "name": "stdout",
     "output_type": "stream",
     "text": [
      "------------------------------------------------------\n",
      "Inferred types from first 100 line(s) of file as \n",
      "column_type_hints=[int,int,str,str,float,float,str,str]\n",
      "If parsing fails due to incorrect types, you can correct\n",
      "the inferred type list above and pass it to read_csv in\n",
      "the column_type_hints argument\n",
      "------------------------------------------------------\n"
     ]
    }
   ],
   "source": [
    "tweets_data = sframe.SFrame('USA-flight-tweets.csv')"
   ]
  },
  {
   "cell_type": "code",
   "execution_count": 102,
   "metadata": {
    "collapsed": false
   },
   "outputs": [
    {
     "data": {
      "text/plain": [
       "125"
      ]
     },
     "execution_count": 102,
     "metadata": {},
     "output_type": "execute_result"
    }
   ],
   "source": [
    "len(tweets_data)"
   ]
  },
  {
   "cell_type": "code",
   "execution_count": 103,
   "metadata": {
    "collapsed": false
   },
   "outputs": [
    {
     "data": {
      "text/plain": [
       "<bound method SFrame.column_names of Columns:\n",
       "\tX1\tint\n",
       "\ttweet_id\tint\n",
       "\ttweet_text\tstr\n",
       "\ttweet_created_at\tstr\n",
       "\ttweet_geo_lat\tfloat\n",
       "\ttweet_geo_lon\tfloat\n",
       "\ttweet_city\tstr\n",
       "\ttext_clean\tstr\n",
       "\n",
       "Rows: 125\n",
       "\n",
       "Data:\n",
       "+----+--------------------+-------------------------------+\n",
       "| X1 |      tweet_id      |           tweet_text          |\n",
       "+----+--------------------+-------------------------------+\n",
       "| 0  | 741538295482617856 | Picture of an emerald humm... |\n",
       "| 1  | 741545766280265728 | #AUS #SFO Austin Texas -&g... |\n",
       "| 2  | 741560611327250432 | #LAS #LAX Las Vegas -&gt; ... |\n",
       "| 3  | 741560864059183104 | #IAD #SFO Washington Dulle... |\n",
       "| 4  | 741561116753461248 | #DAL #SFO Dallas Love Fiel... |\n",
       "| 5  | 741571697636192257 | Up to 50% Off Frio Bat Fli... |\n",
       "| 7  | 741610670542757889 | My flight music #kellypric... |\n",
       "| 12 | 741617791518806016 | Hoping for a uneventful fl... |\n",
       "| 15 | 741619785570648064 | Photo: Shot of a plane tai... |\n",
       "| 17 | 741621010223357952 | #DCA #SFO Washington DC/DC... |\n",
       "+----+--------------------+-------------------------------+\n",
       "+--------------------------------+---------------+---------------+\n",
       "|        tweet_created_at        | tweet_geo_lat | tweet_geo_lon |\n",
       "+--------------------------------+---------------+---------------+\n",
       "| Sat Jun 11 07:51:21 +0000 2016 |  37.69945331  |  -123.0120263 |\n",
       "| Sat Jun 11 08:21:02 +0000 2016 |    30.1944    |     -97.67    |\n",
       "| Sat Jun 11 09:20:01 +0000 2016 |     36.08     |   -115.1522   |\n",
       "| Sat Jun 11 09:21:02 +0000 2016 |    38.9444    |    -77.4558   |\n",
       "| Sat Jun 11 09:22:02 +0000 2016 |    32.8472    |    -96.8517   |\n",
       "| Sat Jun 11 10:04:05 +0000 2016 |    29.4452    |    -99.6649   |\n",
       "| Sat Jun 11 12:38:56 +0000 2016 |  32.89843204  |  -97.03915823 |\n",
       "| Sat Jun 11 13:07:14 +0000 2016 |   35.2189125  |  -80.94415716 |\n",
       "| Sat Jun 11 13:15:10 +0000 2016 |  37.69910409  | -123.01160584 |\n",
       "| Sat Jun 11 13:20:02 +0000 2016 |    38.8522    |    -77.0378   |\n",
       "+--------------------------------+---------------+---------------+\n",
       "+-----------------+-------------------------------+\n",
       "|    tweet_city   |           text_clean          |\n",
       "+-----------------+-------------------------------+\n",
       "| California, USA | picture emerald hummingbir... |\n",
       "|    Austin, TX   | aus sfo austin texas gt sa... |\n",
       "|   Paradise, NV  | las lax las vegas gt los a... |\n",
       "|  Virginia, USA  | iad sfo washington dulles ... |\n",
       "|    Dallas, TX   | dal sfo dallas love field ... |\n",
       "|    Texas, USA   | up 50 off frio bat flight ... |\n",
       "|  Grapevine, TX  | my flight music kellyprice... |\n",
       "|  Charlotte, NC  | hoping uneventful flight a... |\n",
       "| California, USA | photo shot plane tail flig... |\n",
       "|  Arlington, VA  | dca sfo washington dcdca g... |\n",
       "+-----------------+-------------------------------+\n",
       "[125 rows x 8 columns]\n",
       "Note: Only the head of the SFrame is printed.\n",
       "You can use print_rows(num_rows=m, num_columns=n) to print more rows and columns.>"
      ]
     },
     "execution_count": 103,
     "metadata": {},
     "output_type": "execute_result"
    }
   ],
   "source": [
    "tweets_data.column_names"
   ]
  },
  {
   "cell_type": "code",
   "execution_count": 104,
   "metadata": {
    "collapsed": false
   },
   "outputs": [],
   "source": [
    "for word in important_words:\n",
    "    tweets_data[word] = tweets_data['text_clean'].apply(lambda s : s.split().count(word))"
   ]
  },
  {
   "cell_type": "code",
   "execution_count": 105,
   "metadata": {
    "collapsed": true
   },
   "outputs": [],
   "source": [
    "# We need to convert test_data into the sparse matrix format first.\n",
    "# Warning: This may take a few minutes...\n",
    "tweets_feature_matrix  = get_numpy_feature_matrix(tweets_data, important_words) "
   ]
  },
  {
   "cell_type": "code",
   "execution_count": 106,
   "metadata": {
    "collapsed": true
   },
   "outputs": [],
   "source": [
    "# Step 1: Compute the scores as a dot product between feature_matrix and coefficients.\n",
    "scores = np.dot(tweets_feature_matrix, sentiment_model_coefficients)"
   ]
  },
  {
   "cell_type": "code",
   "execution_count": 107,
   "metadata": {
    "collapsed": true
   },
   "outputs": [],
   "source": [
    "tweets_data['predicted_sentiment'] = scores"
   ]
  },
  {
   "cell_type": "markdown",
   "metadata": {},
   "source": [
    "### Export to json array to d3 visualization"
   ]
  },
  {
   "cell_type": "markdown",
   "metadata": {},
   "source": [
    "### Most positive tweets"
   ]
  },
  {
   "cell_type": "code",
   "execution_count": 108,
   "metadata": {
    "collapsed": true
   },
   "outputs": [],
   "source": [
    "tweets_data = tweets_data.sort('predicted_sentiment', ascending=False)"
   ]
  },
  {
   "cell_type": "code",
   "execution_count": 109,
   "metadata": {
    "collapsed": false
   },
   "outputs": [
    {
     "data": {
      "text/html": [
       "<div style=\"max-height:1000px;max-width:1500px;overflow:auto;\"><table frame=\"box\" rules=\"cols\">\n",
       "    <tr>\n",
       "        <th style=\"padding-left: 1em; padding-right: 1em; text-align: center\">tweet_id</th>\n",
       "        <th style=\"padding-left: 1em; padding-right: 1em; text-align: center\">predicted_sentiment</th>\n",
       "        <th style=\"padding-left: 1em; padding-right: 1em; text-align: center\">tweet_text</th>\n",
       "        <th style=\"padding-left: 1em; padding-right: 1em; text-align: center\">tweet_geo_lat</th>\n",
       "        <th style=\"padding-left: 1em; padding-right: 1em; text-align: center\">tweet_geo_lon</th>\n",
       "        <th style=\"padding-left: 1em; padding-right: 1em; text-align: center\">tweet_city</th>\n",
       "    </tr>\n",
       "    <tr>\n",
       "        <td style=\"padding-left: 1em; padding-right: 1em; text-align: center; vertical-align: top\">741561116753461248</td>\n",
       "        <td style=\"padding-left: 1em; padding-right: 1em; text-align: center; vertical-align: top\">0.126829765846</td>\n",
       "        <td style=\"padding-left: 1em; padding-right: 1em; text-align: center; vertical-align: top\">#DAL #SFO Dallas Love<br>Field -&amp;gt; San Franc ...</td>\n",
       "        <td style=\"padding-left: 1em; padding-right: 1em; text-align: center; vertical-align: top\">32.8472</td>\n",
       "        <td style=\"padding-left: 1em; padding-right: 1em; text-align: center; vertical-align: top\">-96.8517</td>\n",
       "        <td style=\"padding-left: 1em; padding-right: 1em; text-align: center; vertical-align: top\">Dallas, TX</td>\n",
       "    </tr>\n",
       "    <tr>\n",
       "        <td style=\"padding-left: 1em; padding-right: 1em; text-align: center; vertical-align: top\">741716944848457728</td>\n",
       "        <td style=\"padding-left: 1em; padding-right: 1em; text-align: center; vertical-align: top\">0.0890571990404</td>\n",
       "        <td style=\"padding-left: 1em; padding-right: 1em; text-align: center; vertical-align: top\">@DubeScoops<br>@NASCAR_XFINITY ...</td>\n",
       "        <td style=\"padding-left: 1em; padding-right: 1em; text-align: center; vertical-align: top\">34.8565622</td>\n",
       "        <td style=\"padding-left: 1em; padding-right: 1em; text-align: center; vertical-align: top\">-92.4080965</td>\n",
       "        <td style=\"padding-left: 1em; padding-right: 1em; text-align: center; vertical-align: top\">Leanne's</td>\n",
       "    </tr>\n",
       "</table>\n",
       "[2 rows x 6 columns]<br/>\n",
       "</div>"
      ],
      "text/plain": [
       "Columns:\n",
       "\ttweet_id\tint\n",
       "\tpredicted_sentiment\tfloat\n",
       "\ttweet_text\tstr\n",
       "\ttweet_geo_lat\tfloat\n",
       "\ttweet_geo_lon\tfloat\n",
       "\ttweet_city\tstr\n",
       "\n",
       "Rows: 2\n",
       "\n",
       "Data:\n",
       "+--------------------+---------------------+-------------------------------+\n",
       "|      tweet_id      | predicted_sentiment |           tweet_text          |\n",
       "+--------------------+---------------------+-------------------------------+\n",
       "| 741561116753461248 |    0.126829765846   | #DAL #SFO Dallas Love Fiel... |\n",
       "| 741716944848457728 |   0.0890571990404   | @DubeScoops @NASCAR_XFINIT... |\n",
       "+--------------------+---------------------+-------------------------------+\n",
       "+---------------+---------------+------------+\n",
       "| tweet_geo_lat | tweet_geo_lon | tweet_city |\n",
       "+---------------+---------------+------------+\n",
       "|    32.8472    |    -96.8517   | Dallas, TX |\n",
       "|   34.8565622  |  -92.4080965  |  Leanne's  |\n",
       "+---------------+---------------+------------+\n",
       "[2 rows x 6 columns]"
      ]
     },
     "execution_count": 109,
     "metadata": {},
     "output_type": "execute_result"
    }
   ],
   "source": [
    "tweets_data[['tweet_id','predicted_sentiment','tweet_text','tweet_geo_lat','tweet_geo_lon','tweet_city']][0:2]"
   ]
  },
  {
   "cell_type": "code",
   "execution_count": 110,
   "metadata": {
    "collapsed": false
   },
   "outputs": [],
   "source": [
    "positive_tweets_data = tweets_data[['tweet_id','predicted_sentiment','tweet_text','tweet_geo_lat','tweet_geo_lon','tweet_city']][0:3]"
   ]
  },
  {
   "cell_type": "code",
   "execution_count": 111,
   "metadata": {
    "collapsed": true
   },
   "outputs": [],
   "source": [
    "positive_tweets_data.export_json('d3/data/USA-flight-tweets-positive.json')"
   ]
  },
  {
   "cell_type": "markdown",
   "metadata": {},
   "source": [
    "### Most negative tweets"
   ]
  },
  {
   "cell_type": "code",
   "execution_count": 112,
   "metadata": {
    "collapsed": false
   },
   "outputs": [],
   "source": [
    "tweets_data = tweets_data.sort('predicted_sentiment', ascending=True)"
   ]
  },
  {
   "cell_type": "code",
   "execution_count": 113,
   "metadata": {
    "collapsed": false
   },
   "outputs": [
    {
     "data": {
      "text/html": [
       "<div style=\"max-height:1000px;max-width:1500px;overflow:auto;\"><table frame=\"box\" rules=\"cols\">\n",
       "    <tr>\n",
       "        <th style=\"padding-left: 1em; padding-right: 1em; text-align: center\">tweet_id</th>\n",
       "        <th style=\"padding-left: 1em; padding-right: 1em; text-align: center\">predicted_sentiment</th>\n",
       "        <th style=\"padding-left: 1em; padding-right: 1em; text-align: center\">tweet_text</th>\n",
       "        <th style=\"padding-left: 1em; padding-right: 1em; text-align: center\">tweet_geo_lat</th>\n",
       "        <th style=\"padding-left: 1em; padding-right: 1em; text-align: center\">tweet_geo_lon</th>\n",
       "    </tr>\n",
       "    <tr>\n",
       "        <td style=\"padding-left: 1em; padding-right: 1em; text-align: center; vertical-align: top\">741636783474151424</td>\n",
       "        <td style=\"padding-left: 1em; padding-right: 1em; text-align: center; vertical-align: top\">-0.08196102335</td>\n",
       "        <td style=\"padding-left: 1em; padding-right: 1em; text-align: center; vertical-align: top\">Damn this was an annoying<br>flight (@ Indianapolis ...</td>\n",
       "        <td style=\"padding-left: 1em; padding-right: 1em; text-align: center; vertical-align: top\">39.71517597</td>\n",
       "        <td style=\"padding-left: 1em; padding-right: 1em; text-align: center; vertical-align: top\">-86.29765034</td>\n",
       "    </tr>\n",
       "    <tr>\n",
       "        <td style=\"padding-left: 1em; padding-right: 1em; text-align: center; vertical-align: top\">741723709187166209</td>\n",
       "        <td style=\"padding-left: 1em; padding-right: 1em; text-align: center; vertical-align: top\">-0.0800053195129</td>\n",
       "        <td style=\"padding-left: 1em; padding-right: 1em; text-align: center; vertical-align: top\">Minis for the flight (at<br>@TotalWine &amp;amp; More in ...</td>\n",
       "        <td style=\"padding-left: 1em; padding-right: 1em; text-align: center; vertical-align: top\">47.832662</td>\n",
       "        <td style=\"padding-left: 1em; padding-right: 1em; text-align: center; vertical-align: top\">-122.269813</td>\n",
       "    </tr>\n",
       "</table>\n",
       "<table frame=\"box\" rules=\"cols\">\n",
       "    <tr>\n",
       "        <th style=\"padding-left: 1em; padding-right: 1em; text-align: center\">tweet_city</th>\n",
       "    </tr>\n",
       "    <tr>\n",
       "        <td style=\"padding-left: 1em; padding-right: 1em; text-align: center; vertical-align: top\">Indianapolis, IN</td>\n",
       "    </tr>\n",
       "    <tr>\n",
       "        <td style=\"padding-left: 1em; padding-right: 1em; text-align: center; vertical-align: top\">Lynnwood, WA</td>\n",
       "    </tr>\n",
       "</table>\n",
       "[2 rows x 6 columns]<br/>\n",
       "</div>"
      ],
      "text/plain": [
       "Columns:\n",
       "\ttweet_id\tint\n",
       "\tpredicted_sentiment\tfloat\n",
       "\ttweet_text\tstr\n",
       "\ttweet_geo_lat\tfloat\n",
       "\ttweet_geo_lon\tfloat\n",
       "\ttweet_city\tstr\n",
       "\n",
       "Rows: 2\n",
       "\n",
       "Data:\n",
       "+--------------------+---------------------+-------------------------------+\n",
       "|      tweet_id      | predicted_sentiment |           tweet_text          |\n",
       "+--------------------+---------------------+-------------------------------+\n",
       "| 741636783474151424 |    -0.08196102335   | Damn this was an annoying ... |\n",
       "| 741723709187166209 |   -0.0800053195129  | Minis for the flight (at @... |\n",
       "+--------------------+---------------------+-------------------------------+\n",
       "+---------------+---------------+------------------+\n",
       "| tweet_geo_lat | tweet_geo_lon |    tweet_city    |\n",
       "+---------------+---------------+------------------+\n",
       "|  39.71517597  |  -86.29765034 | Indianapolis, IN |\n",
       "|   47.832662   |  -122.269813  |   Lynnwood, WA   |\n",
       "+---------------+---------------+------------------+\n",
       "[2 rows x 6 columns]"
      ]
     },
     "execution_count": 113,
     "metadata": {},
     "output_type": "execute_result"
    }
   ],
   "source": [
    "tweets_data[['tweet_id','predicted_sentiment','tweet_text','tweet_geo_lat','tweet_geo_lon','tweet_city']][0:2]"
   ]
  },
  {
   "cell_type": "code",
   "execution_count": 114,
   "metadata": {
    "collapsed": false
   },
   "outputs": [],
   "source": [
    "negative_tweets_data = tweets_data[['tweet_id','predicted_sentiment','tweet_text','tweet_geo_lat','tweet_geo_lon','tweet_city']][0:3]"
   ]
  },
  {
   "cell_type": "code",
   "execution_count": 115,
   "metadata": {
    "collapsed": true
   },
   "outputs": [],
   "source": [
    "negative_tweets_data.export_json('d3/data/USA-flight-tweets-negative.json')"
   ]
  },
  {
   "cell_type": "markdown",
   "metadata": {},
   "source": [
    "## Tweets about Cars"
   ]
  },
  {
   "cell_type": "code",
   "execution_count": 116,
   "metadata": {
    "collapsed": false
   },
   "outputs": [
    {
     "data": {
      "text/html": [
       "<pre>Unable to parse line \"\"55\",\"741360300167974912\",\"(PJ) grrr\"</pre>"
      ],
      "text/plain": [
       "Unable to parse line \"\"55\",\"741360300167974912\",\"(PJ) grrr\""
      ]
     },
     "metadata": {},
     "output_type": "display_data"
    },
    {
     "data": {
      "text/html": [
       "<pre>Unable to parse line \"\"128\",\"741395769866002432\",\"So I'm watching Cops and two things stuck out to me.\"</pre>"
      ],
      "text/plain": [
       "Unable to parse line \"\"128\",\"741395769866002432\",\"So I'm watching Cops and two things stuck out to me.\""
      ]
     },
     "metadata": {},
     "output_type": "display_data"
    },
    {
     "data": {
      "text/html": [
       "<pre>Unable to parse line \"(PJ) a car alarm is going off\"</pre>"
      ],
      "text/plain": [
       "Unable to parse line \"(PJ) a car alarm is going off\""
      ]
     },
     "metadata": {},
     "output_type": "display_data"
    },
    {
     "data": {
      "text/html": [
       "<pre>Unable to parse line \"\"162\",\"741413276412579840\",\"Ludlow St. \"</pre>"
      ],
      "text/plain": [
       "Unable to parse line \"\"162\",\"741413276412579840\",\"Ludlow St. \""
      ]
     },
     "metadata": {},
     "output_type": "display_data"
    },
    {
     "data": {
      "text/html": [
       "<pre>Unable to parse line \"1. This cop pulled someone over and opened their car door \"</pre>"
      ],
      "text/plain": [
       "Unable to parse line \"1. This cop pulled someone over and opened their car door \""
      ]
     },
     "metadata": {},
     "output_type": "display_data"
    },
    {
     "data": {
      "text/html": [
       "<pre>Unable to parse line \"(PJ) OH FOR GOD SHAKES SOMEONE SHOOT THE DAMN CAR\"</pre>"
      ],
      "text/plain": [
       "Unable to parse line \"(PJ) OH FOR GOD SHAKES SOMEONE SHOOT THE DAMN CAR\""
      ]
     },
     "metadata": {},
     "output_type": "display_data"
    },
    {
     "data": {
      "text/html": [
       "<pre>Unable to parse line \"(PJ) fuck\"</pre>"
      ],
      "text/plain": [
       "Unable to parse line \"(PJ) fuck\""
      ]
     },
     "metadata": {},
     "output_type": "display_data"
    },
    {
     "data": {
      "text/html": [
       "<pre>Unable to parse line \"2. The cop wearing shorts\",\"Fri Jun 10 22:25:00 +0000 2016\",\"40.7969277\",\"-73.9437432\",\"Manhattan, NY\",\"so i m watching cops two thing stuck 1 this cop pulled someone opened car door 2 the cop wearing short\"\"</pre>"
      ],
      "text/plain": [
       "Unable to parse line \"2. The cop wearing shorts\",\"Fri Jun 10 22:25:00 +0000 2016\",\"40.7969277\",\"-73.9437432\",\"Manhattan, NY\",\"so i m watching cops two thing stuck 1 this cop pulled someone opened car door 2 the cop wearing short\"\""
      ]
     },
     "metadata": {},
     "output_type": "display_data"
    },
    {
     "data": {
      "text/html": [
       "<pre>Unable to parse line \"(PJ) its our car\",\"Fri Jun 10 20:04:04 +0000 2016\",\"37.69922821\",\"-123.01191117\",\"California, USA\",\"pj grrr pj car alarm going pj oh for god shakes someone shoot the damn car pj fuck pj car\"\"</pre>"
      ],
      "text/plain": [
       "Unable to parse line \"(PJ) its our car\",\"Fri Jun 10 20:04:04 +0000 2016\",\"37.69922821\",\"-123.01191117\",\"California, USA\",\"pj grrr pj car alarm going pj oh for god shakes someone shoot the damn car pj fuck pj car\"\""
      ]
     },
     "metadata": {},
     "output_type": "display_data"
    },
    {
     "data": {
      "text/html": [
       "<pre>Unable to parse line \"\"64\",\"741363403390877697\",\"#BeatTheHeat\"</pre>"
      ],
      "text/plain": [
       "Unable to parse line \"\"64\",\"741363403390877697\",\"#BeatTheHeat\""
      ]
     },
     "metadata": {},
     "output_type": "display_data"
    },
    {
     "data": {
      "text/html": [
       "<pre>12 lines failed to parse correctly</pre>"
      ],
      "text/plain": [
       "12 lines failed to parse correctly"
      ]
     },
     "metadata": {},
     "output_type": "display_data"
    },
    {
     "data": {
      "text/html": [
       "<pre>Finished parsing file /Users/digeno/Documents/Cursos/BigData/Kschool-Data-Scientist/proyecto/git/USA-car-tweets.csv</pre>"
      ],
      "text/plain": [
       "Finished parsing file /Users/digeno/Documents/Cursos/BigData/Kschool-Data-Scientist/proyecto/git/USA-car-tweets.csv"
      ]
     },
     "metadata": {},
     "output_type": "display_data"
    },
    {
     "data": {
      "text/html": [
       "<pre>Parsing completed. Parsed 100 lines in 0.031148 secs.</pre>"
      ],
      "text/plain": [
       "Parsing completed. Parsed 100 lines in 0.031148 secs."
      ]
     },
     "metadata": {},
     "output_type": "display_data"
    },
    {
     "data": {
      "text/html": [
       "<pre>Unable to parse line \"\"55\",\"741360300167974912\",\"(PJ) grrr\"</pre>"
      ],
      "text/plain": [
       "Unable to parse line \"\"55\",\"741360300167974912\",\"(PJ) grrr\""
      ]
     },
     "metadata": {},
     "output_type": "display_data"
    },
    {
     "data": {
      "text/html": [
       "<pre>Unable to parse line \"\"162\",\"741413276412579840\",\"Ludlow St. \"</pre>"
      ],
      "text/plain": [
       "Unable to parse line \"\"162\",\"741413276412579840\",\"Ludlow St. \""
      ]
     },
     "metadata": {},
     "output_type": "display_data"
    },
    {
     "data": {
      "text/html": [
       "<pre>Unable to parse line \"\"128\",\"741395769866002432\",\"So I'm watching Cops and two things stuck out to me.\"</pre>"
      ],
      "text/plain": [
       "Unable to parse line \"\"128\",\"741395769866002432\",\"So I'm watching Cops and two things stuck out to me.\""
      ]
     },
     "metadata": {},
     "output_type": "display_data"
    },
    {
     "data": {
      "text/html": [
       "<pre>Unable to parse line \"(PJ) a car alarm is going off\"</pre>"
      ],
      "text/plain": [
       "Unable to parse line \"(PJ) a car alarm is going off\""
      ]
     },
     "metadata": {},
     "output_type": "display_data"
    },
    {
     "data": {
      "text/html": [
       "<pre>Unable to parse line \"1. This cop pulled someone over and opened their car door \"</pre>"
      ],
      "text/plain": [
       "Unable to parse line \"1. This cop pulled someone over and opened their car door \""
      ]
     },
     "metadata": {},
     "output_type": "display_data"
    },
    {
     "data": {
      "text/html": [
       "<pre>Unable to parse line \"(PJ) OH FOR GOD SHAKES SOMEONE SHOOT THE DAMN CAR\"</pre>"
      ],
      "text/plain": [
       "Unable to parse line \"(PJ) OH FOR GOD SHAKES SOMEONE SHOOT THE DAMN CAR\""
      ]
     },
     "metadata": {},
     "output_type": "display_data"
    },
    {
     "data": {
      "text/html": [
       "<pre>Unable to parse line \"2. The cop wearing shorts\",\"Fri Jun 10 22:25:00 +0000 2016\",\"40.7969277\",\"-73.9437432\",\"Manhattan, NY\",\"so i m watching cops two thing stuck 1 this cop pulled someone opened car door 2 the cop wearing short\"\"</pre>"
      ],
      "text/plain": [
       "Unable to parse line \"2. The cop wearing shorts\",\"Fri Jun 10 22:25:00 +0000 2016\",\"40.7969277\",\"-73.9437432\",\"Manhattan, NY\",\"so i m watching cops two thing stuck 1 this cop pulled someone opened car door 2 the cop wearing short\"\""
      ]
     },
     "metadata": {},
     "output_type": "display_data"
    },
    {
     "data": {
      "text/html": [
       "<pre>Unable to parse line \"(PJ) fuck\"</pre>"
      ],
      "text/plain": [
       "Unable to parse line \"(PJ) fuck\""
      ]
     },
     "metadata": {},
     "output_type": "display_data"
    },
    {
     "data": {
      "text/html": [
       "<pre>Unable to parse line \"(PJ) its our car\",\"Fri Jun 10 20:04:04 +0000 2016\",\"37.69922821\",\"-123.01191117\",\"California, USA\",\"pj grrr pj car alarm going pj oh for god shakes someone shoot the damn car pj fuck pj car\"\"</pre>"
      ],
      "text/plain": [
       "Unable to parse line \"(PJ) its our car\",\"Fri Jun 10 20:04:04 +0000 2016\",\"37.69922821\",\"-123.01191117\",\"California, USA\",\"pj grrr pj car alarm going pj oh for god shakes someone shoot the damn car pj fuck pj car\"\""
      ]
     },
     "metadata": {},
     "output_type": "display_data"
    },
    {
     "data": {
      "text/html": [
       "<pre>Unable to parse line \"\"64\",\"741363403390877697\",\"#BeatTheHeat\"</pre>"
      ],
      "text/plain": [
       "Unable to parse line \"\"64\",\"741363403390877697\",\"#BeatTheHeat\""
      ]
     },
     "metadata": {},
     "output_type": "display_data"
    },
    {
     "data": {
      "text/html": [
       "<pre>12 lines failed to parse correctly</pre>"
      ],
      "text/plain": [
       "12 lines failed to parse correctly"
      ]
     },
     "metadata": {},
     "output_type": "display_data"
    },
    {
     "data": {
      "text/html": [
       "<pre>Finished parsing file /Users/digeno/Documents/Cursos/BigData/Kschool-Data-Scientist/proyecto/git/USA-car-tweets.csv</pre>"
      ],
      "text/plain": [
       "Finished parsing file /Users/digeno/Documents/Cursos/BigData/Kschool-Data-Scientist/proyecto/git/USA-car-tweets.csv"
      ]
     },
     "metadata": {},
     "output_type": "display_data"
    },
    {
     "data": {
      "text/html": [
       "<pre>Parsing completed. Parsed 122 lines in 0.00961 secs.</pre>"
      ],
      "text/plain": [
       "Parsing completed. Parsed 122 lines in 0.00961 secs."
      ]
     },
     "metadata": {},
     "output_type": "display_data"
    },
    {
     "name": "stdout",
     "output_type": "stream",
     "text": [
      "------------------------------------------------------\n",
      "Inferred types from first 100 line(s) of file as \n",
      "column_type_hints=[int,int,str,str,float,float,str,str]\n",
      "If parsing fails due to incorrect types, you can correct\n",
      "the inferred type list above and pass it to read_csv in\n",
      "the column_type_hints argument\n",
      "------------------------------------------------------\n"
     ]
    }
   ],
   "source": [
    "tweets_data = sframe.SFrame('USA-car-tweets.csv')"
   ]
  },
  {
   "cell_type": "code",
   "execution_count": 117,
   "metadata": {
    "collapsed": false
   },
   "outputs": [
    {
     "data": {
      "text/plain": [
       "122"
      ]
     },
     "execution_count": 117,
     "metadata": {},
     "output_type": "execute_result"
    }
   ],
   "source": [
    "len(tweets_data)"
   ]
  },
  {
   "cell_type": "code",
   "execution_count": 118,
   "metadata": {
    "collapsed": true
   },
   "outputs": [],
   "source": [
    "for word in important_words:\n",
    "    tweets_data[word] = tweets_data['text_clean'].apply(lambda s : s.split().count(word))"
   ]
  },
  {
   "cell_type": "code",
   "execution_count": 119,
   "metadata": {
    "collapsed": true
   },
   "outputs": [],
   "source": [
    "# We need to convert test_data into the sparse matrix format first.\n",
    "# Warning: This may take a few minutes...\n",
    "tweets_feature_matrix  = get_numpy_feature_matrix(tweets_data, important_words)"
   ]
  },
  {
   "cell_type": "code",
   "execution_count": 120,
   "metadata": {
    "collapsed": true
   },
   "outputs": [],
   "source": [
    "# Step 1: Compute the scores as a dot product between feature_matrix and coefficients.\n",
    "scores = np.dot(tweets_feature_matrix, sentiment_model_coefficients)"
   ]
  },
  {
   "cell_type": "code",
   "execution_count": 121,
   "metadata": {
    "collapsed": false
   },
   "outputs": [],
   "source": [
    "tweets_data['predicted_sentiment'] = scores"
   ]
  },
  {
   "cell_type": "markdown",
   "metadata": {},
   "source": [
    "### Most positive tweets"
   ]
  },
  {
   "cell_type": "code",
   "execution_count": 122,
   "metadata": {
    "collapsed": true
   },
   "outputs": [],
   "source": [
    "tweets_data = tweets_data.sort('predicted_sentiment', ascending=False)"
   ]
  },
  {
   "cell_type": "code",
   "execution_count": 123,
   "metadata": {
    "collapsed": true
   },
   "outputs": [],
   "source": [
    "positive_tweets_data = tweets_data[['tweet_id','predicted_sentiment','tweet_text','tweet_geo_lat','tweet_geo_lon','tweet_city']][0:3]"
   ]
  },
  {
   "cell_type": "code",
   "execution_count": 124,
   "metadata": {
    "collapsed": true
   },
   "outputs": [],
   "source": [
    "positive_tweets_data.export_json('d3/data/USA-car-tweets-positive.json')"
   ]
  },
  {
   "cell_type": "markdown",
   "metadata": {},
   "source": [
    "### Most negative tweets"
   ]
  },
  {
   "cell_type": "code",
   "execution_count": 125,
   "metadata": {
    "collapsed": true
   },
   "outputs": [],
   "source": [
    "tweets_data = tweets_data.sort('predicted_sentiment', ascending=True)"
   ]
  },
  {
   "cell_type": "code",
   "execution_count": 126,
   "metadata": {
    "collapsed": true
   },
   "outputs": [],
   "source": [
    "negative_tweets_data = tweets_data[['tweet_id','predicted_sentiment','tweet_text','tweet_geo_lat','tweet_geo_lon','tweet_city']][0:3]"
   ]
  },
  {
   "cell_type": "code",
   "execution_count": 127,
   "metadata": {
    "collapsed": true
   },
   "outputs": [],
   "source": [
    "negative_tweets_data.export_json('d3/data/USA-car-tweets-negative.json')"
   ]
  },
  {
   "cell_type": "markdown",
   "metadata": {},
   "source": [
    "# Most positives and negatives tweets of EEUU dashboard\n",
    "# (about Flights and Cars)"
   ]
  },
  {
   "cell_type": "code",
   "execution_count": 128,
   "metadata": {
    "collapsed": true
   },
   "outputs": [],
   "source": [
    "from IPython.display import IFrame\n",
    "\n",
    "def serve_html():\n",
    "    fn= './d3/html/tweets_map.html'\n",
    "    return IFrame(fn, 985, 570)"
   ]
  },
  {
   "cell_type": "code",
   "execution_count": 129,
   "metadata": {
    "collapsed": false
   },
   "outputs": [
    {
     "data": {
      "text/html": [
       "\n",
       "        <iframe\n",
       "            width=\"985\"\n",
       "            height=\"570\"\n",
       "            src=\"./d3/html/tweets_map.html\"\n",
       "            frameborder=\"0\"\n",
       "            allowfullscreen\n",
       "        ></iframe>\n",
       "        "
      ],
      "text/plain": [
       "<IPython.lib.display.IFrame at 0x11544af90>"
      ]
     },
     "execution_count": 129,
     "metadata": {},
     "output_type": "execute_result"
    }
   ],
   "source": [
    "serve_html()"
   ]
  },
  {
   "cell_type": "code",
   "execution_count": null,
   "metadata": {
    "collapsed": true
   },
   "outputs": [],
   "source": []
  },
  {
   "cell_type": "code",
   "execution_count": null,
   "metadata": {
    "collapsed": true
   },
   "outputs": [],
   "source": []
  },
  {
   "cell_type": "code",
   "execution_count": null,
   "metadata": {
    "collapsed": true
   },
   "outputs": [],
   "source": []
  }
 ],
 "metadata": {
  "kernelspec": {
   "display_name": "Python 2",
   "language": "python",
   "name": "python2"
  },
  "language_info": {
   "codemirror_mode": {
    "name": "ipython",
    "version": 2
   },
   "file_extension": ".py",
   "mimetype": "text/x-python",
   "name": "python",
   "nbconvert_exporter": "python",
   "pygments_lexer": "ipython2",
   "version": "2.7.11"
  }
 },
 "nbformat": 4,
 "nbformat_minor": 0
}
