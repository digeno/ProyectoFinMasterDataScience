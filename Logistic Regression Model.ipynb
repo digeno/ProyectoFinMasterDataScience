{
 "cells": [
  {
   "cell_type": "markdown",
   "metadata": {},
   "source": [
    "# Logistic Regression Model: Predicting sentiment from product reviews\n",
    "\n",
    "\n",
    "The goal of this first notebook is to explore logistic regression and feature engineering with a model created from scratch.\n",
    "\n",
    "In this notebook we will use product review data from Amazon.com to predict whether the sentiments about a product (from its reviews) are positive or negative.\n",
    "## Fire up [Sframe](https://github.com/dato-code/SFrame)"
   ]
  },
  {
   "cell_type": "code",
   "execution_count": 1,
   "metadata": {
    "collapsed": false
   },
   "outputs": [],
   "source": [
    "import sframe"
   ]
  },
  {
   "cell_type": "markdown",
   "metadata": {},
   "source": [
    "## Loading data\n",
    "amazon_reviews.csv es la unión de varios datasets (ver notebook Data Engineering)"
   ]
  },
  {
   "cell_type": "code",
   "execution_count": 2,
   "metadata": {
    "collapsed": false
   },
   "outputs": [
    {
     "name": "stderr",
     "output_type": "stream",
     "text": [
      "2016-06-11 18:18:52,288 [INFO] sframe.cython.cy_server, 172: SFrame v1.9 started. Logging /tmp/sframe_server_1465661932.log\n"
     ]
    },
    {
     "data": {
      "text/html": [
       "<pre>Unable to parse line \"\"121431\",\"B0050O92FU\",\"[,0,,, ,0,]\",\"We purchased our Goodbyn lunchboxes at a local retail store recently and the kids have officially started using them. I find that the deep compartments are great to fill with snacks and different variety for school lunc...\"</pre>"
      ],
      "text/plain": [
       "Unable to parse line \"\"121431\",\"B0050O92FU\",\"[,0,,, ,0,]\",\"We purchased our Goodbyn lunchboxes at a local retail store recently and the kids have officially started using them. I find that the deep compartments are great to fill with snacks and different variety for school lunc...\""
      ]
     },
     "metadata": {},
     "output_type": "display_data"
    },
    {
     "data": {
      "text/html": [
       "<pre>Unable to parse line \"\"42764\",\"B000FP68KQ\",\"[,0,,, ,0,]\",\"I love this item, very easy to go on easy to use harness clip and she loves to wear it\",\"05 3, 2014\",\"A3IPRBCQK9JWD0\",\"Mz. B$$ \"\"L. Bennett\"\"\",\"harness dress\\\",\"1399075200\",\"i love item easy go easy use harness clip love...\"</pre>"
      ],
      "text/plain": [
       "Unable to parse line \"\"42764\",\"B000FP68KQ\",\"[,0,,, ,0,]\",\"I love this item, very easy to go on easy to use harness clip and she loves to wear it\",\"05 3, 2014\",\"A3IPRBCQK9JWD0\",\"Mz. B$$ \"\"L. Bennett\"\"\",\"harness dress\\\",\"1399075200\",\"i love item easy go easy use harness clip love...\""
      ]
     },
     "metadata": {},
     "output_type": "display_data"
    },
    {
     "data": {
      "text/html": [
       "<pre>Unable to parse line \"\"112687\",\"B0040QOYZ2\",\"[,0,,, ,0,]\",\"I have a Shiba Inu & she sheds SoO much. I bought the Furminator shampoo with the medium long hair comb. When I brush her it's like a razor blade edging her hair off on the top & stripping it. The hair that come off of ...\"</pre>"
      ],
      "text/plain": [
       "Unable to parse line \"\"112687\",\"B0040QOYZ2\",\"[,0,,, ,0,]\",\"I have a Shiba Inu & she sheds SoO much. I bought the Furminator shampoo with the medium long hair comb. When I brush her it's like a razor blade edging her hair off on the top & stripping it. The hair that come off of ...\""
      ]
     },
     "metadata": {},
     "output_type": "display_data"
    },
    {
     "data": {
      "text/html": [
       "<pre>Unable to parse line \"\"123868\",\"B004WSBZAA\",\"[,1,,, ,3,]\",\"I disliked the packaging and lack of information on the product itself and had to go hunting around the internet to find more information on how to administer/feed it to my dog. Powders are generally inconvenient and th...\"</pre>"
      ],
      "text/plain": [
       "Unable to parse line \"\"123868\",\"B004WSBZAA\",\"[,1,,, ,3,]\",\"I disliked the packaging and lack of information on the product itself and had to go hunting around the internet to find more information on how to administer/feed it to my dog. Powders are generally inconvenient and th...\""
      ]
     },
     "metadata": {},
     "output_type": "display_data"
    },
    {
     "data": {
      "text/html": [
       "<pre>4 lines failed to parse correctly</pre>"
      ],
      "text/plain": [
       "4 lines failed to parse correctly"
      ]
     },
     "metadata": {},
     "output_type": "display_data"
    },
    {
     "data": {
      "text/html": [
       "<pre>Finished parsing file /home/dsc/Repositories/ProyectoFinMasterDataScience/babies+pets_reviews.csv</pre>"
      ],
      "text/plain": [
       "Finished parsing file /home/dsc/Repositories/ProyectoFinMasterDataScience/babies+pets_reviews.csv"
      ]
     },
     "metadata": {},
     "output_type": "display_data"
    },
    {
     "data": {
      "text/html": [
       "<pre>Parsing completed. Parsed 318624 lines in 4.62094 secs.</pre>"
      ],
      "text/plain": [
       "Parsing completed. Parsed 318624 lines in 4.62094 secs."
      ]
     },
     "metadata": {},
     "output_type": "display_data"
    },
    {
     "name": "stdout",
     "output_type": "stream",
     "text": [
      "------------------------------------------------------\n",
      "Inferred types from first 100 line(s) of file as \n",
      "column_type_hints=[int,str,list,str,str,str,str,str,int,str,float]\n",
      "If parsing fails due to incorrect types, you can correct\n",
      "the inferred type list above and pass it to read_csv in\n",
      "the column_type_hints argument\n",
      "------------------------------------------------------\n"
     ]
    }
   ],
   "source": [
    "reviews = sframe.SFrame('babies+pets_reviews.csv')"
   ]
  },
  {
   "cell_type": "markdown",
   "metadata": {},
   "source": [
    "# Exploring Data 1/6\n",
    "Let us quickly explore more of this dataset.\n",
    "1. We count the number of positive and negative reviews \n",
    "2. list the first 10 products in the dataset."
   ]
  },
  {
   "cell_type": "code",
   "execution_count": 3,
   "metadata": {
    "collapsed": false
   },
   "outputs": [
    {
     "data": {
      "text/plain": [
       "318624"
      ]
     },
     "execution_count": 3,
     "metadata": {},
     "output_type": "execute_result"
    }
   ],
   "source": [
    "len(reviews)"
   ]
  },
  {
   "cell_type": "code",
   "execution_count": 4,
   "metadata": {
    "collapsed": false
   },
   "outputs": [
    {
     "name": "stdout",
     "output_type": "stream",
     "text": [
      "+----+------------+-------------------------------+\n",
      "| X1 |    asin    |            helpful            |\n",
      "+----+------------+-------------------------------+\n",
      "| 0  | 097293751X | [None, 0, None, None, None... |\n",
      "| 1  | 097293751X | [None, 0, None, None, None... |\n",
      "+----+------------+-------------------------------+\n",
      "+-------------------------------+-------------+----------------+\n",
      "|           reviewText          |  reviewTime |   reviewerID   |\n",
      "+-------------------------------+-------------+----------------+\n",
      "| Perfect for new parents. W... | 07 16, 2013 | A1HK2FQW6KXQB2 |\n",
      "| This book is such a life s... | 06 29, 2013 | A19K65VY14D13R |\n",
      "+-------------------------------+-------------+----------------+\n",
      "+-------------------------------+-------------------------------+----------------+\n",
      "|          reviewerName         |            summary            | unixReviewTime |\n",
      "+-------------------------------+-------------------------------+----------------+\n",
      "| Amanda Johnsen \"Amanda E. ... |            Awesine            |   1373932800   |\n",
      "|             angela            | Should be required for all... |   1372464000   |\n",
      "+-------------------------------+-------------------------------+----------------+\n",
      "+-------------------------------+-----+\n",
      "|          review_clean         | ... |\n",
      "+-------------------------------+-----+\n",
      "| perfect new parent we able... | ... |\n",
      "| this book life saver it ha... | ... |\n",
      "+-------------------------------+-----+\n",
      "[318624 rows x 11 columns]\n",
      "\n"
     ]
    }
   ],
   "source": [
    "reviews.print_rows(num_rows=2, num_columns=10)"
   ]
  },
  {
   "cell_type": "markdown",
   "metadata": {},
   "source": [
    "# Data Engineering: defining reviews with positive or negative sentiment"
   ]
  },
  {
   "cell_type": "markdown",
   "metadata": {},
   "source": [
    "We'll call data engineering, just defining what is a positive and negative sentiment. So let's do that right now. So in the subsection we're gonna define what's a positive and a negative sentiment.\n",
    "And so I'm gonna make an arbitrary choice here:\n",
    "1. Let's say that things that 4, 5 stars are things that people liked. So those are positives. \n",
    "2. Things that 1 and 2 stars are negative. \n",
    "3. ignore all 3 star reviews.\n",
    "So I'm gonna say a positive sentiment equals 4 star or 5 star reviews. So let's go ahead and add a new column to our table that defines the actual sentiment. So products new column called sentiment."
   ]
  },
  {
   "cell_type": "markdown",
   "metadata": {},
   "source": [
    "We will **ignore** all reviews with *rating = 3*, since they tend to have a neutral sentiment."
   ]
  },
  {
   "cell_type": "code",
   "execution_count": 5,
   "metadata": {
    "collapsed": false
   },
   "outputs": [
    {
     "data": {
      "text/plain": [
       "285437"
      ]
     },
     "execution_count": 5,
     "metadata": {},
     "output_type": "execute_result"
    }
   ],
   "source": [
    "reviews = reviews[reviews['review_overall'] != 3]\n",
    "len(reviews)"
   ]
  },
  {
   "cell_type": "markdown",
   "metadata": {},
   "source": [
    "Now, we will assign reviews with a rating of 4 or higher to be *positive* reviews, while the ones with rating of 2 or lower are *negative*. For the sentiment column, we use +1 for the positive class label and -1 for the negative class label."
   ]
  },
  {
   "cell_type": "code",
   "execution_count": 6,
   "metadata": {
    "collapsed": false
   },
   "outputs": [
    {
     "name": "stdout",
     "output_type": "stream",
     "text": [
      "+----+------------+-------------------------------+\n",
      "| X1 |    asin    |            helpful            |\n",
      "+----+------------+-------------------------------+\n",
      "| 0  | 097293751X | [None, 0, None, None, None... |\n",
      "| 1  | 097293751X | [None, 0, None, None, None... |\n",
      "+----+------------+-------------------------------+\n",
      "+-------------------------------+-------------+----------------+\n",
      "|           reviewText          |  reviewTime |   reviewerID   |\n",
      "+-------------------------------+-------------+----------------+\n",
      "| Perfect for new parents. W... | 07 16, 2013 | A1HK2FQW6KXQB2 |\n",
      "| This book is such a life s... | 06 29, 2013 | A19K65VY14D13R |\n",
      "+-------------------------------+-------------+----------------+\n",
      "+-------------------------------+-------------------------------+----------------+\n",
      "|          reviewerName         |            summary            | unixReviewTime |\n",
      "+-------------------------------+-------------------------------+----------------+\n",
      "| Amanda Johnsen \"Amanda E. ... |            Awesine            |   1373932800   |\n",
      "|             angela            | Should be required for all... |   1372464000   |\n",
      "+-------------------------------+-------------------------------+----------------+\n",
      "+-------------------------------+-----+\n",
      "|          review_clean         | ... |\n",
      "+-------------------------------+-----+\n",
      "| perfect new parent we able... | ... |\n",
      "| this book life saver it ha... | ... |\n",
      "+-------------------------------+-----+\n",
      "[285437 rows x 12 columns]\n",
      "\n"
     ]
    }
   ],
   "source": [
    "reviews['review_sentiment'] = reviews['review_overall'].apply(lambda rating : +1 if rating > 3 else -1)\n",
    "reviews.print_rows(num_rows=2, num_columns=10)"
   ]
  },
  {
   "cell_type": "markdown",
   "metadata": {},
   "source": [
    "### Subsample dataset to make sure classes are balanced\n",
    "Just as we did in the previous assignment, we will undersample the larger class (safe loans) in order to balance out our dataset. This means we are throwing away many data points. We use `seed=1` so everyone gets the same results."
   ]
  },
  {
   "cell_type": "code",
   "execution_count": 7,
   "metadata": {
    "collapsed": false
   },
   "outputs": [
    {
     "name": "stdout",
     "output_type": "stream",
     "text": [
      "Percentage of positive reviews             : 0.50116556825\n",
      "Percentage of negative reviews             : 0.49883443175\n",
      "Total number of reviews in our new dataset : 69494\n"
     ]
    }
   ],
   "source": [
    "positive_reviews_raw = reviews[reviews['review_sentiment'] == 1]\n",
    "negative_reviews_raw  = reviews[reviews['review_sentiment'] == -1]\n",
    "\n",
    "# Undersample the reviews.\n",
    "percentage = len(negative_reviews_raw)/float(len(positive_reviews_raw))\n",
    "negative_reviews = negative_reviews_raw\n",
    "positive_reviews = positive_reviews_raw.sample(percentage, seed=1)\n",
    "products = negative_reviews_raw.append(positive_reviews)\n",
    "\n",
    "print \"Percentage of positive reviews             :\", len(positive_reviews) / float(len(products))\n",
    "print \"Percentage of negative reviews             :\", len(negative_reviews) / float(len(products))\n",
    "print \"Total number of reviews in our new dataset :\", len(products)"
   ]
  },
  {
   "cell_type": "markdown",
   "metadata": {},
   "source": [
    "# Exploring Data 2/6\n",
    "Let us quickly explore more of this dataset.\n",
    "1. We count the number of positive and negative reviews.\n",
    "2. Modify the subset to contain similar numbers of positive and negative reviews, as the original dataset consisted primarily of positive reviews."
   ]
  },
  {
   "cell_type": "code",
   "execution_count": 8,
   "metadata": {
    "collapsed": false
   },
   "outputs": [
    {
     "name": "stdout",
     "output_type": "stream",
     "text": [
      "# of positive reviews = 250771\n",
      "# of negative reviews = 34666\n"
     ]
    }
   ],
   "source": [
    "print '# of positive reviews =', len(reviews[reviews['review_sentiment']==1])\n",
    "print '# of negative reviews =', len(reviews[reviews['review_sentiment']==-1])"
   ]
  },
  {
   "cell_type": "code",
   "execution_count": 9,
   "metadata": {
    "collapsed": false
   },
   "outputs": [
    {
     "name": "stdout",
     "output_type": "stream",
     "text": [
      "# of positive balanced reviews = 34828\n",
      "# of negative balanced reviews = 34666\n"
     ]
    }
   ],
   "source": [
    "print '# of positive balanced reviews =', len(products[products['review_sentiment']==1])\n",
    "print '# of negative balanced reviews =', len(products[products['review_sentiment']==-1])"
   ]
  },
  {
   "cell_type": "markdown",
   "metadata": {},
   "source": [
    "# Reviews Extraction Phase: data preparation. \n",
    "## (desarrollado en el notebook Data Engineering)\n",
    "**Note:** \n",
    " - column review_clean with text cleaning developed in Data Engineering notebook\n",
    " - building features: la lista de palabras important_words.json se confecciona en el nb Data Engineering"
   ]
  },
  {
   "cell_type": "markdown",
   "metadata": {},
   "source": [
    "**Note:** There are several ways of doing this. We use the built-in *count* function for Python lists. Each **review without punctuation, stopwords, etc** string is first split into individual words and the number of occurances of a given word is counted.\n",
    "1. Transform the reviews into word-counts (only for **important_words**, without punctuation, stopwords, etc)\n",
    "2. For each word in **important_words**, we compute a count for the number of times the word occurs in the review. We will store this count in a separate column (one for each word). The result of this feature processing is a single column for each word in **important_words** which keeps a count of the number of times the respective word occurs in the review text.\n",
    "\n",
    "Now, we will load these words from this JSON file:"
   ]
  },
  {
   "cell_type": "code",
   "execution_count": 10,
   "metadata": {
    "collapsed": true
   },
   "outputs": [],
   "source": [
    "import json\n",
    "with open('important_words_1500.json', 'r') as f: # Reads the list of words\n",
    "    important_words = json.load(f)\n",
    "important_words = [str(s) for s in important_words]"
   ]
  },
  {
   "cell_type": "code",
   "execution_count": 11,
   "metadata": {
    "collapsed": false
   },
   "outputs": [
    {
     "data": {
      "text/plain": [
       "1500"
      ]
     },
     "execution_count": 11,
     "metadata": {},
     "output_type": "execute_result"
    }
   ],
   "source": [
    "len(important_words)"
   ]
  },
  {
   "cell_type": "code",
   "execution_count": 12,
   "metadata": {
    "collapsed": false,
    "scrolled": true
   },
   "outputs": [
    {
     "name": "stdout",
     "output_type": "stream",
     "text": [
      "['i', 'wa', 'one', 'the', 'dog', 'like', 'love', 'it', 'baby', 'get', 'would', 'use', 'great', 'ha', 'cat', 'this', 'my', 'time', 'little', 'well', 'really', 'product', 'toy', 'also', 'good', 'dont', 'much', 'we', 'month', 'work', 'food', 'easy', 'make', 'put', 'old', 'even', 'seat', 'still', 'bought', 'bag', 'keep', 'used', 'they', 'thing', 'two', 'fit', 'back', 'first', 'go', 'bottle', 'doesnt', 'around', 'its', 'doe', 'small', 'day', 'im', 'got', 'using', 'size', 'need', 'take', 'water', 'think', 'son', 'since', 'year', 'better', '2', 'could', 'enough', 'didnt', 'recommend', 'way', 'buy', 'nice', 'made', 'diaper', 'price', 'clean', 'lot', 'come', 'treat', 'look', 'problem', 'he', 'long', 'big', 'bit', 'ive', 'she', 'see', 'daughter', 'car', 'side', 'every', 'play', 'want', 'hold', 'give', 'know', 'stroller', 'sure', 'so', 'right', '3', 'cant', 'week', 'if', 'these', 'perfect', 'seems', 'box', 'though', 'without', 'easily', 'tried', 'never', 'litter', 'but', 'say', 'soft', 'cup', 'new', 'pretty', 'another', 'cover', 'find', 'quality', 'best', 'hard', 'top', 'try', 'review', 'something', 'getting', 'large', 'last', 'plastic', 'part', 'room', 'however', 'going', 'help', 'far', 'different', 'happy', 'able', 'many', 'color', 'found', 'hand', 'child', 'always', '4', '5', 'purchased', 'feel', 'pad', 'set', 'and', 'smell', 'u', 'chew', 'pet', 'actually', 'piece', 'brand', 'light', 'away', 'issue', 'thought', 'item', 'place', 'definitely', 'le', 'house', 'ball', 'seem', 'eat', 'not', 'night', 'worth', 'wash', 'pump', 'bed', 'wish', 'star', 'puppy', 'when', 'store', 'you', 'minute', 'high', 'bottom', 'cute', 'sleep', 'dry', 'looking', 'started', 'crib', 'second', 'amazon', 'isnt', 'purchase', 'strap', 'took', 'quite', 'may', 'inside', 'anything', 'end', 'almost', 'highly', 'open', 'money', 'our', 'kid', 'chair', 'wont', 'came', 'fine', 'comfortable', 'bowl', 'stay', 'several', 'thats', 'three', '6', 'yet', 'easier', 'loved', 'extra', 'head', 'longer', 'probably', 'wanted', 'might', 'needed', 'change', 'smaller', 'couple', 'super', '1', 'sturdy', 'a', 'tank', 'home', 'worked', 'floor', 'handle', 'trying', 'sound', 'very', 'there', 'hour', 'nipple', 'everything', 'together', 'let', 'buying', 'stuff', 'design', 'expensive', 'material', 'bad', 'ordered', 'instead', 'pull', 'turn', 'filter', 'id', 'favorite', 'front', 'door', 'wipe', 'monitor', 'went', 'said', 'after', 'wouldnt', 'move', 'no', 'especially', 'theyre', 'maybe', 'wasnt', 'quickly', 'sometimes', 'regular', 'blanket', 'for', 'collar', 'pack', 'kind', 'ever', 'lb', 'free', '10', 'brush', 'either', 'shes', 'decided', 'next', 'teeth', 'larger', 'older', 'perfectly', 'people', 'gave', 'plus', 'weight', 'tray', 'least', 'havent', 'run', 'stick', 'friend', 'mouth', 'carrier', 'reason', 'in', 'toddler', 'others', 'pound', 'job', 'start', 'must', 'fabric', 'safe', 'read', 'half', 'as', 'fun', 'cloth', 'leak', 'milk', 'fall', 'sit', 'pillow', 'fact', 'walk', 'feature', 'order', 'mat', 'changing', 'infant', 'leg', 'feeding', 'whole', 'although', 'weve', 'battery', 'fish', 'heavy', 'nothing', 'husband', 'vet', 'hole', 'area', 'pocket', 'carry', 'youre', 'mix', 'already', 'hair', 'etc', 'foot', 'difficult', 'table', 'outside', 'now', 'space', 'bigger', 'strong', 'ingredient', 'kitty', 'feed', 'mattress', 'liked', 'lid', 'full', 'usually', 'tub', 'type', 'durable', 'case', '12', 'leave', 'option', 'couldnt', 'idea', 'close', 'gate', 'recommended', 'often', 'overall', 'sheet', 'swing', 'air', 'system', 'huge', 'cut', 'absolutely', 'fold', 'done', 'cleaning', 'harness', 'amount', 'remove', 'cheap', 'completely', 'rather', 'all', 'short', 'just', 'that', 'glad', 'break', 'newborn', 'seemed', 'life', 'bath', 'point', 'noise', 'animal', 'ill', 'leash', 'putting', 'wet', 'simple', '8', 'deal', 'making', 'warm', 'add', 'apart', 'us', 'boy', 'complaint', 'left', 'unit', 'throw', 'potty', 'received', 'travel', 'eating', 'tell', 'else', 'mind', 'picture', 'playing', 'parent', 'cost', 'girl', 'working', 'white', 'shape', 'fast', 'mean', 'giving', 'training', 'within', 'snap', 'velcro', 'chicken', 'care', 'four', 'cheaper', 'wear', 'bib', 'blue', 'gift', 'pacifier', 'mine', 'hot', 'ago', 'music', 'clip', 'mom', 'medium', 'finally', 'company', 'arm', 'at', 'stop', 'inch', 'face', 'with', 'onto', 'chewing', 'anyone', 'enjoy', 'looked', 'due', 'odor', 'washing', 'kept', 'kitten', 'soon', 'crate', 'stand', 'drink', '20', 'base', 'insert', 'guess', 'real', 'along', 'thick', 'waste', 'prefer', 'line', 'later', 'push', 'awesome', '15', 'roll', 'low', 'ended', 'worry', 'arent', 'held', 'breast', 'save', 'pick', 'container', 'difference', 'skin', 'tiny', '7', 'ok', 'keeping', 'exactly', 'thin', 'seen', 'natural', 'hang', 'mess', 'wall', 'noticed', 'excellent', 'flavor', 'version', 'healthy', 'wonderful', 'pup', 'level', 'daily', 'clear', 'button', 'bone', 'tight', 'middle', 'instruction', 'flat', 'taking', 'trip', 'position', 'black', 'holding', 'ring', 'attached', 'sitting', 'opening', 'control', 'pain', 'reviewer', 'rest', 'given', 'solid', 'eye', 'sippy', 'support', 'flea', 'neck', 'secure', '30', 'install', 'package', 'safety', 'formula', 'sleeping', 'storage', 'course', 'pleased', 'immediately', 'yes', 'hope', 'matter', 'green', 'quick', 'replacement', 'saw', 'cold', 'edge', 'replace', 'live', 'nail', 'coat', 'nicely', 'believe', 'spot', 'extremely', 'running', 'washed', 'spoon', 'figure', 'reach', 'wheel', 'bar', 'rubber', 'fountain', 'unless', 'taste', 'liner', 'crazy', 'setting', 'expected', 'wide', 'holder', 'cage', 'arrived', 'snack', 'disappointed', 'meal', 'fill', '9', 'hit', 'cause', 'past', 'suction', 'gone', 'bright', 'stuck', 'adjust', 'spray', 'figured', 'fresh', 'then', 'simply', 'flow', 'hate', 'lock', 'ear', 'show', 'touch', 'standard', 'unfortunately', 'drop', 'hasnt', 'attach', 'model', 'otherwise', 'wrap', 'mirror', 'scoop', 'entire', 'dishwasher', 'slightly', 'what', 'step', 'to', 'return', 'straw', 'turned', 'height', 'supposed', 'shower', 'stopped', 'kong', 'fairly', 'anyway', 'guy', 'five', 'compared', 'purpose', 'lab', 'double', 'watch', 'helped', 'chewer', 'teething', 'slide', 'finger', 'totally', 'twice', 'added', 'paw', 'machine', 'useful', 'fur', 'similar', 'amazing', 'loud', 'mobile', 'someone', 'latch', 'poop', 'born', 'wrong', 'bird', 'per', 'age', 'gotten', 'trouble', 'kitchen', 'pay', 'grab', 'test', 'tall', 'basket', 'summer', 'hear', 'catch', 'constantly', 'excited', 'forward', 'handy', 'check', 'surface', 'medela', 'body', 'reading', 'red', 'picky', 'variety', 'result', 'lay', 'loose', 'sized', 'multiple', 'style', 'shipping', 'important', 'family', 'screw', 'corner', 'britax', 'single', 'convenient', 'local', 'plenty', 'coming', 'window', 'lasted', 'once', 'original', 'carseat', 'choice', 'metal', 'spend', '100', 'plan', 'felt', 'kibble', 'designed', 'interested', 'while', 'gallon', 'ready', 'allows', 'camera', 'adult', 'recently', 'video', 'dirty', 'annoying', 'tip', 'zipper', 'toilet', 'avent', 'diet', 'shoulder', 'value', 'near', 'lost', 'normal', 'attention', 'carpet', 'only', 'hoping', 'hook', 'dish', 'everywhere', 'eats', 'belt', 'continue', 'wood', 'refill', 'expect', 'pee', 'tear', 'cool', 'direction', 'switch', 'across', 'lightweight', 'morning', 'towel', 'experience', 'nursing', 'pumping', 'asleep', 'note', 'stain', 'liquid', 'available', 'anymore', 'based', 'wait', 'hurt', 'sort', 'solution', 'adjustable', 'pop', 'knew', 'on', 'youll', 'bulky', 'squeaker', 'everyone', 'n', 'warmer', 'graco', 'nose', 'thinking', 'main', 'glass', 'aquarium', 'scratch', 'broke', 'clothes', 'pill', 'works', 'loves', 'purchasing', 'chewed', 'notice', 'eventually', 'pulling', 'both', 'cotton', 'worried', 'customer', 'walking', 'nap', 'allow', 'length', 'book', 'interest', 'enjoys', 'facing', 'tube', 'number', 'okay', 'prevent', 'nearly', 'booster', 'properly', 'higher', 'clipper', 'helpful', 'except', 'moving', 'supplement', 'ground', 'sits', 'bite', 'lower', 'twin', 'power', 'temperature', 'foam', 'behind', 'jump', 'surprised', 'owner', 'become', 'sink', 'dr', 'heat', 'catnip', '25', 'cap', 'bathroom', 'service', 'hes', 'spout', 'quiet', 'told', 'alone', 'pouch', 'careful', 'starting', 'young', 'texture', 'included', 'yard', '14', 'barely', 'addition', 'update', 'mini', 'imagine', 'pink', 'effective', 'wearing', 'opened', 'winter', 'mostly', 'furniture', 'carrying', 'bring', 'scratching', 'possible', 'other', 'oz', 'anywhere', 'bassinet', 'ton', 'of', 'certainly', 'adorable', 'swaddle', 'cry', 'fantastic', 'removed', 'some', 'brown', 'will', 'grow', 'research', 'grain', 'breed', 'spill', 'decent', 'whatever', 'bother', 'device', 'true', 'hanging', 'kit', 'returned', 'sun', 'unlike', 'flimsy', 'ride', 'fan', 'online', 'pattern', 'negative', 'spent', 'human', 'straight', 'tree', 'frame', 'opinion', 'have', 'tool', 'changed', 'learned', 'living', 'impressed', 'busy', 'covered', 'placed', 'offer', 'poor', 'underneath', 'pail', 'mentioned', 'falling', 'shampoo', 'softer', 'mesh', 'pulled', 'taken', 'six', 'including', 'dried', 'basically', 'broken', 'tummy', 'chance', 'smooth', 'post', 'assemble', 'slip', 'thank', '18', 'health', 'ordering', 'plug', 'oil', 'moved', 'sent', 'sensitive', 'installed', 'disposable', 'key', 'shopping', 'urine', 'range', 'organic', 'accident', 'call', 'buckle', 'whether', 'tie', 'fully', 'motor', 'center', 'special', 'market', 'mouse', 'person', 'harder', 'impossible', 'empty', 'hospital', 'cord', 'beautiful', 'meat', 'slow', 'dark', 'packaging', '50', 'likely', 'particular', 'switched', 'fell', 'previous', 'because', 'allergy', 'rating', 'sharp', 'list', 'realized', '11', 'shell', 'ate', 'tag', 'tough', 'is', 'considering', 'comfy', 'rattle', 'name', 'closed', 'understand', 'ease', 'today', 'phone', 'suggest', 'manufacturer', 'teether', 'actual', 'concerned', 'print', 'provide', 'breath', 'perhaps', 'please', 'built', 'paid', 'toss', 'suck', 'portion', 'grip', 'yellow', 'match', 'feeder', 'despite', 'avoid', 'separate', 'comfort', 'oh', 'none', 'shake', 'active', 'vitamin', 'mixed', 'pricey', 'rinse', 'wife', 'padding', 'rack', 'rear', 'deep', 'consider', 'volume', 'trash', 'heard', 'waterproof', 'wake', 'future', 'called', 'do', 'tired', 'trick', 'compartment', '45', '13', 'alternative', 'dust', 'uncomfortable', 'third', 'tend', 'cushion', 'portable', 'nursery', 'drinking', 'necessary', 'leaving', 'scent', 'cleaner', 'leaf', 'block', 'useless', 'description', 'cleaned', 'honestly', 'compact', 'squeak', 'seal', 'remember', 'thanks', 'sold', 'ergo', 'function', 'canned', 'stuffed', 'effect', 'chemical', '40', 'lift', 'rock', 'messy', 'beat', 'became', 'paper', 'additional', 'obviously', 'mention', 'attachment', 'replaced', 'plate', 'stair', 'kick', 'filled', 'period', 'ounce', 'terrier', 'realize', 'leaking', 'process', 'stomach', 'angle', 'shepherd', 'drying', 'truly', 'clump', 'literally', 'flip', 'hide', 'chest', 'originally', 'somewhat', 'grass', 'hated', 'stool', 'feeling', 'mark', 'happen', 'heater', 'rough', 'younger', 'absorbent', 'folded', 'choose', 'track', 'whenever', 'most', 'afraid', 'normally', 'thicker', 'bunch', 'supply', 'cats', 'occasionally', 'early', 'currently', 'dollar', 'protect', 'usa', 'german', 'watching', 'china', 'saved', 'cube', 'calm', 'loop', 'major', 'content', 'sack', 'lol', 'male', 'comfortably', 'rescue', 'round', 'rip', 'finding', 'strip', 'prefers', 'sell', 'initially', 'fancy', 'grocery', 'lose', 'provides', 'photo', 'tape', 'bounce', 'spit', 'tail', 'mother', 'shade', 'chose', 'corn', 'priced', 'laundry', 'sling', 'gentle', 'forever', 'everyday', 'gas', 'happened', '16', 'various', 'bouncer', 'pan', 'valve', 'freezer', 'dispenser', 'stretch', '23', 'expecting', 'comment', 'cart', 'concern', 'pressure', 'washable', 'chihuahua', 'plant', 'section', 'manual', 'boppy', 'removable', 'bra', 'flap', 'dryer', 'activity', 'comb', 'min', 'bubble', 'snug', 'positive', 'fed', 'silicone', 'improvement', 'condition', 'terrible', 'finish', 'appears', 'eater', 'destroy', 'canopy', 'con', 'played', 'stuffing', 'picked', 'bc', 'sweet', 'protein', 'caught', 'pellet', 'awhile', 'learn', 'sick', 'traveling', '24', 'wonder', 'send', 'meant', 'shed', 'enjoyed', 'layer', 'website', 'plush', 'city', 'worse', 'ask', 'degree', 'access', 'saying', 'directly', 'tug', 'wire', 'breastfeeding', 'knowing', 'damage', 'brought', 'genie', 'concept', 'weather', 'fat', 'seeing', 'destroyed', 'gum', 'learning', 'bjorn', 'firm', 'squirrel', 'sister', 'yr', 'movement', 'inexpensive', 'stage', 'squeeze', 'entertained', 'screen', 'certain', 'werent', 'total', 'average', 'upright', 'couch', 'hopefully', 'biggest', 'frequently', 'theres', 'hell', 'string', 'satisfied', 'drawer', 'fleece', 'rope', 'counter', 'spring', 'horrible', 'elastic', 'blade', 'began', 'rail', 'belly', 'benefit', 'downside', 'depending', '35', 'chase', 'effort', 'golden', 'cabinet', 'agree', 'bedroom', 'tab', 'hip', 'shelf', 'beef', 'browns', 'rolling', 'charge', 'attractive', 'recline', 'colorful', 'christmas', 'sense', 'butter', 'thus', 'happier', 'tends', 'duck', 'fix', 'rate', 'zip', 'owned', 'freeze', 'world', 'cardboard', 'seriously', 'click', 'vacuum', 'beginning', 'peanut', 'throwing', 'lead', 'powder', 'shield', 'word', 'growing', 'turtle', 'adapter', 'visit', 'bumper', 'does', 'sponge', 'contain', 'state', 'faster', 'burp', 'playtex', 'backpack', 'joint', 'awkward', 'forget', 'bonus', 'claim', 'follow', 'slept', 'be', 'bark', 'laying', 'transition', '34', 'particularly', 'luck', 'her', 'guard', 'trust', 'dropped', 'dental', 'pro', 'apparently', 'label', 'correctly', 'accessory', 'padded', 'dinner', '2nd', 'ability', 'relatively', 'pregnant', 'fussy', 'drive', 'construction', 'balance', 'cutting', 'threw', 'basic', 'intended', 'ripped', 'press', 'rid', 'orange', 'reasonable', 'ice', 'bored', 'term', 'brushing', 'park', 'weird', 'sale', 'rabbit', 'appreciate', 'mechanism', 'turning', 'chicco', 'adding', 'ran', 'advertised', 'regularly', 'munchkin', 'proof', 'complete', 'train', 'discovered', 'miracle', 'upon', 'stiff', 'salmon', 'neither', 'saver', 'mo', 'temp', 'fault', 'barking', 'hassle', 'fetch', 'dogs', 'seam', 'risk', 'pushing', 'flexible', 'shaped', 'talk', 'feather', 'happens', 'climb', 'build']\n"
     ]
    }
   ],
   "source": [
    "print important_words"
   ]
  },
  {
   "cell_type": "code",
   "execution_count": 13,
   "metadata": {
    "collapsed": false
   },
   "outputs": [],
   "source": [
    "for word in important_words:\n",
    "    products[word] = products['review_clean'].apply(lambda s : s.split().count(word))"
   ]
  },
  {
   "cell_type": "markdown",
   "metadata": {},
   "source": [
    "# Exploring Data 3/6"
   ]
  },
  {
   "cell_type": "markdown",
   "metadata": {},
   "source": [
    "The SFrame **products** now contains one column for each of the **important_words**. As an example, the column **perfect** contains a count of the number of times the word **perfect** occurs in each of the reviews."
   ]
  },
  {
   "cell_type": "code",
   "execution_count": 14,
   "metadata": {
    "collapsed": false
   },
   "outputs": [
    {
     "data": {
      "text/plain": [
       "dtype: int\n",
       "Rows: 69494\n",
       "[0, 0, 0, 0, 0, 0, 0, 0, 0, 0, 0, 0, 0, 0, 0, 1, 0, 0, 0, 0, 0, 0, 0, 0, 0, 0, 0, 0, 0, 0, 0, 0, 1, 0, 0, 0, 0, 0, 0, 0, 0, 0, 0, 0, 0, 0, 0, 0, 0, 0, 0, 0, 0, 0, 0, 0, 0, 0, 0, 0, 0, 0, 0, 0, 0, 0, 0, 0, 0, 0, 0, 0, 0, 0, 2, 0, 0, 0, 0, 0, 0, 0, 0, 0, 0, 0, 0, 0, 0, 0, 0, 0, 0, 0, 0, 0, 0, 0, 0, 0, ... ]"
      ]
     },
     "execution_count": 14,
     "metadata": {},
     "output_type": "execute_result"
    }
   ],
   "source": [
    "products['perfect']"
   ]
  },
  {
   "cell_type": "markdown",
   "metadata": {},
   "source": [
    "Now, write some code to compute the number of product reviews that contain the word **perfect**.\n",
    "* First create a column called `contains_perfect` which is set to 1 if the count of the word **perfect** (stored in column **perfect**) is >= 1.\n",
    "* Sum the number of 1s in the column `contains_perfect`."
   ]
  },
  {
   "cell_type": "code",
   "execution_count": 15,
   "metadata": {
    "collapsed": true
   },
   "outputs": [],
   "source": [
    "products['contains_perfect'] = products['perfect'].apply(lambda s : +1 if s >= 1 else 0)"
   ]
  },
  {
   "cell_type": "code",
   "execution_count": 16,
   "metadata": {
    "collapsed": false
   },
   "outputs": [
    {
     "data": {
      "text/plain": [
       "3516"
      ]
     },
     "execution_count": 16,
     "metadata": {},
     "output_type": "execute_result"
    }
   ],
   "source": [
    "products['contains_perfect'].sum()"
   ]
  },
  {
   "cell_type": "markdown",
   "metadata": {},
   "source": [
    "# Implementing logistic regression from scratch"
   ]
  },
  {
   "cell_type": "markdown",
   "metadata": {},
   "source": [
    "## link function (estimating conditional probability)"
   ]
  },
  {
   "cell_type": "markdown",
   "metadata": {},
   "source": [
    "Recall from lecture that the link function is given by:\n",
    "$$\n",
    "P(y_i = +1 | \\mathbf{x}_i,\\mathbf{w}) = \\frac{1}{1 + \\exp(-\\mathbf{w}^T h(\\mathbf{x}_i))},\n",
    "$$\n",
    "\n",
    "where the feature vector $h(\\mathbf{x}_i)$ represents the word counts of **important_words** in the review  $\\mathbf{x}_i$."
   ]
  },
  {
   "cell_type": "code",
   "execution_count": 17,
   "metadata": {
    "collapsed": true
   },
   "outputs": [],
   "source": [
    "'''\n",
    "produces probablistic estimate for P(y_i = +1 | x_i, w).\n",
    "estimate ranges between 0 and 1.\n",
    "'''\n",
    "\n",
    "def predict_probability(feature_matrix, coefficients):\n",
    "    # Take dot product of feature_matrix and coefficients  \n",
    "    scores = np.dot(feature_matrix, coefficients)\n",
    "    \n",
    "    # Compute P(y_i = +1 | x_i, w) using the link function\n",
    "    predictions = 1.0 / (1.0 + np.exp(-scores))\n",
    "\n",
    "    return predictions"
   ]
  },
  {
   "cell_type": "markdown",
   "metadata": {},
   "source": [
    "How the link function works with matrix algebra?\n",
    "\n",
    "Since the word counts are stored as columns in **feature_matrix**, each $i$-th row of the matrix corresponds to the feature vector $h(\\mathbf{x}_i)$:\n",
    "$$\n",
    "[\\text{feature_matrix}] =\n",
    "\\left[\n",
    "\\begin{array}{c}\n",
    "h(\\mathbf{x}_1)^T \\\\\n",
    "h(\\mathbf{x}_2)^T \\\\\n",
    "\\vdots \\\\\n",
    "h(\\mathbf{x}_N)^T\n",
    "\\end{array}\n",
    "\\right] =\n",
    "\\left[\n",
    "\\begin{array}{cccc}\n",
    "h_0(\\mathbf{x}_1) & h_1(\\mathbf{x}_1) & \\cdots & h_D(\\mathbf{x}_1) \\\\\n",
    "h_0(\\mathbf{x}_2) & h_1(\\mathbf{x}_2) & \\cdots & h_D(\\mathbf{x}_2) \\\\\n",
    "\\vdots & \\vdots & \\ddots & \\vdots \\\\\n",
    "h_0(\\mathbf{x}_N) & h_1(\\mathbf{x}_N) & \\cdots & h_D(\\mathbf{x}_N)\n",
    "\\end{array}\n",
    "\\right]\n",
    "$$\n",
    "\n",
    "By the rules of matrix multiplication, the score vector containing elements $\\mathbf{w}^T h(\\mathbf{x}_i)$ is obtained by multiplying **feature_matrix** and the coefficient vector $\\mathbf{w}$.\n",
    "$$\n",
    "[\\text{score}] =\n",
    "[\\text{feature_matrix}]\\mathbf{w} =\n",
    "\\left[\n",
    "\\begin{array}{c}\n",
    "h(\\mathbf{x}_1)^T \\\\\n",
    "h(\\mathbf{x}_2)^T \\\\\n",
    "\\vdots \\\\\n",
    "h(\\mathbf{x}_N)^T\n",
    "\\end{array}\n",
    "\\right]\n",
    "\\mathbf{w}\n",
    "= \\left[\n",
    "\\begin{array}{c}\n",
    "h(\\mathbf{x}_1)^T\\mathbf{w} \\\\\n",
    "h(\\mathbf{x}_2)^T\\mathbf{w} \\\\\n",
    "\\vdots \\\\\n",
    "h(\\mathbf{x}_N)^T\\mathbf{w}\n",
    "\\end{array}\n",
    "\\right]\n",
    "= \\left[\n",
    "\\begin{array}{c}\n",
    "\\mathbf{w}^T h(\\mathbf{x}_1) \\\\\n",
    "\\mathbf{w}^T h(\\mathbf{x}_2) \\\\\n",
    "\\vdots \\\\\n",
    "\\mathbf{w}^T h(\\mathbf{x}_N)\n",
    "\\end{array}\n",
    "\\right]\n",
    "$$"
   ]
  },
  {
   "cell_type": "markdown",
   "metadata": {},
   "source": [
    "## Compute derivative of log likelihood with respect to a single coefficient\n",
    "\n",
    "Recall:\n",
    "$$\n",
    "\\frac{\\partial\\ell}{\\partial w_j} = \\sum_{i=1}^N h_j(\\mathbf{x}_i)\\left(\\mathbf{1}[y_i = +1] - P(y_i = +1 | \\mathbf{x}_i, \\mathbf{w})\\right)\n",
    "$$\n",
    "\n",
    "Function that computes the derivative of log likelihood with respect to a single coefficient $w_j$. The function accepts two arguments:\n",
    "* `errors` vector containing $\\mathbf{1}[y_i = +1] - P(y_i = +1 | \\mathbf{x}_i, \\mathbf{w})$ for all $i$.\n",
    "* `feature` vector containing $h_j(\\mathbf{x}_i)$  for all $i$. "
   ]
  },
  {
   "cell_type": "code",
   "execution_count": 18,
   "metadata": {
    "collapsed": true
   },
   "outputs": [],
   "source": [
    "def feature_derivative(errors, feature):     \n",
    "    # Compute the dot product of errors and feature\n",
    "    derivative = np.dot(errors, feature)\n",
    "    \n",
    "    # Return the derivative\n",
    "    return derivative"
   ]
  },
  {
   "cell_type": "markdown",
   "metadata": {},
   "source": [
    "We introduced a transformation of this likelihood---called the log likelihood---that simplifies the derivation of the gradient and is more numerically stable.  Due to its numerical stability, we will use the log likelihood instead of the likelihood to assess the algorithm.\n",
    "\n",
    "The log likelihood is computed using the following formula (see the advanced optional video if you are curious about the derivation of this equation):\n",
    "\n",
    "$$\\ell\\ell(\\mathbf{w}) = \\sum_{i=1}^N \\Big( (\\mathbf{1}[y_i = +1] - 1)\\mathbf{w}^T h(\\mathbf{x}_i) - \\ln\\left(1 + \\exp(-\\mathbf{w}^T h(\\mathbf{x}_i))\\right) \\Big) $$\n",
    "\n",
    "Function to compute the log likelihood for the entire dataset."
   ]
  },
  {
   "cell_type": "code",
   "execution_count": 19,
   "metadata": {
    "collapsed": true
   },
   "outputs": [],
   "source": [
    "def compute_log_likelihood(feature_matrix, sentiment, coefficients):\n",
    "    indicator = (sentiment==+1)\n",
    "    scores = np.dot(feature_matrix, coefficients)\n",
    "    logexp = np.log(1. + np.exp(-scores))\n",
    "    \n",
    "    # Simple check to prevent overflow\n",
    "    mask = np.isinf(logexp)\n",
    "    logexp[mask] = -scores[mask]\n",
    "    \n",
    "    lp = np.sum((indicator-1)*scores - logexp)\n",
    "    return lp"
   ]
  },
  {
   "cell_type": "markdown",
   "metadata": {},
   "source": [
    "## Taking gradient steps\n",
    "Now we are ready to implement our own logistic regression. \n",
    "\n",
    "Function to solve the logistic regression model using gradient ascent:"
   ]
  },
  {
   "cell_type": "code",
   "execution_count": 20,
   "metadata": {
    "collapsed": true
   },
   "outputs": [],
   "source": [
    "from math import sqrt\n",
    "\n",
    "def logistic_regression(feature_matrix, sentiment, initial_coefficients, step_size, max_iter):\n",
    "    coefficients = np.array(initial_coefficients) # make sure it's a numpy array\n",
    "    for itr in xrange(max_iter):\n",
    "\n",
    "        # Predict P(y_i = +1|x_i,w) using your predict_probability() function\n",
    "        predictions = predict_probability(feature_matrix, coefficients)\n",
    "        \n",
    "        # Compute indicator value for (y_i = +1)\n",
    "        indicator = (sentiment==+1)\n",
    "        \n",
    "        # Compute the errors as indicator - predictions\n",
    "        errors = indicator - predictions\n",
    "        for j in xrange(len(coefficients)): # loop over each coefficient\n",
    "            \n",
    "            # Recall that feature_matrix[:,j] is the feature column associated with coefficients[j].\n",
    "            # Compute the derivative for coefficients[j]. Save it in a variable called derivative\n",
    "            derivative = np.dot(errors,feature_matrix[:,j])\n",
    "            \n",
    "            # add the step size times the derivative to the current coefficient\n",
    "            coefficients[j] = coefficients[j] + derivative*step_size\n",
    "        \n",
    "        # Checking whether log likelihood is increasing\n",
    "        if itr <= 15 or (itr <= 100 and itr % 10 == 0) or (itr <= 1000 and itr % 100 == 0) \\\n",
    "        or (itr <= 10000 and itr % 1000 == 0) or itr % 10000 == 0:\n",
    "            lp = compute_log_likelihood(feature_matrix, sentiment, coefficients)\n",
    "            print 'iteration %*d: log likelihood of observed labels = %.8f' % \\\n",
    "                (int(np.ceil(np.log10(max_iter))), itr, lp)\n",
    "    return coefficients"
   ]
  },
  {
   "cell_type": "markdown",
   "metadata": {},
   "source": [
    "# Resolving a sentiment classifier with logistic regression"
   ]
  },
  {
   "cell_type": "markdown",
   "metadata": {},
   "source": [
    "## Split data into training and test sets\n",
    "Let's perform a train/test split with 80% of the data in the training set and 20% of the data in the test set. We use `seed=1` so that everyone gets the same result."
   ]
  },
  {
   "cell_type": "code",
   "execution_count": 21,
   "metadata": {
    "collapsed": true
   },
   "outputs": [],
   "source": [
    "train_data, test_data = products.random_split(.8, seed=1)"
   ]
  },
  {
   "cell_type": "code",
   "execution_count": 22,
   "metadata": {
    "collapsed": false
   },
   "outputs": [
    {
     "name": "stdout",
     "output_type": "stream",
     "text": [
      "# of total reviews = 69494\n",
      "# of positive reviews on all data = 34828\n",
      "# of negative reviews on all data = 34666\n"
     ]
    }
   ],
   "source": [
    "# Warning: This may take a few minutes...\n",
    "print '# of total reviews =', len(products)\n",
    "print '# of positive reviews on all data =', len(products[products['review_sentiment']==1])\n",
    "print '# of negative reviews on all data =', len(products[products['review_sentiment']==-1])"
   ]
  },
  {
   "cell_type": "code",
   "execution_count": 23,
   "metadata": {
    "collapsed": false
   },
   "outputs": [
    {
     "name": "stdout",
     "output_type": "stream",
     "text": [
      "# of train_data reviews = 55656\n",
      "# of positive reviews on train data = 27945\n",
      "# of negative reviews on train data = 27711\n"
     ]
    }
   ],
   "source": [
    "# Warning: This may take a few minutes...\n",
    "print '# of train_data reviews =', len(train_data)\n",
    "print '# of positive reviews on train data =', len(train_data[train_data['review_sentiment']==1])\n",
    "print '# of negative reviews on train data =', len(train_data[train_data['review_sentiment']==-1])"
   ]
  },
  {
   "cell_type": "code",
   "execution_count": 24,
   "metadata": {
    "collapsed": false
   },
   "outputs": [
    {
     "name": "stdout",
     "output_type": "stream",
     "text": [
      "# of test_data reviews = 13838\n",
      "# of positive reviews on test data = 6883\n",
      "# of negative reviews on test data = 6955\n"
     ]
    }
   ],
   "source": [
    "# Warning: This may take a few minutes...\n",
    "print '# of test_data reviews =', len(test_data)\n",
    "print '# of positive reviews on test data =', len(test_data[test_data['review_sentiment']==1])\n",
    "print '# of negative reviews on test data =', len(test_data[test_data['review_sentiment']==-1])"
   ]
  },
  {
   "cell_type": "markdown",
   "metadata": {},
   "source": [
    "## SFrame to NumPy array\n",
    "NumPy is a powerful library for doing matrix manipulation. Let us convert our data to matrices and then implement our algorithms with matrices."
   ]
  },
  {
   "cell_type": "markdown",
   "metadata": {},
   "source": [
    "Function that extracts columns from an SFrame and converts them into a NumPy array. Two arrays are returned: one representing features and another representing class labels. The feature matrix includes an additional column 'intercept' to take account of the intercept term."
   ]
  },
  {
   "cell_type": "code",
   "execution_count": 25,
   "metadata": {
    "collapsed": true
   },
   "outputs": [],
   "source": [
    "import numpy as np\n",
    "def get_numpy_data(data_sframe, features, label):\n",
    "    data_sframe['intercept'] = 1\n",
    "    features = ['intercept'] + features\n",
    "    features_sframe = data_sframe[features]\n",
    "    feature_matrix = features_sframe.to_numpy()\n",
    "    label_sarray = data_sframe[label]\n",
    "    label_array = label_sarray.to_numpy()\n",
    "    return(feature_matrix, label_array)\n",
    "\n",
    "def get_numpy_feature_matrix(data_sframe, features):\n",
    "    data_sframe['intercept'] = 1\n",
    "    features = ['intercept'] + features\n",
    "    features_sframe = data_sframe[features]\n",
    "    feature_matrix = features_sframe.to_numpy()\n",
    "    return(feature_matrix)"
   ]
  },
  {
   "cell_type": "markdown",
   "metadata": {},
   "source": [
    "# Training Set"
   ]
  },
  {
   "cell_type": "markdown",
   "metadata": {},
   "source": [
    "Let us convert the train_data into NumPy arrays."
   ]
  },
  {
   "cell_type": "code",
   "execution_count": 26,
   "metadata": {
    "collapsed": false
   },
   "outputs": [],
   "source": [
    "# Warning: This may take a few minutes...\n",
    "train_feature_matrix, train_sentiment = get_numpy_data(train_data, important_words, 'review_sentiment') "
   ]
  },
  {
   "cell_type": "code",
   "execution_count": 27,
   "metadata": {
    "collapsed": false
   },
   "outputs": [
    {
     "data": {
      "text/plain": [
       "(55656, 1501)"
      ]
     },
     "execution_count": 27,
     "metadata": {},
     "output_type": "execute_result"
    }
   ],
   "source": [
    "train_feature_matrix.shape"
   ]
  },
  {
   "cell_type": "markdown",
   "metadata": {},
   "source": [
    "## Creating the sentiment classifier on the training data"
   ]
  },
  {
   "cell_type": "code",
   "execution_count": 28,
   "metadata": {
    "collapsed": false
   },
   "outputs": [
    {
     "name": "stdout",
     "output_type": "stream",
     "text": [
      "iteration   0: log likelihood of observed labels = -38562.67628793\n",
      "iteration   1: log likelihood of observed labels = -38547.92839729\n",
      "iteration   2: log likelihood of observed labels = -38533.53122155\n",
      "iteration   3: log likelihood of observed labels = -38519.46182750\n",
      "iteration   4: log likelihood of observed labels = -38505.69883314\n",
      "iteration   5: log likelihood of observed labels = -38492.22230924\n",
      "iteration   6: log likelihood of observed labels = -38479.01368605\n",
      "iteration   7: log likelihood of observed labels = -38466.05566491\n",
      "iteration   8: log likelihood of observed labels = -38453.33213469\n",
      "iteration   9: log likelihood of observed labels = -38440.82809307\n",
      "iteration  10: log likelihood of observed labels = -38428.52957232\n",
      "iteration  11: log likelihood of observed labels = -38416.42356962\n",
      "iteration  12: log likelihood of observed labels = -38404.49798155\n",
      "iteration  13: log likelihood of observed labels = -38392.74154273\n",
      "iteration  14: log likelihood of observed labels = -38381.14376835\n",
      "iteration  15: log likelihood of observed labels = -38369.69490041\n",
      "iteration  20: log likelihood of observed labels = -38314.38744212\n",
      "iteration  30: log likelihood of observed labels = -38210.91594027\n",
      "iteration  40: log likelihood of observed labels = -38113.55063251\n",
      "iteration  50: log likelihood of observed labels = -38020.03840129\n",
      "iteration  60: log likelihood of observed labels = -37929.24710164\n",
      "iteration  70: log likelihood of observed labels = -37840.59222042\n",
      "iteration  80: log likelihood of observed labels = -37753.75917924\n",
      "iteration  90: log likelihood of observed labels = -37668.56775302\n",
      "iteration 100: log likelihood of observed labels = -37584.90536762\n",
      "iteration 200: log likelihood of observed labels = -36820.25577624\n",
      "iteration 300: log likelihood of observed labels = -36162.04639152\n"
     ]
    }
   ],
   "source": [
    "# Warning: This may take a few minutes...\n",
    "#Atención el número de ceros debe coincidir con el número de palabras más uno.\n",
    "sentiment_model_coefficients = logistic_regression(train_feature_matrix, train_sentiment, initial_coefficients=np.zeros(train_feature_matrix.shape[1]),\n",
    "                                   step_size=1e-7, max_iter=301)"
   ]
  },
  {
   "cell_type": "markdown",
   "metadata": {},
   "source": [
    "## Class predictions from scores"
   ]
  },
  {
   "cell_type": "markdown",
   "metadata": {},
   "source": [
    "Class predictions for a data point $\\mathbf{x}$ can be computed from the coefficients $\\mathbf{w}$ using the following formula:\n",
    "$$\n",
    "\\hat{y}_i = \n",
    "\\left\\{\n",
    "\\begin{array}{ll}\n",
    "      +1 & \\mathbf{x}_i^T\\mathbf{w} > 0 \\\\\n",
    "      -1 & \\mathbf{x}_i^T\\mathbf{w} \\leq 0 \\\\\n",
    "\\end{array} \n",
    "\\right.\n",
    "$$\n",
    "\n",
    "Now, we will write some code to compute class predictions. We will do this in two steps:\n",
    "* **Step 1**: First compute the **scores** using **feature_matrix** and **coefficients** using a dot product.\n",
    "* **Step 2**: Using the formula above, compute the class predictions from the scores.\n",
    "\n",
    "Step 1 can be implemented as follows:"
   ]
  },
  {
   "cell_type": "code",
   "execution_count": 29,
   "metadata": {
    "collapsed": true
   },
   "outputs": [],
   "source": [
    "# Step 1: Compute the scores as a dot product between feature_matrix and coefficients.\n",
    "scores = np.dot(train_feature_matrix, sentiment_model_coefficients)"
   ]
  },
  {
   "cell_type": "code",
   "execution_count": 30,
   "metadata": {
    "collapsed": true
   },
   "outputs": [],
   "source": [
    "# Step 2: compute the class predictions using the **scores** obtained above:\n",
    "train_sentiment_predictions = map((lambda score: +1 if score > 0 else -1), scores)"
   ]
  },
  {
   "cell_type": "markdown",
   "metadata": {},
   "source": [
    "## Measuring accuracy of the model\n",
    "\n",
    "We will now measure the classification accuracy of the model. \n",
    "In accuracy, instead of measuring the number of errors, we measure the number of correct classifications.\n",
    "So the ratio here is number of correct divided by total number of sentences. \n",
    "In terms of accuracy, the best possible value is 1, I've got all the sentences right. \n",
    "The classification accuracy can be computed as follows:\n",
    "\n",
    "$$\n",
    "\\mbox{accuracy} = \\frac{\\mbox{# correctly classified data points}}{\\mbox{# total data points}}\n",
    "$$"
   ]
  },
  {
   "cell_type": "code",
   "execution_count": 31,
   "metadata": {
    "collapsed": false
   },
   "outputs": [
    {
     "name": "stdout",
     "output_type": "stream",
     "text": [
      "-----------------------------------------------------\n",
      "# Reviews   correctly classified = 40657\n",
      "# Reviews incorrectly classified = 14999\n",
      "# Reviews total                  = 55656\n",
      "-----------------------------------------------------\n",
      "Accuracy = 0.73\n"
     ]
    }
   ],
   "source": [
    "num_mistakes = (train_sentiment != train_sentiment_predictions).sum()\n",
    "accuracy = 1.0 * (len(train_data) - num_mistakes) / len(train_data)\n",
    "print \"-----------------------------------------------------\"\n",
    "print '# Reviews   correctly classified =', len(train_data) - num_mistakes\n",
    "print '# Reviews incorrectly classified =', num_mistakes\n",
    "print '# Reviews total                  =', len(train_data)\n",
    "print \"-----------------------------------------------------\"\n",
    "print 'Accuracy = %.2f' % accuracy"
   ]
  },
  {
   "cell_type": "markdown",
   "metadata": {},
   "source": [
    "# Exploring Data 4/6\n",
    "## Which words contribute most to positive & negative sentiments?"
   ]
  },
  {
   "cell_type": "markdown",
   "metadata": {},
   "source": [
    "We were able to compute the \"**most positive words**\". These are words that correspond most strongly with positive reviews. In order to do this, we will first do the following:\n",
    "* Treat each coefficient as a tuple, i.e. (**word**, **coefficient_value**).\n",
    "* Sort all the (**word**, **coefficient_value**) tuples by **coefficient_value** in descending order."
   ]
  },
  {
   "cell_type": "code",
   "execution_count": 32,
   "metadata": {
    "collapsed": false
   },
   "outputs": [],
   "source": [
    "sentiment_model_coefficients_without_intercept = list(sentiment_model_coefficients[1:]) # exclude intercept\n",
    "word_coefficient_tuples = [(word, coefficient) for word, coefficient in zip(important_words, sentiment_model_coefficients_without_intercept)]"
   ]
  },
  {
   "cell_type": "markdown",
   "metadata": {},
   "source": [
    "Now, **word_coefficient_tuples** contains a sorted list of (**word**, **coefficient_value**) tuples. The first 10 elements in this list correspond to the words that are most positive."
   ]
  },
  {
   "cell_type": "markdown",
   "metadata": {},
   "source": [
    "### Twenty \"most positive\" words\n",
    "\n",
    "Now, we compute the 10 words that have the most positive coefficient values. These words are associated with positive sentiment."
   ]
  },
  {
   "cell_type": "code",
   "execution_count": 69,
   "metadata": {
    "collapsed": true
   },
   "outputs": [],
   "source": [
    "word_coefficient_tuples = sorted(word_coefficient_tuples, key=lambda x:x[1], reverse=True)"
   ]
  },
  {
   "cell_type": "code",
   "execution_count": null,
   "metadata": {
    "collapsed": true
   },
   "outputs": [],
   "source": [
    "word_coefficient_tuples[0:20]"
   ]
  },
  {
   "cell_type": "code",
   "execution_count": 73,
   "metadata": {
    "collapsed": false
   },
   "outputs": [],
   "source": [
    "import matplotlib.pyplot as plt\n",
    "from wordcloud import WordCloud\n",
    "%matplotlib inline  \n"
   ]
  },
  {
   "cell_type": "markdown",
   "metadata": {},
   "source": [
    "###  Most possitive words cloud"
   ]
  },
  {
   "cell_type": "code",
   "execution_count": 74,
   "metadata": {
    "collapsed": false
   },
   "outputs": [
    {
     "data": {
      "image/png": "[encoded data removed]",
      "text/plain": [
       "<matplotlib.figure.Figure at 0x7f8b9c8e1cd0>"
      ]
     },
     "metadata": {},
     "output_type": "display_data"
    }
   ],
   "source": [
    "wordcloud = WordCloud(relative_scaling=.1).generate_from_frequencies(word_coefficient_tuples[0:20])\n",
    "plt.imshow(wordcloud)\n",
    "plt.axis(\"off\")\n",
    "plt.show()"
   ]
  },
  {
   "cell_type": "markdown",
   "metadata": {},
   "source": [
    "### Twenty \"most negative\" words\n",
    "\n",
    "Next, we repeat this exercise on the 10 most negative words.  That is, we compute the 10 words that have the most negative coefficient values. These words are associated with negative sentiment."
   ]
  },
  {
   "cell_type": "code",
   "execution_count": 35,
   "metadata": {
    "collapsed": false
   },
   "outputs": [],
   "source": [
    "word_coefficient_tuples = sorted(word_coefficient_tuples, key=lambda x:x[1], reverse=False)"
   ]
  },
  {
   "cell_type": "code",
   "execution_count": 65,
   "metadata": {
    "collapsed": false
   },
   "outputs": [
    {
     "data": {
      "text/plain": [
       "[('wa', -0.076910539667272848),\n",
       " ('would', -0.047993502855058948),\n",
       " ('money', -0.033634663138491436),\n",
       " ('i', -0.032149370426236744),\n",
       " ('product', -0.031188689049810522),\n",
       " ('didnt', -0.03108731671996507),\n",
       " ('even', -0.027071648853798525),\n",
       " ('not', -0.026410486153495703),\n",
       " ('waste', -0.025332366949353691),\n",
       " ('thought', -0.021359972210361015),\n",
       " ('disappointed', -0.019572581111056395),\n",
       " ('review', -0.018478903812761505),\n",
       " ('return', -0.018263749740310576),\n",
       " ('tried', -0.017464678580141557),\n",
       " ('work', -0.017452131489125368),\n",
       " ('maybe', -0.016783110263799327),\n",
       " ('back', -0.016378378470142032),\n",
       " ('plastic', -0.015812374453428448),\n",
       " ('better', -0.015453283971803381),\n",
       " ('dont', -0.015375793067250303)]"
      ]
     },
     "execution_count": 65,
     "metadata": {},
     "output_type": "execute_result"
    }
   ],
   "source": [
    "word_coefficient_tuples[0:20]"
   ]
  },
  {
   "cell_type": "markdown",
   "metadata": {},
   "source": [
    "### Most negative words cloud"
   ]
  },
  {
   "cell_type": "code",
   "execution_count": 75,
   "metadata": {
    "collapsed": false
   },
   "outputs": [
    {
     "ename": "NameError",
     "evalue": "name 'pd' is not defined",
     "output_type": "error",
     "traceback": [
      "\u001b[1;31m---------------------------------------------------------------------------\u001b[0m",
      "\u001b[1;31mNameError\u001b[0m                                 Traceback (most recent call last)",
      "\u001b[1;32m<ipython-input-75-fc61cdb57f3f>\u001b[0m in \u001b[0;36m<module>\u001b[1;34m()\u001b[0m\n\u001b[1;32m----> 1\u001b[1;33m \u001b[0mnegativeWordsDf\u001b[0m \u001b[1;33m=\u001b[0m \u001b[0mpd\u001b[0m\u001b[1;33m.\u001b[0m\u001b[0mDataFrame\u001b[0m\u001b[1;33m(\u001b[0m\u001b[0mword_coefficient_tuples\u001b[0m\u001b[1;33m[\u001b[0m\u001b[1;36m0\u001b[0m\u001b[1;33m:\u001b[0m\u001b[1;36m20\u001b[0m\u001b[1;33m]\u001b[0m\u001b[1;33m,\u001b[0m \u001b[0mcolumns\u001b[0m\u001b[1;33m=\u001b[0m\u001b[1;33m[\u001b[0m\u001b[1;34m'word'\u001b[0m\u001b[1;33m,\u001b[0m\u001b[1;34m'probability'\u001b[0m\u001b[1;33m]\u001b[0m\u001b[1;33m)\u001b[0m\u001b[1;33m\u001b[0m\u001b[0m\n\u001b[0m\u001b[0;32m      2\u001b[0m \u001b[1;33m\u001b[0m\u001b[0m\n\u001b[0;32m      3\u001b[0m \u001b[1;32mdef\u001b[0m \u001b[0mabsProbability\u001b[0m\u001b[1;33m(\u001b[0m\u001b[0mrow\u001b[0m\u001b[1;33m)\u001b[0m\u001b[1;33m:\u001b[0m\u001b[1;33m\u001b[0m\u001b[0m\n\u001b[0;32m      4\u001b[0m     \u001b[1;32mreturn\u001b[0m \u001b[0mrow\u001b[0m\u001b[1;33m[\u001b[0m\u001b[1;34m\"probability\"\u001b[0m\u001b[1;33m]\u001b[0m\u001b[1;33m.\u001b[0m\u001b[0mabs\u001b[0m\u001b[1;33m(\u001b[0m\u001b[1;33m)\u001b[0m\u001b[1;33m\u001b[0m\u001b[0m\n\u001b[0;32m      5\u001b[0m \u001b[0mnegativeWordsDf\u001b[0m\u001b[1;33m[\u001b[0m\u001b[1;34m'probability'\u001b[0m\u001b[1;33m]\u001b[0m\u001b[1;33m=\u001b[0m\u001b[0mabsProbability\u001b[0m\u001b[1;33m(\u001b[0m\u001b[0mnegativeWordsDf\u001b[0m\u001b[1;33m)\u001b[0m\u001b[1;33m\u001b[0m\u001b[0m\n",
      "\u001b[1;31mNameError\u001b[0m: name 'pd' is not defined"
     ]
    }
   ],
   "source": [
    "negativeWordsDf = pd.DataFrame(word_coefficient_tuples[0:20], columns=['word','probability'])\n",
    "\n",
    "def absProbability(row):\n",
    "    return row[\"probability\"].abs()\n",
    "negativeWordsDf['probability']=absProbability(negativeWordsDf)\n",
    "negativeData = [tuple(x) for x in negativeWordsDf.values]\n",
    "wordcloud = WordCloud(relative_scaling=.1).generate_from_frequencies(negativeData)\n",
    "plt.imshow(wordcloud)\n",
    "plt.axis(\"off\")\n",
    "plt.show()"
   ]
  },
  {
   "cell_type": "markdown",
   "metadata": {},
   "source": [
    "# Test Set. Making predictions with logistic regression\n",
    "Now that a model is trained, we can make predictions on the **test data**."
   ]
  },
  {
   "cell_type": "code",
   "execution_count": 37,
   "metadata": {
    "collapsed": true
   },
   "outputs": [],
   "source": [
    "# We need to convert test_data into the sparse matrix format first.\n",
    "# Warning: This may take a few minutes...\n",
    "test_feature_matrix, test_sentiment = get_numpy_data(test_data, important_words, 'review_sentiment')"
   ]
  },
  {
   "cell_type": "code",
   "execution_count": 38,
   "metadata": {
    "collapsed": false
   },
   "outputs": [],
   "source": [
    "# Step 1: Compute the scores as a dot product between feature_matrix and coefficients.\n",
    "scores = np.dot(test_feature_matrix, sentiment_model_coefficients)"
   ]
  },
  {
   "cell_type": "code",
   "execution_count": 39,
   "metadata": {
    "collapsed": false
   },
   "outputs": [],
   "source": [
    "# Step 2: compute the class predictions using the **scores** obtained above:\n",
    "test_sentiment_predictions = map((lambda score: +1 if score > 0 else -1), scores)"
   ]
  },
  {
   "cell_type": "markdown",
   "metadata": {},
   "source": [
    "## Accuracy on Test Set"
   ]
  },
  {
   "cell_type": "code",
   "execution_count": 40,
   "metadata": {
    "collapsed": false
   },
   "outputs": [
    {
     "name": "stdout",
     "output_type": "stream",
     "text": [
      "-----------------------------------------------------\n",
      "# Reviews   correctly classified = 10093\n",
      "# Reviews incorrectly classified = 3745\n",
      "# Reviews total                  = 13838\n",
      "-----------------------------------------------------\n",
      "Accuracy = 0.73\n"
     ]
    }
   ],
   "source": [
    "num_test_mistakes = (test_sentiment != test_sentiment_predictions).sum()\n",
    "accuracy = 1.0 * (len(test_data) - num_test_mistakes) / len(test_data)\n",
    "print \"-----------------------------------------------------\"\n",
    "print '# Reviews   correctly classified =', len(test_data) - num_test_mistakes\n",
    "print '# Reviews incorrectly classified =', num_test_mistakes\n",
    "print '# Reviews total                  =', len(test_data)\n",
    "print \"-----------------------------------------------------\"\n",
    "print 'Accuracy = %.2f' % accuracy"
   ]
  },
  {
   "cell_type": "markdown",
   "metadata": {},
   "source": [
    "# Exploring Data 5/6\n",
    "## Applying the learned model to understand sentiment for reviews"
   ]
  },
  {
   "cell_type": "code",
   "execution_count": 41,
   "metadata": {
    "collapsed": true
   },
   "outputs": [],
   "source": [
    "test_data['predicted_sentiment'] = scores"
   ]
  },
  {
   "cell_type": "markdown",
   "metadata": {},
   "source": [
    "### Most positive reviews"
   ]
  },
  {
   "cell_type": "code",
   "execution_count": 42,
   "metadata": {
    "collapsed": true
   },
   "outputs": [],
   "source": [
    "test_data = test_data.sort('predicted_sentiment', ascending=False)"
   ]
  },
  {
   "cell_type": "code",
   "execution_count": 43,
   "metadata": {
    "collapsed": false
   },
   "outputs": [
    {
     "data": {
      "text/html": [
       "<div style=\"max-height:1000px;max-width:1500px;overflow:auto;\"><table frame=\"box\" rules=\"cols\">\n",
       "    <tr>\n",
       "        <th style=\"padding-left: 1em; padding-right: 1em; text-align: center\">predicted_sentiment</th>\n",
       "        <th style=\"padding-left: 1em; padding-right: 1em; text-align: center\">review_sentiment</th>\n",
       "        <th style=\"padding-left: 1em; padding-right: 1em; text-align: center\">review_overall</th>\n",
       "        <th style=\"padding-left: 1em; padding-right: 1em; text-align: center\">reviewText</th>\n",
       "    </tr>\n",
       "    <tr>\n",
       "        <td style=\"padding-left: 1em; padding-right: 1em; text-align: center; vertical-align: top\">1.42348470882</td>\n",
       "        <td style=\"padding-left: 1em; padding-right: 1em; text-align: center; vertical-align: top\">-1</td>\n",
       "        <td style=\"padding-left: 1em; padding-right: 1em; text-align: center; vertical-align: top\">2.0</td>\n",
       "        <td style=\"padding-left: 1em; padding-right: 1em; text-align: center; vertical-align: top\">As parents of two little<br>ones, I'd like to say we ...</td>\n",
       "    </tr>\n",
       "    <tr>\n",
       "        <td style=\"padding-left: 1em; padding-right: 1em; text-align: center; vertical-align: top\">1.34794398256</td>\n",
       "        <td style=\"padding-left: 1em; padding-right: 1em; text-align: center; vertical-align: top\">1</td>\n",
       "        <td style=\"padding-left: 1em; padding-right: 1em; text-align: center; vertical-align: top\">5.0</td>\n",
       "        <td style=\"padding-left: 1em; padding-right: 1em; text-align: center; vertical-align: top\">I am  dog trainer, and<br>bought this 3 years ago. ...</td>\n",
       "    </tr>\n",
       "    <tr>\n",
       "        <td style=\"padding-left: 1em; padding-right: 1em; text-align: center; vertical-align: top\">1.06514149467</td>\n",
       "        <td style=\"padding-left: 1em; padding-right: 1em; text-align: center; vertical-align: top\">1</td>\n",
       "        <td style=\"padding-left: 1em; padding-right: 1em; text-align: center; vertical-align: top\">5.0</td>\n",
       "        <td style=\"padding-left: 1em; padding-right: 1em; text-align: center; vertical-align: top\">We LOVE our Kinderwagon<br>hop!  We were gifted a ...</td>\n",
       "    </tr>\n",
       "    <tr>\n",
       "        <td style=\"padding-left: 1em; padding-right: 1em; text-align: center; vertical-align: top\">1.01840714957</td>\n",
       "        <td style=\"padding-left: 1em; padding-right: 1em; text-align: center; vertical-align: top\">1</td>\n",
       "        <td style=\"padding-left: 1em; padding-right: 1em; text-align: center; vertical-align: top\">5.0</td>\n",
       "        <td style=\"padding-left: 1em; padding-right: 1em; text-align: center; vertical-align: top\">I got these from toys r<br>us which is slightly ...</td>\n",
       "    </tr>\n",
       "    <tr>\n",
       "        <td style=\"padding-left: 1em; padding-right: 1em; text-align: center; vertical-align: top\">1.00403213387</td>\n",
       "        <td style=\"padding-left: 1em; padding-right: 1em; text-align: center; vertical-align: top\">1</td>\n",
       "        <td style=\"padding-left: 1em; padding-right: 1em; text-align: center; vertical-align: top\">5.0</td>\n",
       "        <td style=\"padding-left: 1em; padding-right: 1em; text-align: center; vertical-align: top\">This is the best purchase<br>we have made for our  ...</td>\n",
       "    </tr>\n",
       "</table>\n",
       "[5 rows x 4 columns]<br/>\n",
       "</div>"
      ],
      "text/plain": [
       "Columns:\n",
       "\tpredicted_sentiment\tfloat\n",
       "\treview_sentiment\tint\n",
       "\treview_overall\tfloat\n",
       "\treviewText\tstr\n",
       "\n",
       "Rows: 5\n",
       "\n",
       "Data:\n",
       "+---------------------+------------------+----------------+\n",
       "| predicted_sentiment | review_sentiment | review_overall |\n",
       "+---------------------+------------------+----------------+\n",
       "|    1.42348470882    |        -1        |      2.0       |\n",
       "|    1.34794398256    |        1         |      5.0       |\n",
       "|    1.06514149467    |        1         |      5.0       |\n",
       "|    1.01840714957    |        1         |      5.0       |\n",
       "|    1.00403213387    |        1         |      5.0       |\n",
       "+---------------------+------------------+----------------+\n",
       "+-------------------------------+\n",
       "|           reviewText          |\n",
       "+-------------------------------+\n",
       "| As parents of two little o... |\n",
       "| I am  dog trainer, and bou... |\n",
       "| We LOVE our Kinderwagon ho... |\n",
       "| I got these from toys r us... |\n",
       "| This is the best purchase ... |\n",
       "+-------------------------------+\n",
       "[5 rows x 4 columns]"
      ]
     },
     "execution_count": 43,
     "metadata": {},
     "output_type": "execute_result"
    }
   ],
   "source": [
    "test_data[['predicted_sentiment','review_sentiment','review_overall','reviewText']][0:5]"
   ]
  },
  {
   "cell_type": "code",
   "execution_count": 44,
   "metadata": {
    "collapsed": false
   },
   "outputs": [
    {
     "data": {
      "text/plain": [
       "\"As parents of two little ones, I'd like to say we are experts in appreciating different baby bottle designs and what works best for baby.  Here's our criteria for a baby bottle and where the Munchkin fails to win us over:Our Baby Bottle Criteria:====================First and foremost,BABY MUST LIKE IT!---------------------------------Munchkin Latch Bottle:Fails here because the nipple easily collapses.  Just a very slight pressure with your finger and the nipple collapses.  Now, imagine a moving baby with a slurping motion and this nipple collapses too easily.Avent Classic Bottle:We have a dozen of these from our firstborn.  Unfortunately, our son just won't take these.  We tried all of the nipple sizes from NB to level 3, he just won't take it.  We had learned long ago to just get 1 bottle of each type, because different babies like different bottles, no rhyme or reason.  Our daughter loved these.Avent Natural Flow bottle/nipple:He will actually finish a full bottle with this, but the bib and burp cloth will be drenched.  The wider/flat design means he just drools and drools.  Maybe good for others, but not for him.Dr. Brown:He was colic-y at first and this is the only bottle he would take without drooling.  He loves them, we the parents despise them because of the cleaning - 6 parts to clean.  But baby first and we endured this for 6-7 months until we discovered the Lansinoh mOmma *Natural Wave* bottles.Lansinoh mOmma *Natural Wave* bottle:I put asterisks around Natural Wave because Lansinoh has an older &#34;Lansinoh mOmma&#34; that is round in shape (and has orange coloring).  The Lansinoh mOmma natural wave bottles look like regular bottles and are purple in coloring.  So make sure you are reading about the right mOmma type!This is the only bottle in addition to the Dr. Brown that he would take.  No drooling (we don't even need a bib or burp cloth), he finishes everything and most of all, it is so easy to clean!  (just 4 parts more on that later)After baby approves, the next criteria is:HOW EASY IS IT TO CLEAN?==========================Munchkin Latch Bottle:This is pretty terrible, probably 1-star for cleaning along with Dr. Brown.  The nipple is an accordion design on the bottom that is supposed to allow for easy movement (and probably why it collapses so easy under suction).  Well, can you imagine trying to clean in between the grooves of an accordion?  What a pain.  Then, it has this blue-vent piece at the bottom of the bottle that you have to pop out and has small crevices that you can't really fit any bottle brush into, not even the Munchkin baby bottle brush set - hah!  Furthermore, having this &#34;hole&#34; at the bottom is terrible if you soak your bottles with water because you always have to have the blue-vent piece in there.Avent Classic:Probably a 2 for cleaning because it has 5 parts.  It has this blue ring that is annoying to clean.  We put up with it for 2 years until we switch our daughter to cow milk.Avent Natural Flow:Probably a 4 for cleaning because it has 4 parts.  The middle nipple-holder piece is designed just-so that it really tears up the sponges in your bottle brush.Dr. Brown:All parents despise cleaning them, yet baby-first and this is the bottle we used for 6-7 months until we discovered the new Lansinoh mOmma redesign.  If I could give negative stars for cleaning a Dr. Brown bottle I would.  All of the small intricate parts are a pain to clean, ask anyone, bleh.Lansinoh mOmma *Natural Wave* purple bottle:We love it, 5-stars for cleaning.  4 simple parts that is compatible with our bottle brush, nice wide design, easy to assemble, super easy to clean.OVERALL DESIGN THOUGHTS:===========================Munchkin Latch Bottle:Terrible.  The lid completely covers the middle-nipple-holder part.  This means after you have warmed up the bottle with hot water, you spin and spin the lid because there's no other surface to grab and it's slippery because it is wet.  If you have soapy hands and are trying to unscrew the top, it will spin and spin, too. All of the other bottles, the lid rests-on or at least is designed such that you can easily grip and separate the cap/lid.  Terrible to transport, must use a sealing disc, else it leaks.Avent Classic:Has a flat top.  Easy to put down the cap/lid and won't roll away while adding formula, etc.  Easy to grip, just don't like the extra &#34;ring&#34; that must be cleaned.  Used this for 2 years with our first one.  Smallest size is 4 ounces or 125 ML - this was too little and the 9 ounce was a big leap.  5 ounces would have been perfect for a long time. Easy to transport, no spills, nothing extra required.Avent Natural Flow:Same slippery lid issue as the Munchkin, but not as bad.  Rolls around the counter if you take the cap/lid off.  Smallest size is also 4 ounces/125 ml.  Easy to transport, no spills, nothing extra required.Dr. Brown:The bottle we the parents despised cleaning the most, but we used it for 6-7 months because it DID help with a colic-y baby.  Sometimes you gotta do what you gotta do.  Smallest size is 4 ounces /120 ml, but you CANNOT overfill, it will leak. We despise the 9-ounce version of Dr. Brown - too big for our bottle brush and bleh it actually makes cleaning worse if that was possible.  Another terrible design is that you have to take the cap off to install a sealing-disc if you transport this!  The last thing you want to do in a public place is have to take the cap off, etc exposing the milk to the elements.  If you put this in an insulated cooler and the bottle is not kept vertical and tips over, you'll have milk everywhere.Lansinoh mOmma Natural Wave (the purple one, not the orange one):The lid is great, it has a completely flat side that is easy to put down and won't roll around.  Our baby can drink an entire bottle with no bib or burp cloth.  The smallest size is 5 ounces which is perfect for our baby's needs. Easy to transport, no spills, nothing extra required.Given the reasons/criteria above, the Munchkin Latch is a 2 star bottle for us.\""
      ]
     },
     "execution_count": 44,
     "metadata": {},
     "output_type": "execute_result"
    }
   ],
   "source": [
    "# Most positive review\n",
    "test_data[0]['reviewText']"
   ]
  },
  {
   "cell_type": "markdown",
   "metadata": {},
   "source": [
    "### Most negative reviews"
   ]
  },
  {
   "cell_type": "code",
   "execution_count": 45,
   "metadata": {
    "collapsed": true
   },
   "outputs": [],
   "source": [
    "test_data = test_data.sort('predicted_sentiment', ascending=True)"
   ]
  },
  {
   "cell_type": "code",
   "execution_count": 46,
   "metadata": {
    "collapsed": false
   },
   "outputs": [
    {
     "data": {
      "text/html": [
       "<div style=\"max-height:1000px;max-width:1500px;overflow:auto;\"><table frame=\"box\" rules=\"cols\">\n",
       "    <tr>\n",
       "        <th style=\"padding-left: 1em; padding-right: 1em; text-align: center\">predicted_sentiment</th>\n",
       "        <th style=\"padding-left: 1em; padding-right: 1em; text-align: center\">review_sentiment</th>\n",
       "        <th style=\"padding-left: 1em; padding-right: 1em; text-align: center\">review_overall</th>\n",
       "        <th style=\"padding-left: 1em; padding-right: 1em; text-align: center\">reviewText</th>\n",
       "    </tr>\n",
       "    <tr>\n",
       "        <td style=\"padding-left: 1em; padding-right: 1em; text-align: center; vertical-align: top\">-2.62204847336</td>\n",
       "        <td style=\"padding-left: 1em; padding-right: 1em; text-align: center; vertical-align: top\">1</td>\n",
       "        <td style=\"padding-left: 1em; padding-right: 1em; text-align: center; vertical-align: top\">4.0</td>\n",
       "        <td style=\"padding-left: 1em; padding-right: 1em; text-align: center; vertical-align: top\">First, I got this bark<br>collar after I read ...</td>\n",
       "    </tr>\n",
       "    <tr>\n",
       "        <td style=\"padding-left: 1em; padding-right: 1em; text-align: center; vertical-align: top\">-2.42360251781</td>\n",
       "        <td style=\"padding-left: 1em; padding-right: 1em; text-align: center; vertical-align: top\">-1</td>\n",
       "        <td style=\"padding-left: 1em; padding-right: 1em; text-align: center; vertical-align: top\">1.0</td>\n",
       "        <td style=\"padding-left: 1em; padding-right: 1em; text-align: center; vertical-align: top\">So I read many reviews on<br>this product and watched ...</td>\n",
       "    </tr>\n",
       "    <tr>\n",
       "        <td style=\"padding-left: 1em; padding-right: 1em; text-align: center; vertical-align: top\">-2.40900888545</td>\n",
       "        <td style=\"padding-left: 1em; padding-right: 1em; text-align: center; vertical-align: top\">-1</td>\n",
       "        <td style=\"padding-left: 1em; padding-right: 1em; text-align: center; vertical-align: top\">1.0</td>\n",
       "        <td style=\"padding-left: 1em; padding-right: 1em; text-align: center; vertical-align: top\">My advice on the Bright<br>Starts Sugar Blossom ...</td>\n",
       "    </tr>\n",
       "    <tr>\n",
       "        <td style=\"padding-left: 1em; padding-right: 1em; text-align: center; vertical-align: top\">-2.10396332731</td>\n",
       "        <td style=\"padding-left: 1em; padding-right: 1em; text-align: center; vertical-align: top\">-1</td>\n",
       "        <td style=\"padding-left: 1em; padding-right: 1em; text-align: center; vertical-align: top\">1.0</td>\n",
       "        <td style=\"padding-left: 1em; padding-right: 1em; text-align: center; vertical-align: top\">I know that phenotypes<br>don't always match ...</td>\n",
       "    </tr>\n",
       "    <tr>\n",
       "        <td style=\"padding-left: 1em; padding-right: 1em; text-align: center; vertical-align: top\">-2.07412331939</td>\n",
       "        <td style=\"padding-left: 1em; padding-right: 1em; text-align: center; vertical-align: top\">-1</td>\n",
       "        <td style=\"padding-left: 1em; padding-right: 1em; text-align: center; vertical-align: top\">1.0</td>\n",
       "        <td style=\"padding-left: 1em; padding-right: 1em; text-align: center; vertical-align: top\">I purchased the monitor<br>through Amazon and was ...</td>\n",
       "    </tr>\n",
       "</table>\n",
       "[5 rows x 4 columns]<br/>\n",
       "</div>"
      ],
      "text/plain": [
       "Columns:\n",
       "\tpredicted_sentiment\tfloat\n",
       "\treview_sentiment\tint\n",
       "\treview_overall\tfloat\n",
       "\treviewText\tstr\n",
       "\n",
       "Rows: 5\n",
       "\n",
       "Data:\n",
       "+---------------------+------------------+----------------+\n",
       "| predicted_sentiment | review_sentiment | review_overall |\n",
       "+---------------------+------------------+----------------+\n",
       "|    -2.62204847336   |        1         |      4.0       |\n",
       "|    -2.42360251781   |        -1        |      1.0       |\n",
       "|    -2.40900888545   |        -1        |      1.0       |\n",
       "|    -2.10396332731   |        -1        |      1.0       |\n",
       "|    -2.07412331939   |        -1        |      1.0       |\n",
       "+---------------------+------------------+----------------+\n",
       "+-------------------------------+\n",
       "|           reviewText          |\n",
       "+-------------------------------+\n",
       "| First, I got this bark col... |\n",
       "| So I read many reviews on ... |\n",
       "| My advice on the Bright St... |\n",
       "| I know that phenotypes don... |\n",
       "| I purchased the monitor th... |\n",
       "+-------------------------------+\n",
       "[5 rows x 4 columns]"
      ]
     },
     "execution_count": 46,
     "metadata": {},
     "output_type": "execute_result"
    }
   ],
   "source": [
    "test_data[['predicted_sentiment','review_sentiment','review_overall','reviewText']][0:5]"
   ]
  },
  {
   "cell_type": "code",
   "execution_count": 47,
   "metadata": {
    "collapsed": false,
    "scrolled": true
   },
   "outputs": [
    {
     "data": {
      "text/plain": [
       "'First, I got this bark collar after I read detail review by nursetype \"nursetype\"  I really appreciate it.  I really had very bad experience with \"Petiner Basic No bark control collar\". That collar nearly kill my dog.  I also tried \"PetSafe Bark Collar\"  before Petiner Basic No bark control collar, but my dog did not learn to stop barking.When I saw this Dogwidgets collar, I like the fact that the unnecessary barking or excessive barking can be remotely control by me.  This way, I can only send signals to the dogs when it\\'s necessary.  I have 2 dogs and this remote control 2 dogs at the same time is also fantastic bonus.My dogs are small, 4 lbs and 7 lbs little paws.  I was told this may not work for my dog since they are so small, but I was desperate, so I ordered it.This is what I\\'ve done for my dogs when I first received Dogwidgets.The collar (straps) is too long and heavy duty for my tiny dogs. I was expect this to be the case before I ordered it, so I knew I have to make some adjustment  in order for it to work for my dog.  First,  I cut the straps to fit my dogs and put velcro at the end. (no clips, just velcro)  So, it\\'s very quick and easy to take it on/off.  The device itself would have been nice if it was smaller and lighter, but it works for my dogs as is. However, It\\'s rather large on small dogs neck and it can\\'t be comfortable if they have to wear it long period of the time. So, I wouldn\\'t leave the collar on them any longer than it needs to be on.I also use rubber tips that came with it, not the metal screws. Before I put the collar on my dogs, after I had bad experience with other shock collar, I want to make sure this will not hurt the dog. So, I test the \\'low\\' shock on myself.  The shock gave me weird sensation and little uncomfortable enough to pay attention, but it didn\\'t hurt.  The vibration test was as I expected, it didn\\'t hurt at all. It\\'s just vibration.  But, I thought for the dogs, vibration maybe enough distraction to stop them from barking.After I test settings, adjust the collar, I charged both devices and it was ready.I went outside with my dogs, my neighbor came over to the fence and start talking.  As usual, my both dogs running toward to my neighbor in full force and start to bark.  This was first test this collar, so I was very curious to see if it would work, but I was nervous to push that remote also.  But, After just one push \\'V\\', both dogs stopped and I see the expression on both dogs \\'what was that?\" LOL  My neighbor couldn\\'t believe it.  Just like that, both dogs stopped barking. But they tried to bark again shortly after and I did push that \\'V\" again and they stopped barking. This time, they actually moved away from the fence and didn\\'t pay attention to my neighbor.  After few min, my other side of neighbor\\'s kid showed up and again, my both dogs running toward to the kid and start barking.  So, I push that \"V\" again and both dogs stop barking. This went on 2-3 times first day I used.  No Shock button was used, just vibration settings only.Next day, same routine, but my dog wasn\\'t too interested in running toward to neighbor.  This was the first time that I can remember that I can actually converse with my neighbor without interruption  from my dogs\\' barking. It really was nice change.  My dogs tried to bark, when they saw kids and other dogs near the fence, (you can see from their body language that they are going to bark in a second) but this time, I didn\\'t use the \\'V\", I just told them \"No Bark!\" and stopped and moved away.I got this collar about a week now and I only had to correct my dogs about 3-4 times with only \\'V\".  Last couple of days, I just have the collar on them and left the remote in the house.They don\\'t bark anymore like they used to and if they are starting to bark, just verbal correction was all they needed so far.  My goal is to train them not to bark on voice command even if they don\\'t wear the collar.If I have to wish this device can be modify are:1)  Shock Level \"L\" and \"H\" can be disabled by switch or something, so that I don\\'t accidently push the button.  So far, I haven\\'t push the \"L\" or \"H\" by accident, but button is right there below \\'V\" and I have to watch which button that I am pushing.2) Offer same device for smaller dogs. I made it to work for my dog, but if they offer for Toy breeds with smaller collar and device, it would have been nice.Overall, I love this collar.  It is possible that I can train my dogs not to bark.  But the best part is this device enable me to train my dog without hurting them.'"
      ]
     },
     "execution_count": 47,
     "metadata": {},
     "output_type": "execute_result"
    }
   ],
   "source": [
    "# Most negative review\n",
    "test_data[0]['reviewText']"
   ]
  },
  {
   "cell_type": "markdown",
   "metadata": {},
   "source": [
    "# Exploring Data 6/6: \n",
    "# TODO: Applying the learned model to discover insights on twitter"
   ]
  },
  {
   "cell_type": "markdown",
   "metadata": {},
   "source": [
    "## Tweets Extraction Phase: data preparation. \n",
    "### (desarrollado en el notebook Data Engineering)\n",
    "**Note:** \n",
    " - column text_clean with text cleaning developed in Data Engineering notebook"
   ]
  },
  {
   "cell_type": "code",
   "execution_count": 48,
   "metadata": {
    "collapsed": false
   },
   "outputs": [
    {
     "data": {
      "text/html": [
       "<pre>Unable to parse line \"\"11\",\"737913129292730368\",\"holy shit\"</pre>"
      ],
      "text/plain": [
       "Unable to parse line \"\"11\",\"737913129292730368\",\"holy shit\""
      ]
     },
     "metadata": {},
     "output_type": "display_data"
    },
    {
     "data": {
      "text/html": [
       "<pre>Unable to parse line \"@thebottlemen @ Webster Hall https://t.co/9Gh0dnaEih\",\"Wed Jun 01 07:46:14 +0000 2016\",\"40.7319055\",\"-73.9896578\",\"Manhattan, NY\",\"holy shit thebottlemen webster hall http tco9gh0dnaeih\"\"</pre>"
      ],
      "text/plain": [
       "Unable to parse line \"@thebottlemen @ Webster Hall https://t.co/9Gh0dnaEih\",\"Wed Jun 01 07:46:14 +0000 2016\",\"40.7319055\",\"-73.9896578\",\"Manhattan, NY\",\"holy shit thebottlemen webster hall http tco9gh0dnaeih\"\""
      ]
     },
     "metadata": {},
     "output_type": "display_data"
    },
    {
     "data": {
      "text/html": [
       "<pre>Unable to parse line \"\"50\",\"737913394355941376\",\"still awake\"</pre>"
      ],
      "text/plain": [
       "Unable to parse line \"\"50\",\"737913394355941376\",\"still awake\""
      ]
     },
     "metadata": {},
     "output_type": "display_data"
    },
    {
     "data": {
      "text/html": [
       "<pre>Unable to parse line \"Help\",\"Wed Jun 01 07:47:17 +0000 2016\",\"40.86898882\",\"-73.89397491\",\"Bronx, NY\",\"still awake help\"\"</pre>"
      ],
      "text/plain": [
       "Unable to parse line \"Help\",\"Wed Jun 01 07:47:17 +0000 2016\",\"40.86898882\",\"-73.89397491\",\"Bronx, NY\",\"still awake help\"\""
      ]
     },
     "metadata": {},
     "output_type": "display_data"
    },
    {
     "data": {
      "text/html": [
       "<pre>Unable to parse line \"\"74\",\"737913609787977728\",\"moderate rain -&gt; mist\"</pre>"
      ],
      "text/plain": [
       "Unable to parse line \"\"74\",\"737913609787977728\",\"moderate rain -&gt; mist\""
      ]
     },
     "metadata": {},
     "output_type": "display_data"
    },
    {
     "data": {
      "text/html": [
       "<pre>Unable to parse line \"humidity down 100% -&gt; 88%\"</pre>"
      ],
      "text/plain": [
       "Unable to parse line \"humidity down 100% -&gt; 88%\""
      ]
     },
     "metadata": {},
     "output_type": "display_data"
    },
    {
     "data": {
      "text/html": [
       "<pre>Unable to parse line \"wind 5mph -&gt; 6mph\",\"Wed Jun 01 07:48:09 +0000 2016\",\"44.96\",\"-89.63\",\"Wausau, WI\",\"moderate rain gt mist humidity 100 gt 88 wind 5mph gt 6mph\"\"</pre>"
      ],
      "text/plain": [
       "Unable to parse line \"wind 5mph -&gt; 6mph\",\"Wed Jun 01 07:48:09 +0000 2016\",\"44.96\",\"-89.63\",\"Wausau, WI\",\"moderate rain gt mist humidity 100 gt 88 wind 5mph gt 6mph\"\""
      ]
     },
     "metadata": {},
     "output_type": "display_data"
    },
    {
     "data": {
      "text/html": [
       "<pre>Unable to parse line \"\"97\",\"737913775223885824\",\"$649,000 - 25 Gable Ct, San Rafael, CA 94903: \"</pre>"
      ],
      "text/plain": [
       "Unable to parse line \"\"97\",\"737913775223885824\",\"$649,000 - 25 Gable Ct, San Rafael, CA 94903: \""
      ]
     },
     "metadata": {},
     "output_type": "display_data"
    },
    {
     "data": {
      "text/html": [
       "<pre>Unable to parse line \"Next Open House: June 4, 2016\"</pre>"
      ],
      "text/plain": [
       "Unable to parse line \"Next Open House: June 4, 2016\""
      ]
     },
     "metadata": {},
     "output_type": "display_data"
    },
    {
     "data": {
      "text/html": [
       "<pre>Unable to parse line \"Updated: the open ho... https://t.co/Gob4dXnDEF #marinhomes\",\"Wed Jun 01 07:48:48 +0000 2016\",\"38.003638\",\"-122.535809\",\"San Rafael, CA\",\"649000 25 gable ct san rafael ca 94903 next open house june 4 2016 updated open ho http tcogob4dxndef marinhomes\"\"</pre>"
      ],
      "text/plain": [
       "Unable to parse line \"Updated: the open ho... https://t.co/Gob4dXnDEF #marinhomes\",\"Wed Jun 01 07:48:48 +0000 2016\",\"38.003638\",\"-122.535809\",\"San Rafael, CA\",\"649000 25 gable ct san rafael ca 94903 next open house june 4 2016 updated open ho http tcogob4dxndef marinhomes\"\""
      ]
     },
     "metadata": {},
     "output_type": "display_data"
    },
    {
     "data": {
      "text/html": [
       "<pre>924 lines failed to parse correctly</pre>"
      ],
      "text/plain": [
       "924 lines failed to parse correctly"
      ]
     },
     "metadata": {},
     "output_type": "display_data"
    },
    {
     "data": {
      "text/html": [
       "<pre>Finished parsing file /home/dsc/Repositories/ProyectoFinMasterDataScience/us_tweets.csv</pre>"
      ],
      "text/plain": [
       "Finished parsing file /home/dsc/Repositories/ProyectoFinMasterDataScience/us_tweets.csv"
      ]
     },
     "metadata": {},
     "output_type": "display_data"
    },
    {
     "data": {
      "text/html": [
       "<pre>Parsing completed. Parsed 100 lines in 0.251936 secs.</pre>"
      ],
      "text/plain": [
       "Parsing completed. Parsed 100 lines in 0.251936 secs."
      ]
     },
     "metadata": {},
     "output_type": "display_data"
    },
    {
     "data": {
      "text/html": [
       "<pre>Unable to parse line \"\"11\",\"737913129292730368\",\"holy shit\"</pre>"
      ],
      "text/plain": [
       "Unable to parse line \"\"11\",\"737913129292730368\",\"holy shit\""
      ]
     },
     "metadata": {},
     "output_type": "display_data"
    },
    {
     "data": {
      "text/html": [
       "<pre>Unable to parse line \"@thebottlemen @ Webster Hall https://t.co/9Gh0dnaEih\",\"Wed Jun 01 07:46:14 +0000 2016\",\"40.7319055\",\"-73.9896578\",\"Manhattan, NY\",\"holy shit thebottlemen webster hall http tco9gh0dnaeih\"\"</pre>"
      ],
      "text/plain": [
       "Unable to parse line \"@thebottlemen @ Webster Hall https://t.co/9Gh0dnaEih\",\"Wed Jun 01 07:46:14 +0000 2016\",\"40.7319055\",\"-73.9896578\",\"Manhattan, NY\",\"holy shit thebottlemen webster hall http tco9gh0dnaeih\"\""
      ]
     },
     "metadata": {},
     "output_type": "display_data"
    },
    {
     "data": {
      "text/html": [
       "<pre>Unable to parse line \"\"50\",\"737913394355941376\",\"still awake\"</pre>"
      ],
      "text/plain": [
       "Unable to parse line \"\"50\",\"737913394355941376\",\"still awake\""
      ]
     },
     "metadata": {},
     "output_type": "display_data"
    },
    {
     "data": {
      "text/html": [
       "<pre>Unable to parse line \"Help\",\"Wed Jun 01 07:47:17 +0000 2016\",\"40.86898882\",\"-73.89397491\",\"Bronx, NY\",\"still awake help\"\"</pre>"
      ],
      "text/plain": [
       "Unable to parse line \"Help\",\"Wed Jun 01 07:47:17 +0000 2016\",\"40.86898882\",\"-73.89397491\",\"Bronx, NY\",\"still awake help\"\""
      ]
     },
     "metadata": {},
     "output_type": "display_data"
    },
    {
     "data": {
      "text/html": [
       "<pre>Unable to parse line \"\"74\",\"737913609787977728\",\"moderate rain -&gt; mist\"</pre>"
      ],
      "text/plain": [
       "Unable to parse line \"\"74\",\"737913609787977728\",\"moderate rain -&gt; mist\""
      ]
     },
     "metadata": {},
     "output_type": "display_data"
    },
    {
     "data": {
      "text/html": [
       "<pre>Unable to parse line \"humidity down 100% -&gt; 88%\"</pre>"
      ],
      "text/plain": [
       "Unable to parse line \"humidity down 100% -&gt; 88%\""
      ]
     },
     "metadata": {},
     "output_type": "display_data"
    },
    {
     "data": {
      "text/html": [
       "<pre>Unable to parse line \"wind 5mph -&gt; 6mph\",\"Wed Jun 01 07:48:09 +0000 2016\",\"44.96\",\"-89.63\",\"Wausau, WI\",\"moderate rain gt mist humidity 100 gt 88 wind 5mph gt 6mph\"\"</pre>"
      ],
      "text/plain": [
       "Unable to parse line \"wind 5mph -&gt; 6mph\",\"Wed Jun 01 07:48:09 +0000 2016\",\"44.96\",\"-89.63\",\"Wausau, WI\",\"moderate rain gt mist humidity 100 gt 88 wind 5mph gt 6mph\"\""
      ]
     },
     "metadata": {},
     "output_type": "display_data"
    },
    {
     "data": {
      "text/html": [
       "<pre>Unable to parse line \"\"97\",\"737913775223885824\",\"$649,000 - 25 Gable Ct, San Rafael, CA 94903: \"</pre>"
      ],
      "text/plain": [
       "Unable to parse line \"\"97\",\"737913775223885824\",\"$649,000 - 25 Gable Ct, San Rafael, CA 94903: \""
      ]
     },
     "metadata": {},
     "output_type": "display_data"
    },
    {
     "data": {
      "text/html": [
       "<pre>Unable to parse line \"Next Open House: June 4, 2016\"</pre>"
      ],
      "text/plain": [
       "Unable to parse line \"Next Open House: June 4, 2016\""
      ]
     },
     "metadata": {},
     "output_type": "display_data"
    },
    {
     "data": {
      "text/html": [
       "<pre>Unable to parse line \"Updated: the open ho... https://t.co/Gob4dXnDEF #marinhomes\",\"Wed Jun 01 07:48:48 +0000 2016\",\"38.003638\",\"-122.535809\",\"San Rafael, CA\",\"649000 25 gable ct san rafael ca 94903 next open house june 4 2016 updated open ho http tcogob4dxndef marinhomes\"\"</pre>"
      ],
      "text/plain": [
       "Unable to parse line \"Updated: the open ho... https://t.co/Gob4dXnDEF #marinhomes\",\"Wed Jun 01 07:48:48 +0000 2016\",\"38.003638\",\"-122.535809\",\"San Rafael, CA\",\"649000 25 gable ct san rafael ca 94903 next open house june 4 2016 updated open ho http tcogob4dxndef marinhomes\"\""
      ]
     },
     "metadata": {},
     "output_type": "display_data"
    },
    {
     "data": {
      "text/html": [
       "<pre>930 lines failed to parse correctly</pre>"
      ],
      "text/plain": [
       "930 lines failed to parse correctly"
      ]
     },
     "metadata": {},
     "output_type": "display_data"
    },
    {
     "data": {
      "text/html": [
       "<pre>Finished parsing file /home/dsc/Repositories/ProyectoFinMasterDataScience/us_tweets.csv</pre>"
      ],
      "text/plain": [
       "Finished parsing file /home/dsc/Repositories/ProyectoFinMasterDataScience/us_tweets.csv"
      ]
     },
     "metadata": {},
     "output_type": "display_data"
    },
    {
     "data": {
      "text/html": [
       "<pre>Parsing completed. Parsed 5623 lines in 0.071426 secs.</pre>"
      ],
      "text/plain": [
       "Parsing completed. Parsed 5623 lines in 0.071426 secs."
      ]
     },
     "metadata": {},
     "output_type": "display_data"
    },
    {
     "name": "stdout",
     "output_type": "stream",
     "text": [
      "------------------------------------------------------\n",
      "Inferred types from first 100 line(s) of file as \n",
      "column_type_hints=[int,int,str,str,float,float,str,str]\n",
      "If parsing fails due to incorrect types, you can correct\n",
      "the inferred type list above and pass it to read_csv in\n",
      "the column_type_hints argument\n",
      "------------------------------------------------------\n"
     ]
    }
   ],
   "source": [
    "tweets_data = sframe.SFrame('us_tweets.csv')"
   ]
  },
  {
   "cell_type": "code",
   "execution_count": 49,
   "metadata": {
    "collapsed": false
   },
   "outputs": [
    {
     "data": {
      "text/plain": [
       "5623"
      ]
     },
     "execution_count": 49,
     "metadata": {},
     "output_type": "execute_result"
    }
   ],
   "source": [
    "len(tweets_data)"
   ]
  },
  {
   "cell_type": "code",
   "execution_count": 50,
   "metadata": {
    "collapsed": false
   },
   "outputs": [
    {
     "data": {
      "text/plain": [
       "<bound method SFrame.column_names of Columns:\n",
       "\tX1\tint\n",
       "\ttweet_id\tint\n",
       "\ttweet_text\tstr\n",
       "\ttweet_created_at\tstr\n",
       "\ttweet_geo_lat\tfloat\n",
       "\ttweet_geo_lon\tfloat\n",
       "\ttweet_city\tstr\n",
       "\ttext_clean\tstr\n",
       "\n",
       "Rows: 5623\n",
       "\n",
       "Data:\n",
       "+----+--------------------+-------------------------------+\n",
       "| X1 |      tweet_id      |           tweet_text          |\n",
       "+----+--------------------+-------------------------------+\n",
       "| 0  | 737913052050423808 | Supplemental Health Care #... |\n",
       "| 1  | 737913053119959040 | Can you recommend anyone f... |\n",
       "| 2  | 737913055338713089 |    https://t.co/DZVgUmv8ZQ    |\n",
       "| 6  | 737913086837940226 | HCR108 [Passed] Requests t... |\n",
       "| 7  | 737913096543588352 | SB64 [Vetoed] Baltimore Co... |\n",
       "| 8  | 737913098217132032 | Just posted a video @ Rol-... |\n",
       "| 9  | 737913106752540672 | HB349 [Passed] Baltimore C... |\n",
       "| 12 | 737913131683446784 | Website Hacks to Trap more... |\n",
       "| 13 | 737913141993078784 | I'm at C-View Inn in Cape ... |\n",
       "| 14 | 737913142232162304 | geo e92dc4e56c6b97210b3383... |\n",
       "+----+--------------------+-------------------------------+\n",
       "+--------------------------------+---------------+---------------+\n",
       "|        tweet_created_at        | tweet_geo_lat | tweet_geo_lon |\n",
       "+--------------------------------+---------------+---------------+\n",
       "| Wed Jun 01 07:45:56 +0000 2016 |   37.8646149  |  -122.2341905 |\n",
       "| Wed Jun 01 07:45:56 +0000 2016 |   34.0522342  |  -118.2436849 |\n",
       "| Wed Jun 01 07:45:56 +0000 2016 |  37.69944509  | -123.01210475 |\n",
       "| Wed Jun 01 07:46:04 +0000 2016 |   30.456615   |   -91.187356  |\n",
       "| Wed Jun 01 07:46:06 +0000 2016 |   38.978862   |   -76.490685  |\n",
       "| Wed Jun 01 07:46:07 +0000 2016 |    25.88414   |   -80.24274   |\n",
       "| Wed Jun 01 07:46:09 +0000 2016 |   38.978862   |   -76.490685  |\n",
       "| Wed Jun 01 07:46:15 +0000 2016 |  47.07947453  | -120.00366211 |\n",
       "| Wed Jun 01 07:46:17 +0000 2016 |  38.94637803  |  -74.91018722 |\n",
       "| Wed Jun 01 07:46:17 +0000 2016 |   37.781157   |   -122.39872  |\n",
       "+--------------------------------+---------------+---------------+\n",
       "+-------------------+-------------------------------+\n",
       "|     tweet_city    |           text_clean          |\n",
       "+-------------------+-------------------------------+\n",
       "|    Oakland, CA    | supplemental health care h... |\n",
       "|  Los Angeles, CA  | can recommend anyone nursi... |\n",
       "|  California, USA  |       http tcodzvgumv8zq      |\n",
       "|  Baton Rouge, LA  | hcr108 passed requests dep... |\n",
       "|   Annapolis, MD   | sb64 vetoed baltimore coun... |\n",
       "|    Westview, FL   | just posted video rollexx ... |\n",
       "|   Annapolis, MD   | hb349 passed baltimore cou... |\n",
       "|  Washington, USA  | website hacks trap leads i... |\n",
       "|    Cape May, NJ   | i m cview inn cape may nj ... |\n",
       "| San Francisco, CA | geo e92dc4e56c6b97210b3383... |\n",
       "+-------------------+-------------------------------+\n",
       "[5623 rows x 8 columns]\n",
       "Note: Only the head of the SFrame is printed.\n",
       "You can use print_rows(num_rows=m, num_columns=n) to print more rows and columns.>"
      ]
     },
     "execution_count": 50,
     "metadata": {},
     "output_type": "execute_result"
    }
   ],
   "source": [
    "tweets_data.column_names"
   ]
  },
  {
   "cell_type": "code",
   "execution_count": 51,
   "metadata": {
    "collapsed": false
   },
   "outputs": [],
   "source": [
    "for word in important_words:\n",
    "    tweets_data[word] = tweets_data['text_clean'].apply(lambda s : s.split().count(word))"
   ]
  },
  {
   "cell_type": "code",
   "execution_count": 52,
   "metadata": {
    "collapsed": true
   },
   "outputs": [],
   "source": [
    "# We need to convert test_data into the sparse matrix format first.\n",
    "# Warning: This may take a few minutes...\n",
    "tweets_feature_matrix  = get_numpy_feature_matrix(tweets_data, important_words) "
   ]
  },
  {
   "cell_type": "code",
   "execution_count": 53,
   "metadata": {
    "collapsed": true
   },
   "outputs": [],
   "source": [
    "# Step 1: Compute the scores as a dot product between feature_matrix and coefficients.\n",
    "scores = np.dot(tweets_feature_matrix, sentiment_model_coefficients)"
   ]
  },
  {
   "cell_type": "code",
   "execution_count": 54,
   "metadata": {
    "collapsed": true
   },
   "outputs": [],
   "source": [
    "tweets_data['predicted_sentiment'] = scores"
   ]
  },
  {
   "cell_type": "markdown",
   "metadata": {},
   "source": [
    "## Export to json array to d3 visualization"
   ]
  },
  {
   "cell_type": "markdown",
   "metadata": {},
   "source": [
    "## Most positive tweets"
   ]
  },
  {
   "cell_type": "code",
   "execution_count": 55,
   "metadata": {
    "collapsed": true
   },
   "outputs": [],
   "source": [
    "tweets_data = tweets_data.sort('predicted_sentiment', ascending=False)"
   ]
  },
  {
   "cell_type": "code",
   "execution_count": 56,
   "metadata": {
    "collapsed": false
   },
   "outputs": [
    {
     "data": {
      "text/html": [
       "<div style=\"max-height:1000px;max-width:1500px;overflow:auto;\"><table frame=\"box\" rules=\"cols\">\n",
       "    <tr>\n",
       "        <th style=\"padding-left: 1em; padding-right: 1em; text-align: center\">tweet_id</th>\n",
       "        <th style=\"padding-left: 1em; padding-right: 1em; text-align: center\">predicted_sentiment</th>\n",
       "        <th style=\"padding-left: 1em; padding-right: 1em; text-align: center\">tweet_text</th>\n",
       "        <th style=\"padding-left: 1em; padding-right: 1em; text-align: center\">tweet_geo_lat</th>\n",
       "        <th style=\"padding-left: 1em; padding-right: 1em; text-align: center\">tweet_geo_lon</th>\n",
       "    </tr>\n",
       "    <tr>\n",
       "        <td style=\"padding-left: 1em; padding-right: 1em; text-align: center; vertical-align: top\">737923350970929152</td>\n",
       "        <td style=\"padding-left: 1em; padding-right: 1em; text-align: center; vertical-align: top\">0.349616680061</td>\n",
       "        <td style=\"padding-left: 1em; padding-right: 1em; text-align: center; vertical-align: top\">One cannot think well,<br>love well, sleep well ...</td>\n",
       "        <td style=\"padding-left: 1em; padding-right: 1em; text-align: center; vertical-align: top\">37.69894361</td>\n",
       "        <td style=\"padding-left: 1em; padding-right: 1em; text-align: center; vertical-align: top\">-123.01177393</td>\n",
       "    </tr>\n",
       "    <tr>\n",
       "        <td style=\"padding-left: 1em; padding-right: 1em; text-align: center; vertical-align: top\">737945729784786944</td>\n",
       "        <td style=\"padding-left: 1em; padding-right: 1em; text-align: center; vertical-align: top\">0.173955399084</td>\n",
       "        <td style=\"padding-left: 1em; padding-right: 1em; text-align: center; vertical-align: top\">Happy Birthday to the<br>best most beautiful sis ...</td>\n",
       "        <td style=\"padding-left: 1em; padding-right: 1em; text-align: center; vertical-align: top\">40.75224945</td>\n",
       "        <td style=\"padding-left: 1em; padding-right: 1em; text-align: center; vertical-align: top\">-73.93153195</td>\n",
       "    </tr>\n",
       "</table>\n",
       "<table frame=\"box\" rules=\"cols\">\n",
       "    <tr>\n",
       "        <th style=\"padding-left: 1em; padding-right: 1em; text-align: center\">tweet_city</th>\n",
       "    </tr>\n",
       "    <tr>\n",
       "        <td style=\"padding-left: 1em; padding-right: 1em; text-align: center; vertical-align: top\">California, USA</td>\n",
       "    </tr>\n",
       "    <tr>\n",
       "        <td style=\"padding-left: 1em; padding-right: 1em; text-align: center; vertical-align: top\">Queens, NY</td>\n",
       "    </tr>\n",
       "</table>\n",
       "[2 rows x 6 columns]<br/>\n",
       "</div>"
      ],
      "text/plain": [
       "Columns:\n",
       "\ttweet_id\tint\n",
       "\tpredicted_sentiment\tfloat\n",
       "\ttweet_text\tstr\n",
       "\ttweet_geo_lat\tfloat\n",
       "\ttweet_geo_lon\tfloat\n",
       "\ttweet_city\tstr\n",
       "\n",
       "Rows: 2\n",
       "\n",
       "Data:\n",
       "+--------------------+---------------------+-------------------------------+\n",
       "|      tweet_id      | predicted_sentiment |           tweet_text          |\n",
       "+--------------------+---------------------+-------------------------------+\n",
       "| 737923350970929152 |    0.349616680061   | One cannot think well, lov... |\n",
       "| 737945729784786944 |    0.173955399084   | Happy Birthday to the best... |\n",
       "+--------------------+---------------------+-------------------------------+\n",
       "+---------------+---------------+-----------------+\n",
       "| tweet_geo_lat | tweet_geo_lon |    tweet_city   |\n",
       "+---------------+---------------+-----------------+\n",
       "|  37.69894361  | -123.01177393 | California, USA |\n",
       "|  40.75224945  |  -73.93153195 |    Queens, NY   |\n",
       "+---------------+---------------+-----------------+\n",
       "[2 rows x 6 columns]"
      ]
     },
     "execution_count": 56,
     "metadata": {},
     "output_type": "execute_result"
    }
   ],
   "source": [
    "tweets_data[['tweet_id','predicted_sentiment','tweet_text','tweet_geo_lat','tweet_geo_lon','tweet_city']][0:2]"
   ]
  },
  {
   "cell_type": "code",
   "execution_count": 57,
   "metadata": {
    "collapsed": false
   },
   "outputs": [],
   "source": [
    "positive_tweets_data = tweets_data[['tweet_id','predicted_sentiment','tweet_text','tweet_geo_lat','tweet_geo_lon','tweet_city']][0:15]"
   ]
  },
  {
   "cell_type": "code",
   "execution_count": 58,
   "metadata": {
    "collapsed": true
   },
   "outputs": [],
   "source": [
    "positive_tweets_data.export_json('d3/data/USA-positive.json')"
   ]
  },
  {
   "cell_type": "markdown",
   "metadata": {},
   "source": [
    "## Most negative tweets"
   ]
  },
  {
   "cell_type": "code",
   "execution_count": 59,
   "metadata": {
    "collapsed": false
   },
   "outputs": [],
   "source": [
    "tweets_data = tweets_data.sort('predicted_sentiment', ascending=True)"
   ]
  },
  {
   "cell_type": "code",
   "execution_count": 60,
   "metadata": {
    "collapsed": false
   },
   "outputs": [
    {
     "data": {
      "text/html": [
       "<div style=\"max-height:1000px;max-width:1500px;overflow:auto;\"><table frame=\"box\" rules=\"cols\">\n",
       "    <tr>\n",
       "        <th style=\"padding-left: 1em; padding-right: 1em; text-align: center\">tweet_id</th>\n",
       "        <th style=\"padding-left: 1em; padding-right: 1em; text-align: center\">predicted_sentiment</th>\n",
       "        <th style=\"padding-left: 1em; padding-right: 1em; text-align: center\">tweet_text</th>\n",
       "        <th style=\"padding-left: 1em; padding-right: 1em; text-align: center\">tweet_geo_lat</th>\n",
       "        <th style=\"padding-left: 1em; padding-right: 1em; text-align: center\">tweet_geo_lon</th>\n",
       "    </tr>\n",
       "    <tr>\n",
       "        <td style=\"padding-left: 1em; padding-right: 1em; text-align: center; vertical-align: top\">737996088813211648</td>\n",
       "        <td style=\"padding-left: 1em; padding-right: 1em; text-align: center; vertical-align: top\">-0.179018505362</td>\n",
       "        <td style=\"padding-left: 1em; padding-right: 1em; text-align: center; vertical-align: top\">@BoxingIsBack<br>@NextBigFightPod i know ...</td>\n",
       "        <td style=\"padding-left: 1em; padding-right: 1em; text-align: center; vertical-align: top\">40.7122535</td>\n",
       "        <td style=\"padding-left: 1em; padding-right: 1em; text-align: center; vertical-align: top\">-73.6609331</td>\n",
       "    </tr>\n",
       "    <tr>\n",
       "        <td style=\"padding-left: 1em; padding-right: 1em; text-align: center; vertical-align: top\">737956294980710400</td>\n",
       "        <td style=\"padding-left: 1em; padding-right: 1em; text-align: center; vertical-align: top\">-0.120589857336</td>\n",
       "        <td style=\"padding-left: 1em; padding-right: 1em; text-align: center; vertical-align: top\">Rats! Too slow. I was<br>customer number 2. If ...</td>\n",
       "        <td style=\"padding-left: 1em; padding-right: 1em; text-align: center; vertical-align: top\">42.081468</td>\n",
       "        <td style=\"padding-left: 1em; padding-right: 1em; text-align: center; vertical-align: top\">-87.937746</td>\n",
       "    </tr>\n",
       "</table>\n",
       "<table frame=\"box\" rules=\"cols\">\n",
       "    <tr>\n",
       "        <th style=\"padding-left: 1em; padding-right: 1em; text-align: center\">tweet_city</th>\n",
       "    </tr>\n",
       "    <tr>\n",
       "        <td style=\"padding-left: 1em; padding-right: 1em; text-align: center; vertical-align: top\">Garden City South, NY</td>\n",
       "    </tr>\n",
       "    <tr>\n",
       "        <td style=\"padding-left: 1em; padding-right: 1em; text-align: center; vertical-align: top\">Mount Prospect, IL</td>\n",
       "    </tr>\n",
       "</table>\n",
       "[2 rows x 6 columns]<br/>\n",
       "</div>"
      ],
      "text/plain": [
       "Columns:\n",
       "\ttweet_id\tint\n",
       "\tpredicted_sentiment\tfloat\n",
       "\ttweet_text\tstr\n",
       "\ttweet_geo_lat\tfloat\n",
       "\ttweet_geo_lon\tfloat\n",
       "\ttweet_city\tstr\n",
       "\n",
       "Rows: 2\n",
       "\n",
       "Data:\n",
       "+--------------------+---------------------+-------------------------------+\n",
       "|      tweet_id      | predicted_sentiment |           tweet_text          |\n",
       "+--------------------+---------------------+-------------------------------+\n",
       "| 737996088813211648 |   -0.179018505362   | @BoxingIsBack @NextBigFigh... |\n",
       "| 737956294980710400 |   -0.120589857336   | Rats! Too slow. I was cust... |\n",
       "+--------------------+---------------------+-------------------------------+\n",
       "+---------------+---------------+-----------------------+\n",
       "| tweet_geo_lat | tweet_geo_lon |       tweet_city      |\n",
       "+---------------+---------------+-----------------------+\n",
       "|   40.7122535  |  -73.6609331  | Garden City South, NY |\n",
       "|   42.081468   |   -87.937746  |   Mount Prospect, IL  |\n",
       "+---------------+---------------+-----------------------+\n",
       "[2 rows x 6 columns]"
      ]
     },
     "execution_count": 60,
     "metadata": {},
     "output_type": "execute_result"
    }
   ],
   "source": [
    "tweets_data[['tweet_id','predicted_sentiment','tweet_text','tweet_geo_lat','tweet_geo_lon','tweet_city']][0:2]"
   ]
  },
  {
   "cell_type": "code",
   "execution_count": 61,
   "metadata": {
    "collapsed": false
   },
   "outputs": [],
   "source": [
    "negative_tweets_data = tweets_data[['tweet_id','predicted_sentiment','tweet_text','tweet_geo_lat','tweet_geo_lon','tweet_city']][0:15]"
   ]
  },
  {
   "cell_type": "code",
   "execution_count": 62,
   "metadata": {
    "collapsed": true
   },
   "outputs": [],
   "source": [
    "negative_tweets_data.export_json('d3/data/USA-negative.json')"
   ]
  },
  {
   "cell_type": "markdown",
   "metadata": {},
   "source": [
    "# Most positives and negatives tweets of EEUU dashboard"
   ]
  },
  {
   "cell_type": "code",
   "execution_count": 63,
   "metadata": {
    "collapsed": true
   },
   "outputs": [],
   "source": [
    "from IPython.display import IFrame\n",
    "\n",
    "def serve_html():\n",
    "    fn= './d3/html/tweets_map.html'\n",
    "    return IFrame(fn, 985, 570)"
   ]
  },
  {
   "cell_type": "code",
   "execution_count": 64,
   "metadata": {
    "collapsed": false
   },
   "outputs": [
    {
     "data": {
      "text/html": [
       "\n",
       "        <iframe\n",
       "            width=\"985\"\n",
       "            height=\"570\"\n",
       "            src=\"./d3/html/tweets_map.html\"\n",
       "            frameborder=\"0\"\n",
       "            allowfullscreen\n",
       "        ></iframe>\n",
       "        "
      ],
      "text/plain": [
       "<IPython.lib.display.IFrame at 0x7f8bc1ac0d50>"
      ]
     },
     "execution_count": 64,
     "metadata": {},
     "output_type": "execute_result"
    }
   ],
   "source": [
    "serve_html()"
   ]
  },
  {
   "cell_type": "code",
   "execution_count": null,
   "metadata": {
    "collapsed": true
   },
   "outputs": [],
   "source": []
  }
 ],
 "metadata": {
  "kernelspec": {
   "display_name": "Python 2",
   "language": "python",
   "name": "python2"
  },
  "language_info": {
   "codemirror_mode": {
    "name": "ipython",
    "version": 2
   },
   "file_extension": ".py",
   "mimetype": "text/x-python",
   "name": "python",
   "nbconvert_exporter": "python",
   "pygments_lexer": "ipython2",
   "version": "2.7.10"
  }
 },
 "nbformat": 4,
 "nbformat_minor": 0
}
